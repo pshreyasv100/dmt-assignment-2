{
 "cells": [
  {
   "cell_type": "code",
   "execution_count": 57,
   "id": "4cd8fe33",
   "metadata": {},
   "outputs": [],
   "source": [
    "import pandas as pd\n",
    "import seaborn as sns\n",
    "import re\n",
    "import matplotlib.pyplot as plt\n",
    "import numpy as np\n",
    "\n",
    "from sklearn.preprocessing import MinMaxScaler\n",
    "from sklearn.model_selection import train_test_split\n",
    "\n",
    "from sklearn.ensemble import RandomForestClassifier \n",
    "from sklearn.tree import DecisionTreeClassifier\n",
    "\n",
    "from sklearn.model_selection import train_test_split\n",
    "from sklearn.model_selection import GridSearchCV\n",
    "from sklearn import preprocessing\n",
    "from sklearn.preprocessing import LabelEncoder\n",
    "from sklearn.neighbors import NearestNeighbors\n",
    "from sklearn.metrics import accuracy_score"
   ]
  },
  {
   "cell_type": "code",
   "execution_count": 58,
   "id": "e57d7491",
   "metadata": {},
   "outputs": [
    {
     "data": {
      "text/html": [
       "<div>\n",
       "<style scoped>\n",
       "    .dataframe tbody tr th:only-of-type {\n",
       "        vertical-align: middle;\n",
       "    }\n",
       "\n",
       "    .dataframe tbody tr th {\n",
       "        vertical-align: top;\n",
       "    }\n",
       "\n",
       "    .dataframe thead th {\n",
       "        text-align: right;\n",
       "    }\n",
       "</style>\n",
       "<table border=\"1\" class=\"dataframe\">\n",
       "  <thead>\n",
       "    <tr style=\"text-align: right;\">\n",
       "      <th></th>\n",
       "      <th>srch_id</th>\n",
       "      <th>site_id</th>\n",
       "      <th>visitor_location_country_id</th>\n",
       "      <th>prop_country_id</th>\n",
       "      <th>prop_id</th>\n",
       "      <th>prop_starrating</th>\n",
       "      <th>prop_brand_bool</th>\n",
       "      <th>prop_location_score1</th>\n",
       "      <th>prop_log_historical_price</th>\n",
       "      <th>position</th>\n",
       "      <th>...</th>\n",
       "      <th>srch_length_of_stay</th>\n",
       "      <th>srch_booking_window</th>\n",
       "      <th>srch_adults_count</th>\n",
       "      <th>srch_children_count</th>\n",
       "      <th>srch_room_count</th>\n",
       "      <th>srch_saturday_night_bool</th>\n",
       "      <th>random_bool</th>\n",
       "      <th>click_bool</th>\n",
       "      <th>booking_bool</th>\n",
       "      <th>month</th>\n",
       "    </tr>\n",
       "  </thead>\n",
       "  <tbody>\n",
       "    <tr>\n",
       "      <th>0</th>\n",
       "      <td>1</td>\n",
       "      <td>0</td>\n",
       "      <td>0</td>\n",
       "      <td>1</td>\n",
       "      <td>893</td>\n",
       "      <td>3</td>\n",
       "      <td>1</td>\n",
       "      <td>2.83</td>\n",
       "      <td>4.95</td>\n",
       "      <td>27</td>\n",
       "      <td>...</td>\n",
       "      <td>1</td>\n",
       "      <td>0</td>\n",
       "      <td>4</td>\n",
       "      <td>0</td>\n",
       "      <td>1</td>\n",
       "      <td>1</td>\n",
       "      <td>1</td>\n",
       "      <td>0</td>\n",
       "      <td>0</td>\n",
       "      <td>4</td>\n",
       "    </tr>\n",
       "    <tr>\n",
       "      <th>1</th>\n",
       "      <td>1</td>\n",
       "      <td>0</td>\n",
       "      <td>0</td>\n",
       "      <td>1</td>\n",
       "      <td>10404</td>\n",
       "      <td>4</td>\n",
       "      <td>1</td>\n",
       "      <td>2.20</td>\n",
       "      <td>5.03</td>\n",
       "      <td>26</td>\n",
       "      <td>...</td>\n",
       "      <td>1</td>\n",
       "      <td>0</td>\n",
       "      <td>4</td>\n",
       "      <td>0</td>\n",
       "      <td>1</td>\n",
       "      <td>1</td>\n",
       "      <td>1</td>\n",
       "      <td>0</td>\n",
       "      <td>0</td>\n",
       "      <td>4</td>\n",
       "    </tr>\n",
       "    <tr>\n",
       "      <th>2</th>\n",
       "      <td>1</td>\n",
       "      <td>0</td>\n",
       "      <td>0</td>\n",
       "      <td>1</td>\n",
       "      <td>21315</td>\n",
       "      <td>3</td>\n",
       "      <td>1</td>\n",
       "      <td>2.20</td>\n",
       "      <td>4.92</td>\n",
       "      <td>21</td>\n",
       "      <td>...</td>\n",
       "      <td>1</td>\n",
       "      <td>0</td>\n",
       "      <td>4</td>\n",
       "      <td>0</td>\n",
       "      <td>1</td>\n",
       "      <td>1</td>\n",
       "      <td>1</td>\n",
       "      <td>0</td>\n",
       "      <td>0</td>\n",
       "      <td>4</td>\n",
       "    </tr>\n",
       "    <tr>\n",
       "      <th>3</th>\n",
       "      <td>1</td>\n",
       "      <td>0</td>\n",
       "      <td>0</td>\n",
       "      <td>1</td>\n",
       "      <td>27348</td>\n",
       "      <td>2</td>\n",
       "      <td>1</td>\n",
       "      <td>2.83</td>\n",
       "      <td>4.39</td>\n",
       "      <td>34</td>\n",
       "      <td>...</td>\n",
       "      <td>1</td>\n",
       "      <td>0</td>\n",
       "      <td>4</td>\n",
       "      <td>0</td>\n",
       "      <td>1</td>\n",
       "      <td>1</td>\n",
       "      <td>1</td>\n",
       "      <td>0</td>\n",
       "      <td>0</td>\n",
       "      <td>4</td>\n",
       "    </tr>\n",
       "    <tr>\n",
       "      <th>4</th>\n",
       "      <td>1</td>\n",
       "      <td>0</td>\n",
       "      <td>0</td>\n",
       "      <td>1</td>\n",
       "      <td>29604</td>\n",
       "      <td>4</td>\n",
       "      <td>1</td>\n",
       "      <td>2.64</td>\n",
       "      <td>4.93</td>\n",
       "      <td>4</td>\n",
       "      <td>...</td>\n",
       "      <td>1</td>\n",
       "      <td>0</td>\n",
       "      <td>4</td>\n",
       "      <td>0</td>\n",
       "      <td>1</td>\n",
       "      <td>1</td>\n",
       "      <td>1</td>\n",
       "      <td>0</td>\n",
       "      <td>0</td>\n",
       "      <td>4</td>\n",
       "    </tr>\n",
       "  </tbody>\n",
       "</table>\n",
       "<p>5 rows × 23 columns</p>\n",
       "</div>"
      ],
      "text/plain": [
       "   srch_id  site_id  visitor_location_country_id  prop_country_id  prop_id  \\\n",
       "0        1        0                            0                1      893   \n",
       "1        1        0                            0                1    10404   \n",
       "2        1        0                            0                1    21315   \n",
       "3        1        0                            0                1    27348   \n",
       "4        1        0                            0                1    29604   \n",
       "\n",
       "   prop_starrating  prop_brand_bool  prop_location_score1  \\\n",
       "0                3                1                  2.83   \n",
       "1                4                1                  2.20   \n",
       "2                3                1                  2.20   \n",
       "3                2                1                  2.83   \n",
       "4                4                1                  2.64   \n",
       "\n",
       "   prop_log_historical_price  position  ...  srch_length_of_stay  \\\n",
       "0                       4.95        27  ...                    1   \n",
       "1                       5.03        26  ...                    1   \n",
       "2                       4.92        21  ...                    1   \n",
       "3                       4.39        34  ...                    1   \n",
       "4                       4.93         4  ...                    1   \n",
       "\n",
       "   srch_booking_window  srch_adults_count  srch_children_count  \\\n",
       "0                    0                  4                    0   \n",
       "1                    0                  4                    0   \n",
       "2                    0                  4                    0   \n",
       "3                    0                  4                    0   \n",
       "4                    0                  4                    0   \n",
       "\n",
       "   srch_room_count  srch_saturday_night_bool  random_bool  click_bool  \\\n",
       "0                1                         1            1           0   \n",
       "1                1                         1            1           0   \n",
       "2                1                         1            1           0   \n",
       "3                1                         1            1           0   \n",
       "4                1                         1            1           0   \n",
       "\n",
       "   booking_bool  month  \n",
       "0             0      4  \n",
       "1             0      4  \n",
       "2             0      4  \n",
       "3             0      4  \n",
       "4             0      4  \n",
       "\n",
       "[5 rows x 23 columns]"
      ]
     },
     "execution_count": 58,
     "metadata": {},
     "output_type": "execute_result"
    }
   ],
   "source": [
    "df = pd.read_csv('training_preprocessed.csv')[:50000]\n",
    "df.head()"
   ]
  },
  {
   "cell_type": "code",
   "execution_count": 59,
   "id": "4fb341cd",
   "metadata": {},
   "outputs": [
    {
     "data": {
      "text/plain": [
       "Index(['srch_id', 'site_id', 'visitor_location_country_id', 'prop_country_id',\n",
       "       'prop_id', 'prop_starrating', 'prop_brand_bool', 'prop_location_score1',\n",
       "       'prop_log_historical_price', 'position', 'price_usd', 'promotion_flag',\n",
       "       'srch_destination_id', 'srch_length_of_stay', 'srch_booking_window',\n",
       "       'srch_adults_count', 'srch_children_count', 'srch_room_count',\n",
       "       'srch_saturday_night_bool', 'random_bool', 'click_bool', 'booking_bool',\n",
       "       'month'],\n",
       "      dtype='object')"
      ]
     },
     "execution_count": 59,
     "metadata": {},
     "output_type": "execute_result"
    }
   ],
   "source": [
    "df.columns"
   ]
  },
  {
   "cell_type": "code",
   "execution_count": 60,
   "id": "fb2cdd10",
   "metadata": {},
   "outputs": [],
   "source": [
    "X = df.drop(['booking_bool','position','random_bool','prop_id'], axis=1)\n",
    "y = df['booking_bool']"
   ]
  },
  {
   "cell_type": "code",
   "execution_count": 61,
   "id": "db4fc68b",
   "metadata": {},
   "outputs": [],
   "source": [
    "X_train, X_test, y_train, y_test = train_test_split(X, y, test_size=0.2, random_state=42)"
   ]
  },
  {
   "cell_type": "code",
   "execution_count": 62,
   "id": "b20d3002",
   "metadata": {},
   "outputs": [],
   "source": [
    "# save click_bool and srch_id from test\n",
    "click_list = X_test['click_bool']\n",
    "srchid_list = X_test['srch_id']\n",
    "\n",
    "\n",
    "# remove click_bool and srch_id from train and test\n",
    "X_train = X_train.drop(['click_bool', 'srch_id'], axis=1)\n",
    "X_test = X_test.drop(['click_bool', 'srch_id'], axis=1)"
   ]
  },
  {
   "cell_type": "code",
   "execution_count": 63,
   "id": "4a34b91f",
   "metadata": {},
   "outputs": [],
   "source": [
    "# Instantiate the NearestNeighbors model with the desired number of neighbors (k)\n",
    "k = 5  # Set the desired number of neighbors\n",
    "knn = NearestNeighbors(n_neighbors=k)"
   ]
  },
  {
   "cell_type": "code",
   "execution_count": 64,
   "id": "2b4dcaf7",
   "metadata": {},
   "outputs": [
    {
     "data": {
      "text/plain": [
       "NearestNeighbors()"
      ]
     },
     "execution_count": 64,
     "metadata": {},
     "output_type": "execute_result"
    }
   ],
   "source": [
    "# Fit the model to the training data\n",
    "knn.fit(X_train, y_train)"
   ]
  },
  {
   "cell_type": "code",
   "execution_count": 65,
   "id": "f7cdad22",
   "metadata": {},
   "outputs": [],
   "source": [
    "# Find the k nearest neighbors for each sample in the testing set\n",
    "distances, indices = knn.kneighbors(X_test)\n",
    "\n",
    "# Perform prediction by taking the average of the labels of the nearest neighbors\n",
    "y_pred = []\n",
    "for neighbor_indices in indices:\n",
    "    neighbor_labels = y_train.iloc[neighbor_indices]  # Get the labels of the neighbors\n",
    "    neighbor_mean = neighbor_labels.mean(axis=0)  # Compute the average of the labels"
   ]
  },
  {
   "cell_type": "code",
   "execution_count": 66,
   "id": "5b8ac80e",
   "metadata": {},
   "outputs": [],
   "source": [
    "test_df =  pd.read_csv('test_preprocessed.csv')\n",
    "prop_ids = test_df['prop_id']\n",
    "srch_ids = test_df['srch_id']\n",
    "test_df = test_df.drop(['prop_id', 'srch_id'],axis=1)"
   ]
  },
  {
   "cell_type": "code",
   "execution_count": 67,
   "id": "0695b5b0",
   "metadata": {},
   "outputs": [
    {
     "data": {
      "text/plain": [
       "[]"
      ]
     },
     "execution_count": 67,
     "metadata": {},
     "output_type": "execute_result"
    }
   ],
   "source": [
    "y_pred"
   ]
  },
  {
   "cell_type": "code",
   "execution_count": null,
   "id": "169c6418",
   "metadata": {},
   "outputs": [],
   "source": []
  },
  {
   "cell_type": "code",
   "execution_count": null,
   "id": "60be321b",
   "metadata": {},
   "outputs": [],
   "source": []
  },
  {
   "cell_type": "code",
   "execution_count": null,
   "id": "c206e1d6",
   "metadata": {},
   "outputs": [],
   "source": []
  },
  {
   "cell_type": "code",
   "execution_count": null,
   "id": "7a5d5b94",
   "metadata": {},
   "outputs": [],
   "source": []
  },
  {
   "cell_type": "code",
   "execution_count": null,
   "id": "1cf9ae6a",
   "metadata": {
    "scrolled": true
   },
   "outputs": [],
   "source": []
  },
  {
   "cell_type": "code",
   "execution_count": null,
   "id": "7a6181a7",
   "metadata": {},
   "outputs": [],
   "source": []
  }
 ],
 "metadata": {
  "kernelspec": {
   "display_name": "Python 3",
   "language": "python",
   "name": "python3"
  },
  "language_info": {
   "codemirror_mode": {
    "name": "ipython",
    "version": 3
   },
   "file_extension": ".py",
   "mimetype": "text/x-python",
   "name": "python",
   "nbconvert_exporter": "python",
   "pygments_lexer": "ipython3",
   "version": "3.9.12"
  }
 },
 "nbformat": 4,
 "nbformat_minor": 5
}
