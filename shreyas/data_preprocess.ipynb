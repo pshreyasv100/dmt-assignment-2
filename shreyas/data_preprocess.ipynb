{
 "cells": [
  {
   "cell_type": "code",
   "execution_count": 10,
   "id": "118c1b60",
   "metadata": {},
   "outputs": [],
   "source": [
    "import pandas as pd\n",
    "import seaborn as sns\n",
    "import re\n",
    "import matplotlib.pyplot as plt\n",
    "import numpy as np\n",
    "\n",
    "from sklearn.preprocessing import MinMaxScaler\n",
    "from sklearn.model_selection import train_test_split\n",
    "\n",
    "from sklearn.ensemble import RandomForestClassifier \n",
    "from sklearn.tree import DecisionTreeClassifier\n",
    "\n",
    "from sklearn.model_selection import train_test_split\n",
    "from sklearn.model_selection import GridSearchCV\n",
    "from sklearn import preprocessing\n",
    "from sklearn.preprocessing import LabelEncoder"
   ]
  },
  {
   "attachments": {},
   "cell_type": "markdown",
   "id": "aea5f62e",
   "metadata": {},
   "source": [
    "# TASK 2: DATA UNDERSTANDING"
   ]
  },
  {
   "cell_type": "code",
   "execution_count": 11,
   "id": "d1f701a7",
   "metadata": {},
   "outputs": [
    {
     "data": {
      "text/plain": [
       "Index(['srch_id', 'date_time', 'site_id', 'visitor_location_country_id',\n",
       "       'visitor_hist_starrating', 'visitor_hist_adr_usd', 'prop_country_id',\n",
       "       'prop_id', 'prop_starrating', 'prop_review_score', 'prop_brand_bool',\n",
       "       'prop_location_score1', 'prop_location_score2',\n",
       "       'prop_log_historical_price', 'position', 'price_usd', 'promotion_flag',\n",
       "       'srch_destination_id', 'srch_length_of_stay', 'srch_booking_window',\n",
       "       'srch_adults_count', 'srch_children_count', 'srch_room_count',\n",
       "       'srch_saturday_night_bool', 'srch_query_affinity_score',\n",
       "       'orig_destination_distance', 'random_bool', 'comp1_rate', 'comp1_inv',\n",
       "       'comp1_rate_percent_diff', 'comp2_rate', 'comp2_inv',\n",
       "       'comp2_rate_percent_diff', 'comp3_rate', 'comp3_inv',\n",
       "       'comp3_rate_percent_diff', 'comp4_rate', 'comp4_inv',\n",
       "       'comp4_rate_percent_diff', 'comp5_rate', 'comp5_inv',\n",
       "       'comp5_rate_percent_diff', 'comp6_rate', 'comp6_inv',\n",
       "       'comp6_rate_percent_diff', 'comp7_rate', 'comp7_inv',\n",
       "       'comp7_rate_percent_diff', 'comp8_rate', 'comp8_inv',\n",
       "       'comp8_rate_percent_diff', 'click_bool', 'gross_bookings_usd',\n",
       "       'booking_bool'],\n",
       "      dtype='object')"
      ]
     },
     "execution_count": 11,
     "metadata": {},
     "output_type": "execute_result"
    }
   ],
   "source": [
    "df = pd.read_csv('../training_set_VU_DM.csv')\n",
    "df.columns"
   ]
  },
  {
   "cell_type": "code",
   "execution_count": 12,
   "id": "758ae392",
   "metadata": {},
   "outputs": [
    {
     "data": {
      "text/plain": [
       "<Axes: title={'center': 'Distribution of frequency of destination country hotel bookings'}, xlabel='prop_country_id', ylabel='Count'>"
      ]
     },
     "execution_count": 12,
     "metadata": {},
     "output_type": "execute_result"
    },
    {
     "data": {
      "image/png": "[encoded data removed]",
      "text/plain": [
       "<Figure size 640x480 with 1 Axes>"
      ]
     },
     "metadata": {},
     "output_type": "display_data"
    }
   ],
   "source": [
    "plt.ticklabel_format(style='plain', axis='y')\n",
    "plt.title('Distribution of frequency of destination country hotel bookings')\n",
    "sns.histplot(data=df['prop_country_id'])"
   ]
  },
  {
   "attachments": {},
   "cell_type": "markdown",
   "id": "d0c31699",
   "metadata": {},
   "source": [
    "- Analysing missing values"
   ]
  },
  {
   "cell_type": "code",
   "execution_count": 13,
   "id": "f05362a4",
   "metadata": {},
   "outputs": [
    {
     "data": {
      "text/html": [
       "<div>\n",
       "<style scoped>\n",
       "    .dataframe tbody tr th:only-of-type {\n",
       "        vertical-align: middle;\n",
       "    }\n",
       "\n",
       "    .dataframe tbody tr th {\n",
       "        vertical-align: top;\n",
       "    }\n",
       "\n",
       "    .dataframe thead th {\n",
       "        text-align: right;\n",
       "    }\n",
       "</style>\n",
       "<table border=\"1\" class=\"dataframe\">\n",
       "  <thead>\n",
       "    <tr style=\"text-align: right;\">\n",
       "      <th></th>\n",
       "      <th>column</th>\n",
       "      <th>percentage</th>\n",
       "    </tr>\n",
       "  </thead>\n",
       "  <tbody>\n",
       "    <tr>\n",
       "      <th>29</th>\n",
       "      <td>comp1_rate_percent_diff</td>\n",
       "      <td>98.095353</td>\n",
       "    </tr>\n",
       "    <tr>\n",
       "      <th>44</th>\n",
       "      <td>comp6_rate_percent_diff</td>\n",
       "      <td>98.060362</td>\n",
       "    </tr>\n",
       "    <tr>\n",
       "      <th>27</th>\n",
       "      <td>comp1_rate</td>\n",
       "      <td>97.581250</td>\n",
       "    </tr>\n",
       "    <tr>\n",
       "      <th>28</th>\n",
       "      <td>comp1_inv</td>\n",
       "      <td>97.387053</td>\n",
       "    </tr>\n",
       "    <tr>\n",
       "      <th>38</th>\n",
       "      <td>comp4_rate_percent_diff</td>\n",
       "      <td>97.356256</td>\n",
       "    </tr>\n",
       "    <tr>\n",
       "      <th>52</th>\n",
       "      <td>gross_bookings_usd</td>\n",
       "      <td>97.208949</td>\n",
       "    </tr>\n",
       "    <tr>\n",
       "      <th>47</th>\n",
       "      <td>comp7_rate_percent_diff</td>\n",
       "      <td>97.206428</td>\n",
       "    </tr>\n",
       "    <tr>\n",
       "      <th>42</th>\n",
       "      <td>comp6_rate</td>\n",
       "      <td>95.156511</td>\n",
       "    </tr>\n",
       "    <tr>\n",
       "      <th>4</th>\n",
       "      <td>visitor_hist_starrating</td>\n",
       "      <td>94.920364</td>\n",
       "    </tr>\n",
       "    <tr>\n",
       "      <th>5</th>\n",
       "      <td>visitor_hist_adr_usd</td>\n",
       "      <td>94.897735</td>\n",
       "    </tr>\n",
       "    <tr>\n",
       "      <th>43</th>\n",
       "      <td>comp6_inv</td>\n",
       "      <td>94.736633</td>\n",
       "    </tr>\n",
       "    <tr>\n",
       "      <th>36</th>\n",
       "      <td>comp4_rate</td>\n",
       "      <td>93.800797</td>\n",
       "    </tr>\n",
       "    <tr>\n",
       "      <th>45</th>\n",
       "      <td>comp7_rate</td>\n",
       "      <td>93.640058</td>\n",
       "    </tr>\n",
       "    <tr>\n",
       "      <th>24</th>\n",
       "      <td>srch_query_affinity_score</td>\n",
       "      <td>93.598552</td>\n",
       "    </tr>\n",
       "    <tr>\n",
       "      <th>37</th>\n",
       "      <td>comp4_inv</td>\n",
       "      <td>93.069001</td>\n",
       "    </tr>\n",
       "    <tr>\n",
       "      <th>46</th>\n",
       "      <td>comp7_inv</td>\n",
       "      <td>92.811677</td>\n",
       "    </tr>\n",
       "    <tr>\n",
       "      <th>35</th>\n",
       "      <td>comp3_rate_percent_diff</td>\n",
       "      <td>90.464625</td>\n",
       "    </tr>\n",
       "    <tr>\n",
       "      <th>32</th>\n",
       "      <td>comp2_rate_percent_diff</td>\n",
       "      <td>88.781786</td>\n",
       "    </tr>\n",
       "    <tr>\n",
       "      <th>50</th>\n",
       "      <td>comp8_rate_percent_diff</td>\n",
       "      <td>87.602118</td>\n",
       "    </tr>\n",
       "    <tr>\n",
       "      <th>41</th>\n",
       "      <td>comp5_rate_percent_diff</td>\n",
       "      <td>83.036706</td>\n",
       "    </tr>\n",
       "    <tr>\n",
       "      <th>33</th>\n",
       "      <td>comp3_rate</td>\n",
       "      <td>69.056462</td>\n",
       "    </tr>\n",
       "    <tr>\n",
       "      <th>34</th>\n",
       "      <td>comp3_inv</td>\n",
       "      <td>66.702814</td>\n",
       "    </tr>\n",
       "    <tr>\n",
       "      <th>48</th>\n",
       "      <td>comp8_rate</td>\n",
       "      <td>61.344900</td>\n",
       "    </tr>\n",
       "    <tr>\n",
       "      <th>49</th>\n",
       "      <td>comp8_inv</td>\n",
       "      <td>59.916016</td>\n",
       "    </tr>\n",
       "    <tr>\n",
       "      <th>30</th>\n",
       "      <td>comp2_rate</td>\n",
       "      <td>59.166392</td>\n",
       "    </tr>\n",
       "    <tr>\n",
       "      <th>31</th>\n",
       "      <td>comp2_inv</td>\n",
       "      <td>57.036710</td>\n",
       "    </tr>\n",
       "    <tr>\n",
       "      <th>39</th>\n",
       "      <td>comp5_rate</td>\n",
       "      <td>55.179155</td>\n",
       "    </tr>\n",
       "    <tr>\n",
       "      <th>40</th>\n",
       "      <td>comp5_inv</td>\n",
       "      <td>52.403089</td>\n",
       "    </tr>\n",
       "    <tr>\n",
       "      <th>25</th>\n",
       "      <td>orig_destination_distance</td>\n",
       "      <td>32.425766</td>\n",
       "    </tr>\n",
       "    <tr>\n",
       "      <th>12</th>\n",
       "      <td>prop_location_score2</td>\n",
       "      <td>21.990151</td>\n",
       "    </tr>\n",
       "    <tr>\n",
       "      <th>9</th>\n",
       "      <td>prop_review_score</td>\n",
       "      <td>0.148517</td>\n",
       "    </tr>\n",
       "    <tr>\n",
       "      <th>51</th>\n",
       "      <td>click_bool</td>\n",
       "      <td>0.000000</td>\n",
       "    </tr>\n",
       "    <tr>\n",
       "      <th>0</th>\n",
       "      <td>srch_id</td>\n",
       "      <td>0.000000</td>\n",
       "    </tr>\n",
       "    <tr>\n",
       "      <th>1</th>\n",
       "      <td>date_time</td>\n",
       "      <td>0.000000</td>\n",
       "    </tr>\n",
       "    <tr>\n",
       "      <th>14</th>\n",
       "      <td>position</td>\n",
       "      <td>0.000000</td>\n",
       "    </tr>\n",
       "    <tr>\n",
       "      <th>2</th>\n",
       "      <td>site_id</td>\n",
       "      <td>0.000000</td>\n",
       "    </tr>\n",
       "    <tr>\n",
       "      <th>3</th>\n",
       "      <td>visitor_location_country_id</td>\n",
       "      <td>0.000000</td>\n",
       "    </tr>\n",
       "    <tr>\n",
       "      <th>6</th>\n",
       "      <td>prop_country_id</td>\n",
       "      <td>0.000000</td>\n",
       "    </tr>\n",
       "    <tr>\n",
       "      <th>7</th>\n",
       "      <td>prop_id</td>\n",
       "      <td>0.000000</td>\n",
       "    </tr>\n",
       "    <tr>\n",
       "      <th>8</th>\n",
       "      <td>prop_starrating</td>\n",
       "      <td>0.000000</td>\n",
       "    </tr>\n",
       "    <tr>\n",
       "      <th>10</th>\n",
       "      <td>prop_brand_bool</td>\n",
       "      <td>0.000000</td>\n",
       "    </tr>\n",
       "    <tr>\n",
       "      <th>11</th>\n",
       "      <td>prop_location_score1</td>\n",
       "      <td>0.000000</td>\n",
       "    </tr>\n",
       "    <tr>\n",
       "      <th>13</th>\n",
       "      <td>prop_log_historical_price</td>\n",
       "      <td>0.000000</td>\n",
       "    </tr>\n",
       "    <tr>\n",
       "      <th>15</th>\n",
       "      <td>price_usd</td>\n",
       "      <td>0.000000</td>\n",
       "    </tr>\n",
       "    <tr>\n",
       "      <th>26</th>\n",
       "      <td>random_bool</td>\n",
       "      <td>0.000000</td>\n",
       "    </tr>\n",
       "    <tr>\n",
       "      <th>16</th>\n",
       "      <td>promotion_flag</td>\n",
       "      <td>0.000000</td>\n",
       "    </tr>\n",
       "    <tr>\n",
       "      <th>17</th>\n",
       "      <td>srch_destination_id</td>\n",
       "      <td>0.000000</td>\n",
       "    </tr>\n",
       "    <tr>\n",
       "      <th>18</th>\n",
       "      <td>srch_length_of_stay</td>\n",
       "      <td>0.000000</td>\n",
       "    </tr>\n",
       "    <tr>\n",
       "      <th>19</th>\n",
       "      <td>srch_booking_window</td>\n",
       "      <td>0.000000</td>\n",
       "    </tr>\n",
       "    <tr>\n",
       "      <th>20</th>\n",
       "      <td>srch_adults_count</td>\n",
       "      <td>0.000000</td>\n",
       "    </tr>\n",
       "    <tr>\n",
       "      <th>21</th>\n",
       "      <td>srch_children_count</td>\n",
       "      <td>0.000000</td>\n",
       "    </tr>\n",
       "    <tr>\n",
       "      <th>22</th>\n",
       "      <td>srch_room_count</td>\n",
       "      <td>0.000000</td>\n",
       "    </tr>\n",
       "    <tr>\n",
       "      <th>23</th>\n",
       "      <td>srch_saturday_night_bool</td>\n",
       "      <td>0.000000</td>\n",
       "    </tr>\n",
       "    <tr>\n",
       "      <th>53</th>\n",
       "      <td>booking_bool</td>\n",
       "      <td>0.000000</td>\n",
       "    </tr>\n",
       "  </tbody>\n",
       "</table>\n",
       "</div>"
      ],
      "text/plain": [
       "                         column  percentage\n",
       "29      comp1_rate_percent_diff   98.095353\n",
       "44      comp6_rate_percent_diff   98.060362\n",
       "27                   comp1_rate   97.581250\n",
       "28                    comp1_inv   97.387053\n",
       "38      comp4_rate_percent_diff   97.356256\n",
       "52           gross_bookings_usd   97.208949\n",
       "47      comp7_rate_percent_diff   97.206428\n",
       "42                   comp6_rate   95.156511\n",
       "4       visitor_hist_starrating   94.920364\n",
       "5          visitor_hist_adr_usd   94.897735\n",
       "43                    comp6_inv   94.736633\n",
       "36                   comp4_rate   93.800797\n",
       "45                   comp7_rate   93.640058\n",
       "24    srch_query_affinity_score   93.598552\n",
       "37                    comp4_inv   93.069001\n",
       "46                    comp7_inv   92.811677\n",
       "35      comp3_rate_percent_diff   90.464625\n",
       "32      comp2_rate_percent_diff   88.781786\n",
       "50      comp8_rate_percent_diff   87.602118\n",
       "41      comp5_rate_percent_diff   83.036706\n",
       "33                   comp3_rate   69.056462\n",
       "34                    comp3_inv   66.702814\n",
       "48                   comp8_rate   61.344900\n",
       "49                    comp8_inv   59.916016\n",
       "30                   comp2_rate   59.166392\n",
       "31                    comp2_inv   57.036710\n",
       "39                   comp5_rate   55.179155\n",
       "40                    comp5_inv   52.403089\n",
       "25    orig_destination_distance   32.425766\n",
       "12         prop_location_score2   21.990151\n",
       "9             prop_review_score    0.148517\n",
       "51                   click_bool    0.000000\n",
       "0                       srch_id    0.000000\n",
       "1                     date_time    0.000000\n",
       "14                     position    0.000000\n",
       "2                       site_id    0.000000\n",
       "3   visitor_location_country_id    0.000000\n",
       "6               prop_country_id    0.000000\n",
       "7                       prop_id    0.000000\n",
       "8               prop_starrating    0.000000\n",
       "10              prop_brand_bool    0.000000\n",
       "11         prop_location_score1    0.000000\n",
       "13    prop_log_historical_price    0.000000\n",
       "15                    price_usd    0.000000\n",
       "26                  random_bool    0.000000\n",
       "16               promotion_flag    0.000000\n",
       "17          srch_destination_id    0.000000\n",
       "18          srch_length_of_stay    0.000000\n",
       "19          srch_booking_window    0.000000\n",
       "20            srch_adults_count    0.000000\n",
       "21          srch_children_count    0.000000\n",
       "22              srch_room_count    0.000000\n",
       "23     srch_saturday_night_bool    0.000000\n",
       "53                 booking_bool    0.000000"
      ]
     },
     "execution_count": 13,
     "metadata": {},
     "output_type": "execute_result"
    }
   ],
   "source": [
    "missing_df = pd.DataFrame(df.isnull().sum()/len(df))*100\n",
    "missing_df.reset_index(inplace=True)\n",
    "missing_df.rename(columns={0: 'percentage', 'index':'column'}, inplace=True)\n",
    "missing_df = missing_df.sort_values(by = 'percentage', ascending = False)\n",
    "missing_df"
   ]
  },
  {
   "cell_type": "code",
   "execution_count": 21,
   "id": "44f620b3",
   "metadata": {},
   "outputs": [
    {
     "data": {
      "image/png": "[encoded data removed]",
      "text/plain": [
       "<Figure size 640x480 with 1 Axes>"
      ]
     },
     "metadata": {},
     "output_type": "display_data"
    }
   ],
   "source": [
    "sns.barplot(x=missing_df['column'], y=missing_df['percentage'], dodge=0.8)\n",
    "plt.xticks(rotation = 45)\n",
    "\n",
    "# Add labels and title\n",
    "plt.xlabel('Attribute')\n",
    "plt.ylabel('Percentage')\n",
    "plt.title('Missing values analysis')\n",
    "\n",
    "plt.show()"
   ]
  },
  {
   "attachments": {},
   "cell_type": "markdown",
   "id": "b430084d",
   "metadata": {},
   "source": [
    "Impute column orig_destination_distance"
   ]
  },
  {
   "cell_type": "code",
   "execution_count": 88,
   "id": "3bdf2af3",
   "metadata": {},
   "outputs": [],
   "source": [
    "# dropping columns with >0 % missing values for now \n",
    "\n",
    "# cols_to_drop = missing_df[missing_df['percentage'] > 0]['column'].unique() \n",
    "# # cols_to_drop = missing_df['column'].unique()\n",
    "# df = df.drop(cols_to_drop, axis=1)\n",
    "# train_df.columns\n",
    "\n",
    "\n",
    "threshold = len(df) * 0.5  # Set the threshold as 50% of the total rows\n",
    "df.dropna(thresh=threshold, axis=1, inplace=True)"
   ]
  },
  {
   "cell_type": "code",
   "execution_count": 89,
   "id": "b3b4b934",
   "metadata": {},
   "outputs": [
    {
     "name": "stdout",
     "output_type": "stream",
     "text": [
      "srch_id : 199795\n",
      "date_time : 198615\n",
      "site_id : 34\n",
      "visitor_location_country_id : 210\n",
      "prop_country_id : 172\n",
      "prop_id : 129113\n",
      "prop_starrating : 6\n",
      "prop_review_score : 10\n",
      "prop_brand_bool : 2\n",
      "prop_location_score1 : 337\n",
      "prop_location_score2 : 9342\n",
      "prop_log_historical_price : 392\n",
      "position : 40\n",
      "price_usd : 76465\n",
      "promotion_flag : 2\n",
      "srch_destination_id : 18127\n",
      "srch_length_of_stay : 36\n",
      "srch_booking_window : 429\n",
      "srch_adults_count : 9\n",
      "srch_children_count : 10\n",
      "srch_room_count : 8\n",
      "srch_saturday_night_bool : 2\n",
      "orig_destination_distance : 530595\n",
      "random_bool : 2\n",
      "click_bool : 2\n",
      "booking_bool : 2\n"
     ]
    }
   ],
   "source": [
    "for col, count in df.nunique().to_dict().items():\n",
    "    print(f'{col} : {count}')"
   ]
  },
  {
   "attachments": {},
   "cell_type": "markdown",
   "id": "bfceeca4",
   "metadata": {},
   "source": [
    "# TASK 3: DATA PREPARATION "
   ]
  },
  {
   "attachments": {},
   "cell_type": "markdown",
   "id": "73a82c5f",
   "metadata": {},
   "source": [
    "- Encoding the categorical columns as category "
   ]
  },
  {
   "cell_type": "code",
   "execution_count": 90,
   "id": "50a667cf",
   "metadata": {},
   "outputs": [],
   "source": [
    "categorical_cols = ['srch_id', 'site_id', 'visitor_location_country_id', 'prop_country_id', 'prop_id', 'srch_destination_id']\n",
    "df[categorical_cols] = df[categorical_cols].astype('category')\n"
   ]
  },
  {
   "cell_type": "code",
   "execution_count": 91,
   "id": "7d3ec0cf",
   "metadata": {},
   "outputs": [
    {
     "data": {
      "image/png": "[encoded data removed]",
      "text/plain": [
       "<Figure size 640x480 with 1 Axes>"
      ]
     },
     "metadata": {},
     "output_type": "display_data"
    }
   ],
   "source": [
    "\n",
    "# Create a boxplot using seaborn\n",
    "sns.boxplot(data=df['price_usd'], orient='h')\n",
    "plt.title('Price boxplot')\n",
    "plt.show()"
   ]
  },
  {
   "cell_type": "code",
   "execution_count": 92,
   "id": "0eccd88e",
   "metadata": {},
   "outputs": [],
   "source": [
    "rows_before = df.shape[0]"
   ]
  },
  {
   "cell_type": "code",
   "execution_count": 93,
   "id": "1bdc8e0b",
   "metadata": {},
   "outputs": [],
   "source": [
    "# Eliminating rows with outlier prices\n",
    "z_scores = np.abs((df['price_usd'] - df['price_usd'].mean()) / df['price_usd'].std())\n",
    "threshold = 3\n",
    "df = df[z_scores <= threshold]"
   ]
  },
  {
   "cell_type": "code",
   "execution_count": 94,
   "id": "1c553f70",
   "metadata": {},
   "outputs": [
    {
     "name": "stdout",
     "output_type": "stream",
     "text": [
      "1120 rows were eliminated\n"
     ]
    }
   ],
   "source": [
    "rows_after = df.shape[0]\n",
    "print(f'{rows_before - rows_after} rows were eliminated')"
   ]
  },
  {
   "cell_type": "code",
   "execution_count": null,
   "id": "701a78a0",
   "metadata": {},
   "outputs": [],
   "source": [
    "\n",
    "\n"
   ]
  },
  {
   "attachments": {},
   "cell_type": "markdown",
   "id": "20f62dc0",
   "metadata": {},
   "source": [
    "### Normalizing columns to reduce the impact of large values on the modeling\n",
    "- particularly price column since it will vary based on location and to reduce its impact from shadowning other attributes\n",
    "- since the prices will vary based on country it is logical to group by country id and normalize per country"
   ]
  },
  {
   "cell_type": "code",
   "execution_count": 95,
   "id": "28865581",
   "metadata": {},
   "outputs": [],
   "source": [
    "columns_to_normalize = ['price_usd']\n",
    "\n",
    "for col in columns_to_normalize:\n",
    "    df[col] = df.groupby('prop_country_id')[col].transform(lambda x: (x.max() - x) / (x.max() - x.min()))\n"
   ]
  },
  {
   "attachments": {},
   "cell_type": "markdown",
   "id": "c721774a",
   "metadata": {},
   "source": [
    "### Extracting month, day of week from  from date attribute"
   ]
  },
  {
   "cell_type": "code",
   "execution_count": 96,
   "id": "45727db5",
   "metadata": {},
   "outputs": [],
   "source": [
    "df['date_time'] = pd.to_datetime(df['date_time'])\n",
    "df['month'] = df['date_time'].dt.month\n",
    "\n",
    "df =  df.drop('date_time', axis=1)"
   ]
  },
  {
   "cell_type": "code",
   "execution_count": 97,
   "id": "6c652b08",
   "metadata": {},
   "outputs": [
    {
     "data": {
      "text/plain": [
       "Index(['srch_id', 'site_id', 'visitor_location_country_id', 'prop_country_id',\n",
       "       'prop_id', 'prop_starrating', 'prop_review_score', 'prop_brand_bool',\n",
       "       'prop_location_score1', 'prop_location_score2',\n",
       "       'prop_log_historical_price', 'position', 'price_usd', 'promotion_flag',\n",
       "       'srch_destination_id', 'srch_length_of_stay', 'srch_booking_window',\n",
       "       'srch_adults_count', 'srch_children_count', 'srch_room_count',\n",
       "       'srch_saturday_night_bool', 'orig_destination_distance', 'random_bool',\n",
       "       'click_bool', 'booking_bool', 'month'],\n",
       "      dtype='object')"
      ]
     },
     "execution_count": 97,
     "metadata": {},
     "output_type": "execute_result"
    }
   ],
   "source": [
    "df.columns"
   ]
  },
  {
   "attachments": {},
   "cell_type": "markdown",
   "id": "39ad1d04",
   "metadata": {},
   "source": [
    "Submissions for each user query should recommend hotels in order from the highest grade\n",
    "(most likely to purchase a hotel room) to the lowest grade (least likely to purchase a hotel\n",
    "room or click on the hotel)."
   ]
  },
  {
   "cell_type": "code",
   "execution_count": 101,
   "id": "2c90d724",
   "metadata": {},
   "outputs": [
    {
     "data": {
      "text/plain": [
       "array([3.5, 4. , 4.5, 0. , 3. , 2.5, 2. , 5. , 1.5, nan, 1. ])"
      ]
     },
     "execution_count": 101,
     "metadata": {},
     "output_type": "execute_result"
    }
   ],
   "source": [
    "df['prop_review_score'].unique()"
   ]
  },
  {
   "cell_type": "code",
   "execution_count": 98,
   "id": "9af5fbd7",
   "metadata": {},
   "outputs": [],
   "source": [
    "\n",
    "df['relevance'] = df.apply(lambda x:  x['booking_bool'] * 4 + x['click_bool']*1, axis=1)\n",
    "\n",
    "# Since a customer is less likely to book a hotel if it has no ratings or no score we want to place it low on list\n",
    "# df['relevance'] = df.apply(lambda x:  0 if x['prop_location_score2'].is else 1, axis=1)\n",
    "# df['relevance'] = df.apply(lambda x:  0 if x['prop_review_score'] else 1, axis=1)\n"
   ]
  },
  {
   "attachments": {},
   "cell_type": "markdown",
   "id": "8ffb49f0",
   "metadata": {},
   "source": [
    "Add a column with an interaction between prop-starrating and prop_location_score1 to represent the overall desirability of a hotel based on star rating and location score"
   ]
  },
  {
   "cell_type": "code",
   "execution_count": 99,
   "id": "7f8f1d9e",
   "metadata": {},
   "outputs": [],
   "source": [
    "# Create a new feature by multiplying 'prop_starrating' and 'prop_location_score1'\n",
    "# df['prop_starrating_location_interaction'] = df['prop_starrating'] * df['prop_location_score1']\n",
    "\n",
    "\n",
    "# Create a new feature interaction between price_usd and prop_log_historical_price to capture the \n",
    "# relative price compared to historical prices \n",
    "# df['price_historical_interaction'] = df['price_usd'] * df['prop_log_historical_price']\n",
    "\n",
    "# Create a new feature interaction between srch_length_of_stay and srch_booking_window to represent\n",
    "# the total duration of the stay and planning horizon\n",
    "# df['total_time_duration'] = df['srch_length_of_stay'] * df['srch_booking_window']\n",
    "\n",
    "# Create a new column 'highly_rated_prop' based on 'prop_starrating'\n",
    "df['highly_rated_prop'] = df['prop_starrating'].apply(lambda x: 1 if x >= 4 else 0)\n",
    "\n",
    "df['total_people'] = df['srch_children_count'] + df['srch_adults_count']"
   ]
  },
  {
   "cell_type": "code",
   "execution_count": 100,
   "id": "7f22b1e8",
   "metadata": {},
   "outputs": [
    {
     "ename": "KeyboardInterrupt",
     "evalue": "",
     "output_type": "error",
     "traceback": [
      "\u001b[0;31m---------------------------------------------------------------------------\u001b[0m",
      "\u001b[0;31mKeyboardInterrupt\u001b[0m                         Traceback (most recent call last)",
      "\u001b[1;32m/home/shreyas/masters_vu/DMT/assignment/dmt-assignment-2/shreyas/data_preprocess.ipynb Cell 29\u001b[0m in \u001b[0;36m2\n\u001b[1;32m      <a href='vscode-notebook-cell:/home/shreyas/masters_vu/DMT/assignment/dmt-assignment-2/shreyas/data_preprocess.ipynb#X34sZmlsZQ%3D%3D?line=0'>1</a>\u001b[0m \u001b[39m# Saving the preprocessed data\u001b[39;00m\n\u001b[0;32m----> <a href='vscode-notebook-cell:/home/shreyas/masters_vu/DMT/assignment/dmt-assignment-2/shreyas/data_preprocess.ipynb#X34sZmlsZQ%3D%3D?line=1'>2</a>\u001b[0m df\u001b[39m.\u001b[39;49mto_csv(\u001b[39m'\u001b[39;49m\u001b[39mtrain_preprocessed_2.csv\u001b[39;49m\u001b[39m'\u001b[39;49m, index\u001b[39m=\u001b[39;49m\u001b[39mFalse\u001b[39;49;00m)\n",
      "File \u001b[0;32m~/.local/lib/python3.8/site-packages/pandas/core/generic.py:3551\u001b[0m, in \u001b[0;36mNDFrame.to_csv\u001b[0;34m(self, path_or_buf, sep, na_rep, float_format, columns, header, index, index_label, mode, encoding, compression, quoting, quotechar, line_terminator, chunksize, date_format, doublequote, escapechar, decimal, errors, storage_options)\u001b[0m\n\u001b[1;32m   3540\u001b[0m df \u001b[39m=\u001b[39m \u001b[39mself\u001b[39m \u001b[39mif\u001b[39;00m \u001b[39misinstance\u001b[39m(\u001b[39mself\u001b[39m, ABCDataFrame) \u001b[39melse\u001b[39;00m \u001b[39mself\u001b[39m\u001b[39m.\u001b[39mto_frame()\n\u001b[1;32m   3542\u001b[0m formatter \u001b[39m=\u001b[39m DataFrameFormatter(\n\u001b[1;32m   3543\u001b[0m     frame\u001b[39m=\u001b[39mdf,\n\u001b[1;32m   3544\u001b[0m     header\u001b[39m=\u001b[39mheader,\n\u001b[0;32m   (...)\u001b[0m\n\u001b[1;32m   3548\u001b[0m     decimal\u001b[39m=\u001b[39mdecimal,\n\u001b[1;32m   3549\u001b[0m )\n\u001b[0;32m-> 3551\u001b[0m \u001b[39mreturn\u001b[39;00m DataFrameRenderer(formatter)\u001b[39m.\u001b[39;49mto_csv(\n\u001b[1;32m   3552\u001b[0m     path_or_buf,\n\u001b[1;32m   3553\u001b[0m     line_terminator\u001b[39m=\u001b[39;49mline_terminator,\n\u001b[1;32m   3554\u001b[0m     sep\u001b[39m=\u001b[39;49msep,\n\u001b[1;32m   3555\u001b[0m     encoding\u001b[39m=\u001b[39;49mencoding,\n\u001b[1;32m   3556\u001b[0m     errors\u001b[39m=\u001b[39;49merrors,\n\u001b[1;32m   3557\u001b[0m     compression\u001b[39m=\u001b[39;49mcompression,\n\u001b[1;32m   3558\u001b[0m     quoting\u001b[39m=\u001b[39;49mquoting,\n\u001b[1;32m   3559\u001b[0m     columns\u001b[39m=\u001b[39;49mcolumns,\n\u001b[1;32m   3560\u001b[0m     index_label\u001b[39m=\u001b[39;49mindex_label,\n\u001b[1;32m   3561\u001b[0m     mode\u001b[39m=\u001b[39;49mmode,\n\u001b[1;32m   3562\u001b[0m     chunksize\u001b[39m=\u001b[39;49mchunksize,\n\u001b[1;32m   3563\u001b[0m     quotechar\u001b[39m=\u001b[39;49mquotechar,\n\u001b[1;32m   3564\u001b[0m     date_format\u001b[39m=\u001b[39;49mdate_format,\n\u001b[1;32m   3565\u001b[0m     doublequote\u001b[39m=\u001b[39;49mdoublequote,\n\u001b[1;32m   3566\u001b[0m     escapechar\u001b[39m=\u001b[39;49mescapechar,\n\u001b[1;32m   3567\u001b[0m     storage_options\u001b[39m=\u001b[39;49mstorage_options,\n\u001b[1;32m   3568\u001b[0m )\n",
      "File \u001b[0;32m~/.local/lib/python3.8/site-packages/pandas/io/formats/format.py:1180\u001b[0m, in \u001b[0;36mDataFrameRenderer.to_csv\u001b[0;34m(self, path_or_buf, encoding, sep, columns, index_label, mode, compression, quoting, quotechar, line_terminator, chunksize, date_format, doublequote, escapechar, errors, storage_options)\u001b[0m\n\u001b[1;32m   1159\u001b[0m     created_buffer \u001b[39m=\u001b[39m \u001b[39mFalse\u001b[39;00m\n\u001b[1;32m   1161\u001b[0m csv_formatter \u001b[39m=\u001b[39m CSVFormatter(\n\u001b[1;32m   1162\u001b[0m     path_or_buf\u001b[39m=\u001b[39mpath_or_buf,\n\u001b[1;32m   1163\u001b[0m     line_terminator\u001b[39m=\u001b[39mline_terminator,\n\u001b[0;32m   (...)\u001b[0m\n\u001b[1;32m   1178\u001b[0m     formatter\u001b[39m=\u001b[39m\u001b[39mself\u001b[39m\u001b[39m.\u001b[39mfmt,\n\u001b[1;32m   1179\u001b[0m )\n\u001b[0;32m-> 1180\u001b[0m csv_formatter\u001b[39m.\u001b[39;49msave()\n\u001b[1;32m   1182\u001b[0m \u001b[39mif\u001b[39;00m created_buffer:\n\u001b[1;32m   1183\u001b[0m     \u001b[39massert\u001b[39;00m \u001b[39misinstance\u001b[39m(path_or_buf, StringIO)\n",
      "File \u001b[0;32m~/.local/lib/python3.8/site-packages/pandas/io/formats/csvs.py:261\u001b[0m, in \u001b[0;36mCSVFormatter.save\u001b[0;34m(self)\u001b[0m\n\u001b[1;32m    241\u001b[0m \u001b[39mwith\u001b[39;00m get_handle(\n\u001b[1;32m    242\u001b[0m     \u001b[39mself\u001b[39m\u001b[39m.\u001b[39mfilepath_or_buffer,\n\u001b[1;32m    243\u001b[0m     \u001b[39mself\u001b[39m\u001b[39m.\u001b[39mmode,\n\u001b[0;32m   (...)\u001b[0m\n\u001b[1;32m    249\u001b[0m \n\u001b[1;32m    250\u001b[0m     \u001b[39m# Note: self.encoding is irrelevant here\u001b[39;00m\n\u001b[1;32m    251\u001b[0m     \u001b[39mself\u001b[39m\u001b[39m.\u001b[39mwriter \u001b[39m=\u001b[39m csvlib\u001b[39m.\u001b[39mwriter(\n\u001b[1;32m    252\u001b[0m         handles\u001b[39m.\u001b[39mhandle,\n\u001b[1;32m    253\u001b[0m         lineterminator\u001b[39m=\u001b[39m\u001b[39mself\u001b[39m\u001b[39m.\u001b[39mline_terminator,\n\u001b[0;32m   (...)\u001b[0m\n\u001b[1;32m    258\u001b[0m         quotechar\u001b[39m=\u001b[39m\u001b[39mself\u001b[39m\u001b[39m.\u001b[39mquotechar,\n\u001b[1;32m    259\u001b[0m     )\n\u001b[0;32m--> 261\u001b[0m     \u001b[39mself\u001b[39;49m\u001b[39m.\u001b[39;49m_save()\n",
      "File \u001b[0;32m~/.local/lib/python3.8/site-packages/pandas/io/formats/csvs.py:266\u001b[0m, in \u001b[0;36mCSVFormatter._save\u001b[0;34m(self)\u001b[0m\n\u001b[1;32m    264\u001b[0m \u001b[39mif\u001b[39;00m \u001b[39mself\u001b[39m\u001b[39m.\u001b[39m_need_to_save_header:\n\u001b[1;32m    265\u001b[0m     \u001b[39mself\u001b[39m\u001b[39m.\u001b[39m_save_header()\n\u001b[0;32m--> 266\u001b[0m \u001b[39mself\u001b[39;49m\u001b[39m.\u001b[39;49m_save_body()\n",
      "File \u001b[0;32m~/.local/lib/python3.8/site-packages/pandas/io/formats/csvs.py:304\u001b[0m, in \u001b[0;36mCSVFormatter._save_body\u001b[0;34m(self)\u001b[0m\n\u001b[1;32m    302\u001b[0m \u001b[39mif\u001b[39;00m start_i \u001b[39m>\u001b[39m\u001b[39m=\u001b[39m end_i:\n\u001b[1;32m    303\u001b[0m     \u001b[39mbreak\u001b[39;00m\n\u001b[0;32m--> 304\u001b[0m \u001b[39mself\u001b[39;49m\u001b[39m.\u001b[39;49m_save_chunk(start_i, end_i)\n",
      "File \u001b[0;32m~/.local/lib/python3.8/site-packages/pandas/io/formats/csvs.py:311\u001b[0m, in \u001b[0;36mCSVFormatter._save_chunk\u001b[0;34m(self, start_i, end_i)\u001b[0m\n\u001b[1;32m    308\u001b[0m slicer \u001b[39m=\u001b[39m \u001b[39mslice\u001b[39m(start_i, end_i)\n\u001b[1;32m    309\u001b[0m df \u001b[39m=\u001b[39m \u001b[39mself\u001b[39m\u001b[39m.\u001b[39mobj\u001b[39m.\u001b[39miloc[slicer]\n\u001b[0;32m--> 311\u001b[0m res \u001b[39m=\u001b[39m df\u001b[39m.\u001b[39;49m_mgr\u001b[39m.\u001b[39;49mto_native_types(\u001b[39m*\u001b[39;49m\u001b[39m*\u001b[39;49m\u001b[39mself\u001b[39;49m\u001b[39m.\u001b[39;49m_number_format)\n\u001b[1;32m    312\u001b[0m data \u001b[39m=\u001b[39m [res\u001b[39m.\u001b[39miget_values(i) \u001b[39mfor\u001b[39;00m i \u001b[39min\u001b[39;00m \u001b[39mrange\u001b[39m(\u001b[39mlen\u001b[39m(res\u001b[39m.\u001b[39mitems))]\n\u001b[1;32m    314\u001b[0m ix \u001b[39m=\u001b[39m \u001b[39mself\u001b[39m\u001b[39m.\u001b[39mdata_index[slicer]\u001b[39m.\u001b[39m_format_native_types(\u001b[39m*\u001b[39m\u001b[39m*\u001b[39m\u001b[39mself\u001b[39m\u001b[39m.\u001b[39m_number_format)\n",
      "File \u001b[0;32m~/.local/lib/python3.8/site-packages/pandas/core/internals/managers.py:473\u001b[0m, in \u001b[0;36mBaseBlockManager.to_native_types\u001b[0;34m(self, **kwargs)\u001b[0m\n\u001b[1;32m    468\u001b[0m \u001b[39mdef\u001b[39;00m \u001b[39mto_native_types\u001b[39m(\u001b[39mself\u001b[39m: T, \u001b[39m*\u001b[39m\u001b[39m*\u001b[39mkwargs) \u001b[39m-\u001b[39m\u001b[39m>\u001b[39m T:\n\u001b[1;32m    469\u001b[0m     \u001b[39m\"\"\"\u001b[39;00m\n\u001b[1;32m    470\u001b[0m \u001b[39m    Convert values to native types (strings / python objects) that are used\u001b[39;00m\n\u001b[1;32m    471\u001b[0m \u001b[39m    in formatting (repr / csv).\u001b[39;00m\n\u001b[1;32m    472\u001b[0m \u001b[39m    \"\"\"\u001b[39;00m\n\u001b[0;32m--> 473\u001b[0m     \u001b[39mreturn\u001b[39;00m \u001b[39mself\u001b[39;49m\u001b[39m.\u001b[39;49mapply(\u001b[39m\"\u001b[39;49m\u001b[39mto_native_types\u001b[39;49m\u001b[39m\"\u001b[39;49m, \u001b[39m*\u001b[39;49m\u001b[39m*\u001b[39;49mkwargs)\n",
      "File \u001b[0;32m~/.local/lib/python3.8/site-packages/pandas/core/internals/managers.py:304\u001b[0m, in \u001b[0;36mBaseBlockManager.apply\u001b[0;34m(self, f, align_keys, ignore_failures, **kwargs)\u001b[0m\n\u001b[1;32m    302\u001b[0m         applied \u001b[39m=\u001b[39m b\u001b[39m.\u001b[39mapply(f, \u001b[39m*\u001b[39m\u001b[39m*\u001b[39mkwargs)\n\u001b[1;32m    303\u001b[0m     \u001b[39melse\u001b[39;00m:\n\u001b[0;32m--> 304\u001b[0m         applied \u001b[39m=\u001b[39m \u001b[39mgetattr\u001b[39;49m(b, f)(\u001b[39m*\u001b[39;49m\u001b[39m*\u001b[39;49mkwargs)\n\u001b[1;32m    305\u001b[0m \u001b[39mexcept\u001b[39;00m (\u001b[39mTypeError\u001b[39;00m, \u001b[39mNotImplementedError\u001b[39;00m):\n\u001b[1;32m    306\u001b[0m     \u001b[39mif\u001b[39;00m \u001b[39mnot\u001b[39;00m ignore_failures:\n",
      "File \u001b[0;32m~/.local/lib/python3.8/site-packages/pandas/core/internals/blocks.py:634\u001b[0m, in \u001b[0;36mBlock.to_native_types\u001b[0;34m(self, na_rep, quoting, **kwargs)\u001b[0m\n\u001b[1;32m    631\u001b[0m \u001b[39m@final\u001b[39m\n\u001b[1;32m    632\u001b[0m \u001b[39mdef\u001b[39;00m \u001b[39mto_native_types\u001b[39m(\u001b[39mself\u001b[39m, na_rep\u001b[39m=\u001b[39m\u001b[39m\"\u001b[39m\u001b[39mnan\u001b[39m\u001b[39m\"\u001b[39m, quoting\u001b[39m=\u001b[39m\u001b[39mNone\u001b[39;00m, \u001b[39m*\u001b[39m\u001b[39m*\u001b[39mkwargs):\n\u001b[1;32m    633\u001b[0m     \u001b[39m\"\"\"convert to our native types format\"\"\"\u001b[39;00m\n\u001b[0;32m--> 634\u001b[0m     result \u001b[39m=\u001b[39m to_native_types(\u001b[39mself\u001b[39;49m\u001b[39m.\u001b[39;49mvalues, na_rep\u001b[39m=\u001b[39;49mna_rep, quoting\u001b[39m=\u001b[39;49mquoting, \u001b[39m*\u001b[39;49m\u001b[39m*\u001b[39;49mkwargs)\n\u001b[1;32m    635\u001b[0m     \u001b[39mreturn\u001b[39;00m \u001b[39mself\u001b[39m\u001b[39m.\u001b[39mmake_block(result)\n",
      "File \u001b[0;32m~/.local/lib/python3.8/site-packages/pandas/core/internals/blocks.py:2201\u001b[0m, in \u001b[0;36mto_native_types\u001b[0;34m(values, na_rep, quoting, float_format, decimal, **kwargs)\u001b[0m\n\u001b[1;32m   2198\u001b[0m mask \u001b[39m=\u001b[39m isna(values)\n\u001b[1;32m   2200\u001b[0m \u001b[39mif\u001b[39;00m \u001b[39mnot\u001b[39;00m quoting:\n\u001b[0;32m-> 2201\u001b[0m     values \u001b[39m=\u001b[39m values\u001b[39m.\u001b[39;49mastype(\u001b[39mstr\u001b[39;49m)\n\u001b[1;32m   2202\u001b[0m \u001b[39melse\u001b[39;00m:\n\u001b[1;32m   2203\u001b[0m     values \u001b[39m=\u001b[39m np\u001b[39m.\u001b[39marray(values, dtype\u001b[39m=\u001b[39m\u001b[39m\"\u001b[39m\u001b[39mobject\u001b[39m\u001b[39m\"\u001b[39m)\n",
      "\u001b[0;31mKeyboardInterrupt\u001b[0m: "
     ]
    }
   ],
   "source": [
    "# Saving the preprocessed data\n",
    "df.to_csv('train_preprocessed_2.csv', index=False)"
   ]
  },
  {
   "attachments": {},
   "cell_type": "markdown",
   "id": "07e6532a",
   "metadata": {},
   "source": [
    "# Preprocessing test data "
   ]
  },
  {
   "cell_type": "code",
   "execution_count": 3,
   "id": "1f4df554",
   "metadata": {},
   "outputs": [
    {
     "data": {
      "text/plain": [
       "Index(['srch_id', 'date_time', 'site_id', 'visitor_location_country_id',\n",
       "       'visitor_hist_starrating', 'visitor_hist_adr_usd', 'prop_country_id',\n",
       "       'prop_id', 'prop_starrating', 'prop_review_score', 'prop_brand_bool',\n",
       "       'prop_location_score1', 'prop_location_score2',\n",
       "       'prop_log_historical_price', 'price_usd', 'promotion_flag',\n",
       "       'srch_destination_id', 'srch_length_of_stay', 'srch_booking_window',\n",
       "       'srch_adults_count', 'srch_children_count', 'srch_room_count',\n",
       "       'srch_saturday_night_bool', 'srch_query_affinity_score',\n",
       "       'orig_destination_distance', 'random_bool', 'comp1_rate', 'comp1_inv',\n",
       "       'comp1_rate_percent_diff', 'comp2_rate', 'comp2_inv',\n",
       "       'comp2_rate_percent_diff', 'comp3_rate', 'comp3_inv',\n",
       "       'comp3_rate_percent_diff', 'comp4_rate', 'comp4_inv',\n",
       "       'comp4_rate_percent_diff', 'comp5_rate', 'comp5_inv',\n",
       "       'comp5_rate_percent_diff', 'comp6_rate', 'comp6_inv',\n",
       "       'comp6_rate_percent_diff', 'comp7_rate', 'comp7_inv',\n",
       "       'comp7_rate_percent_diff', 'comp8_rate', 'comp8_inv',\n",
       "       'comp8_rate_percent_diff'],\n",
       "      dtype='object')"
      ]
     },
     "execution_count": 3,
     "metadata": {},
     "output_type": "execute_result"
    }
   ],
   "source": [
    "test_df = pd.read_csv('../test_set_VU_DM.csv')\n",
    "test_df.columns"
   ]
  },
  {
   "cell_type": "code",
   "execution_count": 4,
   "id": "9ddb9f9d",
   "metadata": {},
   "outputs": [],
   "source": [
    "test_df['date_time'] = pd.to_datetime(test_df['date_time'])\n",
    "test_df['month'] = test_df['date_time'].dt.month\n",
    "\n",
    "test_df =  test_df.drop('date_time', axis=1)"
   ]
  },
  {
   "cell_type": "code",
   "execution_count": 5,
   "id": "99241191",
   "metadata": {},
   "outputs": [],
   "source": [
    "# Create a new feature by multiplying 'prop_starrating' and 'prop_location_score1'\n",
    "test_df['prop_starrating_location_interaction'] = test_df['prop_starrating'] * test_df['prop_location_score1']\n",
    "\n",
    "\n",
    "# Create a new feature interaction between price_usd and prop_log_historical_price to capture the \n",
    "# relative price compared to historical prices \n",
    "test_df['price_historical_interaction'] = test_df['price_usd'] * test_df['prop_log_historical_price']\n",
    "\n",
    "# Create a new feature interaction between srch_length_of_stay and srch_booking_window to represent\n",
    "# the total duration of the stay and planning horizon\n",
    "test_df['total_time_duration'] = test_df['srch_length_of_stay'] * test_df['srch_booking_window']\n",
    "\n",
    "# Create a new column 'highly_rated_prop' based on 'prop_starrating'\n",
    "test_df['highly_rated_prop'] = test_df['prop_starrating'].apply(lambda x: 1 if x >= 4 else 0)\n",
    "\n",
    "test_df['total_people'] = test_df['srch_children_count'] + test_df['srch_adults_count']"
   ]
  },
  {
   "attachments": {},
   "cell_type": "markdown",
   "id": "4cc9a143",
   "metadata": {},
   "source": [
    "- Selecting only columns from the preprocessed data for testing "
   ]
  },
  {
   "cell_type": "code",
   "execution_count": 6,
   "id": "d5fba7a0",
   "metadata": {},
   "outputs": [],
   "source": [
    "preprocessed_df = pd.read_csv('train_preprocessed.csv')\n",
    "cols = preprocessed_df.columns\n",
    "cols = [x for x in cols if x not in ['position', 'click_bool', 'booking_bool','position','random_bool','relevance']]\n",
    "\n",
    "test_df = test_df[cols]"
   ]
  },
  {
   "cell_type": "code",
   "execution_count": 8,
   "id": "cb48998b",
   "metadata": {},
   "outputs": [
    {
     "data": {
      "text/html": [
       "<div>\n",
       "<style scoped>\n",
       "    .dataframe tbody tr th:only-of-type {\n",
       "        vertical-align: middle;\n",
       "    }\n",
       "\n",
       "    .dataframe tbody tr th {\n",
       "        vertical-align: top;\n",
       "    }\n",
       "\n",
       "    .dataframe thead th {\n",
       "        text-align: right;\n",
       "    }\n",
       "</style>\n",
       "<table border=\"1\" class=\"dataframe\">\n",
       "  <thead>\n",
       "    <tr style=\"text-align: right;\">\n",
       "      <th></th>\n",
       "      <th>column</th>\n",
       "      <th>percentage</th>\n",
       "    </tr>\n",
       "  </thead>\n",
       "  <tbody>\n",
       "    <tr>\n",
       "      <th>20</th>\n",
       "      <td>orig_destination_distance</td>\n",
       "      <td>32.438388</td>\n",
       "    </tr>\n",
       "    <tr>\n",
       "      <th>9</th>\n",
       "      <td>prop_location_score2</td>\n",
       "      <td>21.939743</td>\n",
       "    </tr>\n",
       "    <tr>\n",
       "      <th>6</th>\n",
       "      <td>prop_review_score</td>\n",
       "      <td>0.146516</td>\n",
       "    </tr>\n",
       "    <tr>\n",
       "      <th>0</th>\n",
       "      <td>srch_id</td>\n",
       "      <td>0.000000</td>\n",
       "    </tr>\n",
       "    <tr>\n",
       "      <th>15</th>\n",
       "      <td>srch_booking_window</td>\n",
       "      <td>0.000000</td>\n",
       "    </tr>\n",
       "    <tr>\n",
       "      <th>25</th>\n",
       "      <td>highly_rated_prop</td>\n",
       "      <td>0.000000</td>\n",
       "    </tr>\n",
       "    <tr>\n",
       "      <th>24</th>\n",
       "      <td>total_time_duration</td>\n",
       "      <td>0.000000</td>\n",
       "    </tr>\n",
       "    <tr>\n",
       "      <th>23</th>\n",
       "      <td>price_historical_interaction</td>\n",
       "      <td>0.000000</td>\n",
       "    </tr>\n",
       "    <tr>\n",
       "      <th>22</th>\n",
       "      <td>prop_starrating_location_interaction</td>\n",
       "      <td>0.000000</td>\n",
       "    </tr>\n",
       "    <tr>\n",
       "      <th>21</th>\n",
       "      <td>month</td>\n",
       "      <td>0.000000</td>\n",
       "    </tr>\n",
       "    <tr>\n",
       "      <th>19</th>\n",
       "      <td>srch_saturday_night_bool</td>\n",
       "      <td>0.000000</td>\n",
       "    </tr>\n",
       "    <tr>\n",
       "      <th>18</th>\n",
       "      <td>srch_room_count</td>\n",
       "      <td>0.000000</td>\n",
       "    </tr>\n",
       "    <tr>\n",
       "      <th>17</th>\n",
       "      <td>srch_children_count</td>\n",
       "      <td>0.000000</td>\n",
       "    </tr>\n",
       "    <tr>\n",
       "      <th>16</th>\n",
       "      <td>srch_adults_count</td>\n",
       "      <td>0.000000</td>\n",
       "    </tr>\n",
       "    <tr>\n",
       "      <th>13</th>\n",
       "      <td>srch_destination_id</td>\n",
       "      <td>0.000000</td>\n",
       "    </tr>\n",
       "    <tr>\n",
       "      <th>14</th>\n",
       "      <td>srch_length_of_stay</td>\n",
       "      <td>0.000000</td>\n",
       "    </tr>\n",
       "    <tr>\n",
       "      <th>1</th>\n",
       "      <td>site_id</td>\n",
       "      <td>0.000000</td>\n",
       "    </tr>\n",
       "    <tr>\n",
       "      <th>12</th>\n",
       "      <td>promotion_flag</td>\n",
       "      <td>0.000000</td>\n",
       "    </tr>\n",
       "    <tr>\n",
       "      <th>11</th>\n",
       "      <td>price_usd</td>\n",
       "      <td>0.000000</td>\n",
       "    </tr>\n",
       "    <tr>\n",
       "      <th>10</th>\n",
       "      <td>prop_log_historical_price</td>\n",
       "      <td>0.000000</td>\n",
       "    </tr>\n",
       "    <tr>\n",
       "      <th>8</th>\n",
       "      <td>prop_location_score1</td>\n",
       "      <td>0.000000</td>\n",
       "    </tr>\n",
       "    <tr>\n",
       "      <th>7</th>\n",
       "      <td>prop_brand_bool</td>\n",
       "      <td>0.000000</td>\n",
       "    </tr>\n",
       "    <tr>\n",
       "      <th>5</th>\n",
       "      <td>prop_starrating</td>\n",
       "      <td>0.000000</td>\n",
       "    </tr>\n",
       "    <tr>\n",
       "      <th>4</th>\n",
       "      <td>prop_id</td>\n",
       "      <td>0.000000</td>\n",
       "    </tr>\n",
       "    <tr>\n",
       "      <th>3</th>\n",
       "      <td>prop_country_id</td>\n",
       "      <td>0.000000</td>\n",
       "    </tr>\n",
       "    <tr>\n",
       "      <th>2</th>\n",
       "      <td>visitor_location_country_id</td>\n",
       "      <td>0.000000</td>\n",
       "    </tr>\n",
       "    <tr>\n",
       "      <th>26</th>\n",
       "      <td>total_people</td>\n",
       "      <td>0.000000</td>\n",
       "    </tr>\n",
       "  </tbody>\n",
       "</table>\n",
       "</div>"
      ],
      "text/plain": [
       "                                  column  percentage\n",
       "20             orig_destination_distance   32.438388\n",
       "9                   prop_location_score2   21.939743\n",
       "6                      prop_review_score    0.146516\n",
       "0                                srch_id    0.000000\n",
       "15                   srch_booking_window    0.000000\n",
       "25                     highly_rated_prop    0.000000\n",
       "24                   total_time_duration    0.000000\n",
       "23          price_historical_interaction    0.000000\n",
       "22  prop_starrating_location_interaction    0.000000\n",
       "21                                 month    0.000000\n",
       "19              srch_saturday_night_bool    0.000000\n",
       "18                       srch_room_count    0.000000\n",
       "17                   srch_children_count    0.000000\n",
       "16                     srch_adults_count    0.000000\n",
       "13                   srch_destination_id    0.000000\n",
       "14                   srch_length_of_stay    0.000000\n",
       "1                                site_id    0.000000\n",
       "12                        promotion_flag    0.000000\n",
       "11                             price_usd    0.000000\n",
       "10             prop_log_historical_price    0.000000\n",
       "8                   prop_location_score1    0.000000\n",
       "7                        prop_brand_bool    0.000000\n",
       "5                        prop_starrating    0.000000\n",
       "4                                prop_id    0.000000\n",
       "3                        prop_country_id    0.000000\n",
       "2            visitor_location_country_id    0.000000\n",
       "26                          total_people    0.000000"
      ]
     },
     "execution_count": 8,
     "metadata": {},
     "output_type": "execute_result"
    }
   ],
   "source": [
    "missing_df = pd.DataFrame(test_df.isnull().sum()/len(test_df))*100\n",
    "missing_df.reset_index(inplace=True)\n",
    "missing_df.rename(columns={0: 'percentage', 'index':'column'}, inplace=True)\n",
    "missing_df = missing_df.sort_values(by = 'percentage', ascending = False)\n",
    "missing_df"
   ]
  },
  {
   "cell_type": "code",
   "execution_count": null,
   "id": "d4bb3abb",
   "metadata": {},
   "outputs": [
    {
     "name": "stderr",
     "output_type": "stream",
     "text": [
      "/tmp/ipykernel_15156/3109899156.py:2: SettingWithCopyWarning: \n",
      "A value is trying to be set on a copy of a slice from a DataFrame.\n",
      "Try using .loc[row_indexer,col_indexer] = value instead\n",
      "\n",
      "See the caveats in the documentation: https://pandas.pydata.org/pandas-docs/stable/user_guide/indexing.html#returning-a-view-versus-a-copy\n",
      "  test_df[categorical_cols] = test_df[categorical_cols].astype('category')\n"
     ]
    }
   ],
   "source": [
    "categorical_cols = ['srch_id', 'site_id', 'visitor_location_country_id', 'prop_country_id', 'prop_id', 'srch_destination_id']\n",
    "test_df[categorical_cols] = test_df[categorical_cols].astype('category')"
   ]
  },
  {
   "cell_type": "code",
   "execution_count": null,
   "id": "eb8b0ea9",
   "metadata": {},
   "outputs": [
    {
     "name": "stderr",
     "output_type": "stream",
     "text": [
      "/tmp/ipykernel_15156/2805176163.py:4: SettingWithCopyWarning: \n",
      "A value is trying to be set on a copy of a slice from a DataFrame.\n",
      "Try using .loc[row_indexer,col_indexer] = value instead\n",
      "\n",
      "See the caveats in the documentation: https://pandas.pydata.org/pandas-docs/stable/user_guide/indexing.html#returning-a-view-versus-a-copy\n",
      "  test_df[col] = test_df.groupby('prop_country_id')[col].transform(lambda x: (x.max() - x) / (x.max() - x.min()))\n"
     ]
    }
   ],
   "source": [
    "columns_to_normalize = ['price_usd']\n",
    "\n",
    "for col in columns_to_normalize:\n",
    "    test_df[col] = test_df.groupby('prop_country_id')[col].transform(lambda x: (x.max() - x) / (x.max() - x.min()))"
   ]
  },
  {
   "cell_type": "code",
   "execution_count": null,
   "id": "35b9c855",
   "metadata": {},
   "outputs": [
    {
     "data": {
      "text/plain": [
       "Index(['srch_id', 'site_id', 'visitor_location_country_id', 'prop_country_id',\n",
       "       'prop_id', 'prop_starrating', 'prop_review_score', 'prop_brand_bool',\n",
       "       'prop_location_score1', 'prop_location_score2',\n",
       "       'prop_log_historical_price', 'price_usd', 'promotion_flag',\n",
       "       'srch_destination_id', 'srch_length_of_stay', 'srch_booking_window',\n",
       "       'srch_adults_count', 'srch_children_count', 'srch_room_count',\n",
       "       'srch_saturday_night_bool', 'orig_destination_distance', 'month',\n",
       "       'prop_starrating_location_interaction', 'price_historical_interaction',\n",
       "       'total_time_duration', 'highly_rated_prop', 'total_people'],\n",
       "      dtype='object')"
      ]
     },
     "execution_count": 110,
     "metadata": {},
     "output_type": "execute_result"
    }
   ],
   "source": [
    "test_df.columns"
   ]
  },
  {
   "cell_type": "code",
   "execution_count": null,
   "id": "d74f9656",
   "metadata": {},
   "outputs": [],
   "source": [
    "test_df.to_csv('test_preprocessed_2.csv', index=False)"
   ]
  }
 ],
 "metadata": {
  "kernelspec": {
   "display_name": "Python 3",
   "language": "python",
   "name": "python3"
  },
  "language_info": {
   "codemirror_mode": {
    "name": "ipython",
    "version": 3
   },
   "file_extension": ".py",
   "mimetype": "text/x-python",
   "name": "python",
   "nbconvert_exporter": "python",
   "pygments_lexer": "ipython3",
   "version": "3.8.10"
  }
 },
 "nbformat": 4,
 "nbformat_minor": 5
}
