{
 "cells": [
  {
   "cell_type": "code",
   "execution_count": 1,
   "id": "118c1b60",
   "metadata": {},
   "outputs": [],
   "source": [
    "import pandas as pd\n",
    "import seaborn as sns\n",
    "import re\n",
    "import matplotlib.pyplot as plt\n",
    "import numpy as np\n",
    "\n",
    "from sklearn.preprocessing import MinMaxScaler\n",
    "from sklearn.model_selection import train_test_split\n",
    "\n",
    "from sklearn.ensemble import RandomForestClassifier \n",
    "from sklearn.tree import DecisionTreeClassifier\n",
    "\n",
    "from sklearn.model_selection import train_test_split\n",
    "from sklearn.model_selection import GridSearchCV\n",
    "from sklearn import preprocessing\n",
    "from sklearn.preprocessing import LabelEncoder\n",
    "\n",
    "from sklearn.neighbors import KernelDensity\n"
   ]
  },
  {
   "cell_type": "markdown",
   "id": "aea5f62e",
   "metadata": {},
   "source": [
    "# TASK 2: DATA UNDERSTANDING"
   ]
  },
  {
   "cell_type": "code",
   "execution_count": 2,
   "id": "d1f701a7",
   "metadata": {},
   "outputs": [
    {
     "data": {
      "text/plain": [
       "Index(['srch_id', 'date_time', 'site_id', 'visitor_location_country_id',\n",
       "       'visitor_hist_starrating', 'visitor_hist_adr_usd', 'prop_country_id',\n",
       "       'prop_id', 'prop_starrating', 'prop_review_score', 'prop_brand_bool',\n",
       "       'prop_location_score1', 'prop_location_score2',\n",
       "       'prop_log_historical_price', 'position', 'price_usd', 'promotion_flag',\n",
       "       'srch_destination_id', 'srch_length_of_stay', 'srch_booking_window',\n",
       "       'srch_adults_count', 'srch_children_count', 'srch_room_count',\n",
       "       'srch_saturday_night_bool', 'srch_query_affinity_score',\n",
       "       'orig_destination_distance', 'random_bool', 'comp1_rate', 'comp1_inv',\n",
       "       'comp1_rate_percent_diff', 'comp2_rate', 'comp2_inv',\n",
       "       'comp2_rate_percent_diff', 'comp3_rate', 'comp3_inv',\n",
       "       'comp3_rate_percent_diff', 'comp4_rate', 'comp4_inv',\n",
       "       'comp4_rate_percent_diff', 'comp5_rate', 'comp5_inv',\n",
       "       'comp5_rate_percent_diff', 'comp6_rate', 'comp6_inv',\n",
       "       'comp6_rate_percent_diff', 'comp7_rate', 'comp7_inv',\n",
       "       'comp7_rate_percent_diff', 'comp8_rate', 'comp8_inv',\n",
       "       'comp8_rate_percent_diff', 'click_bool', 'gross_bookings_usd',\n",
       "       'booking_bool'],\n",
       "      dtype='object')"
      ]
     },
     "execution_count": 2,
     "metadata": {},
     "output_type": "execute_result"
    }
   ],
   "source": [
    "df = pd.read_csv('../training_set_VU_DM.csv')\n",
    "df.columns"
   ]
  },
  {
   "cell_type": "code",
   "execution_count": 3,
   "id": "758ae392",
   "metadata": {},
   "outputs": [
    {
     "data": {
      "text/plain": [
       "<AxesSubplot:title={'center':'Distribution of frequency of destination country hotel bookings'}, xlabel='prop_country_id', ylabel='Count'>"
      ]
     },
     "execution_count": 3,
     "metadata": {},
     "output_type": "execute_result"
    },
    {
     "data": {
      "image/png": "[encoded data removed]",
      "text/plain": [
       "<Figure size 432x288 with 1 Axes>"
      ]
     },
     "metadata": {
      "needs_background": "light"
     },
     "output_type": "display_data"
    }
   ],
   "source": [
    "plt.ticklabel_format(style='plain', axis='y')\n",
    "plt.title('Distribution of frequency of destination country hotel bookings')\n",
    "sns.histplot(data=df['prop_country_id'])"
   ]
  },
  {
   "cell_type": "markdown",
   "id": "d0c31699",
   "metadata": {},
   "source": [
    "- Analysing missing values"
   ]
  },
  {
   "cell_type": "code",
   "execution_count": 4,
   "id": "f05362a4",
   "metadata": {},
   "outputs": [
    {
     "data": {
      "text/html": [
       "<div>\n",
       "<style scoped>\n",
       "    .dataframe tbody tr th:only-of-type {\n",
       "        vertical-align: middle;\n",
       "    }\n",
       "\n",
       "    .dataframe tbody tr th {\n",
       "        vertical-align: top;\n",
       "    }\n",
       "\n",
       "    .dataframe thead th {\n",
       "        text-align: right;\n",
       "    }\n",
       "</style>\n",
       "<table border=\"1\" class=\"dataframe\">\n",
       "  <thead>\n",
       "    <tr style=\"text-align: right;\">\n",
       "      <th></th>\n",
       "      <th>column</th>\n",
       "      <th>percentage</th>\n",
       "    </tr>\n",
       "  </thead>\n",
       "  <tbody>\n",
       "    <tr>\n",
       "      <th>29</th>\n",
       "      <td>comp1_rate_percent_diff</td>\n",
       "      <td>98.095353</td>\n",
       "    </tr>\n",
       "    <tr>\n",
       "      <th>44</th>\n",
       "      <td>comp6_rate_percent_diff</td>\n",
       "      <td>98.060362</td>\n",
       "    </tr>\n",
       "    <tr>\n",
       "      <th>27</th>\n",
       "      <td>comp1_rate</td>\n",
       "      <td>97.581250</td>\n",
       "    </tr>\n",
       "    <tr>\n",
       "      <th>28</th>\n",
       "      <td>comp1_inv</td>\n",
       "      <td>97.387053</td>\n",
       "    </tr>\n",
       "    <tr>\n",
       "      <th>38</th>\n",
       "      <td>comp4_rate_percent_diff</td>\n",
       "      <td>97.356256</td>\n",
       "    </tr>\n",
       "    <tr>\n",
       "      <th>52</th>\n",
       "      <td>gross_bookings_usd</td>\n",
       "      <td>97.208949</td>\n",
       "    </tr>\n",
       "    <tr>\n",
       "      <th>47</th>\n",
       "      <td>comp7_rate_percent_diff</td>\n",
       "      <td>97.206428</td>\n",
       "    </tr>\n",
       "    <tr>\n",
       "      <th>42</th>\n",
       "      <td>comp6_rate</td>\n",
       "      <td>95.156511</td>\n",
       "    </tr>\n",
       "    <tr>\n",
       "      <th>4</th>\n",
       "      <td>visitor_hist_starrating</td>\n",
       "      <td>94.920364</td>\n",
       "    </tr>\n",
       "    <tr>\n",
       "      <th>5</th>\n",
       "      <td>visitor_hist_adr_usd</td>\n",
       "      <td>94.897735</td>\n",
       "    </tr>\n",
       "    <tr>\n",
       "      <th>43</th>\n",
       "      <td>comp6_inv</td>\n",
       "      <td>94.736633</td>\n",
       "    </tr>\n",
       "    <tr>\n",
       "      <th>36</th>\n",
       "      <td>comp4_rate</td>\n",
       "      <td>93.800797</td>\n",
       "    </tr>\n",
       "    <tr>\n",
       "      <th>45</th>\n",
       "      <td>comp7_rate</td>\n",
       "      <td>93.640058</td>\n",
       "    </tr>\n",
       "    <tr>\n",
       "      <th>24</th>\n",
       "      <td>srch_query_affinity_score</td>\n",
       "      <td>93.598552</td>\n",
       "    </tr>\n",
       "    <tr>\n",
       "      <th>37</th>\n",
       "      <td>comp4_inv</td>\n",
       "      <td>93.069001</td>\n",
       "    </tr>\n",
       "    <tr>\n",
       "      <th>46</th>\n",
       "      <td>comp7_inv</td>\n",
       "      <td>92.811677</td>\n",
       "    </tr>\n",
       "    <tr>\n",
       "      <th>35</th>\n",
       "      <td>comp3_rate_percent_diff</td>\n",
       "      <td>90.464625</td>\n",
       "    </tr>\n",
       "    <tr>\n",
       "      <th>32</th>\n",
       "      <td>comp2_rate_percent_diff</td>\n",
       "      <td>88.781786</td>\n",
       "    </tr>\n",
       "    <tr>\n",
       "      <th>50</th>\n",
       "      <td>comp8_rate_percent_diff</td>\n",
       "      <td>87.602118</td>\n",
       "    </tr>\n",
       "    <tr>\n",
       "      <th>41</th>\n",
       "      <td>comp5_rate_percent_diff</td>\n",
       "      <td>83.036706</td>\n",
       "    </tr>\n",
       "    <tr>\n",
       "      <th>33</th>\n",
       "      <td>comp3_rate</td>\n",
       "      <td>69.056462</td>\n",
       "    </tr>\n",
       "    <tr>\n",
       "      <th>34</th>\n",
       "      <td>comp3_inv</td>\n",
       "      <td>66.702814</td>\n",
       "    </tr>\n",
       "    <tr>\n",
       "      <th>48</th>\n",
       "      <td>comp8_rate</td>\n",
       "      <td>61.344900</td>\n",
       "    </tr>\n",
       "    <tr>\n",
       "      <th>49</th>\n",
       "      <td>comp8_inv</td>\n",
       "      <td>59.916016</td>\n",
       "    </tr>\n",
       "    <tr>\n",
       "      <th>30</th>\n",
       "      <td>comp2_rate</td>\n",
       "      <td>59.166392</td>\n",
       "    </tr>\n",
       "    <tr>\n",
       "      <th>31</th>\n",
       "      <td>comp2_inv</td>\n",
       "      <td>57.036710</td>\n",
       "    </tr>\n",
       "    <tr>\n",
       "      <th>39</th>\n",
       "      <td>comp5_rate</td>\n",
       "      <td>55.179155</td>\n",
       "    </tr>\n",
       "    <tr>\n",
       "      <th>40</th>\n",
       "      <td>comp5_inv</td>\n",
       "      <td>52.403089</td>\n",
       "    </tr>\n",
       "    <tr>\n",
       "      <th>25</th>\n",
       "      <td>orig_destination_distance</td>\n",
       "      <td>32.425766</td>\n",
       "    </tr>\n",
       "    <tr>\n",
       "      <th>12</th>\n",
       "      <td>prop_location_score2</td>\n",
       "      <td>21.990151</td>\n",
       "    </tr>\n",
       "    <tr>\n",
       "      <th>9</th>\n",
       "      <td>prop_review_score</td>\n",
       "      <td>0.148517</td>\n",
       "    </tr>\n",
       "    <tr>\n",
       "      <th>51</th>\n",
       "      <td>click_bool</td>\n",
       "      <td>0.000000</td>\n",
       "    </tr>\n",
       "    <tr>\n",
       "      <th>0</th>\n",
       "      <td>srch_id</td>\n",
       "      <td>0.000000</td>\n",
       "    </tr>\n",
       "    <tr>\n",
       "      <th>1</th>\n",
       "      <td>date_time</td>\n",
       "      <td>0.000000</td>\n",
       "    </tr>\n",
       "    <tr>\n",
       "      <th>14</th>\n",
       "      <td>position</td>\n",
       "      <td>0.000000</td>\n",
       "    </tr>\n",
       "    <tr>\n",
       "      <th>2</th>\n",
       "      <td>site_id</td>\n",
       "      <td>0.000000</td>\n",
       "    </tr>\n",
       "    <tr>\n",
       "      <th>3</th>\n",
       "      <td>visitor_location_country_id</td>\n",
       "      <td>0.000000</td>\n",
       "    </tr>\n",
       "    <tr>\n",
       "      <th>6</th>\n",
       "      <td>prop_country_id</td>\n",
       "      <td>0.000000</td>\n",
       "    </tr>\n",
       "    <tr>\n",
       "      <th>7</th>\n",
       "      <td>prop_id</td>\n",
       "      <td>0.000000</td>\n",
       "    </tr>\n",
       "    <tr>\n",
       "      <th>8</th>\n",
       "      <td>prop_starrating</td>\n",
       "      <td>0.000000</td>\n",
       "    </tr>\n",
       "    <tr>\n",
       "      <th>10</th>\n",
       "      <td>prop_brand_bool</td>\n",
       "      <td>0.000000</td>\n",
       "    </tr>\n",
       "    <tr>\n",
       "      <th>11</th>\n",
       "      <td>prop_location_score1</td>\n",
       "      <td>0.000000</td>\n",
       "    </tr>\n",
       "    <tr>\n",
       "      <th>13</th>\n",
       "      <td>prop_log_historical_price</td>\n",
       "      <td>0.000000</td>\n",
       "    </tr>\n",
       "    <tr>\n",
       "      <th>15</th>\n",
       "      <td>price_usd</td>\n",
       "      <td>0.000000</td>\n",
       "    </tr>\n",
       "    <tr>\n",
       "      <th>26</th>\n",
       "      <td>random_bool</td>\n",
       "      <td>0.000000</td>\n",
       "    </tr>\n",
       "    <tr>\n",
       "      <th>16</th>\n",
       "      <td>promotion_flag</td>\n",
       "      <td>0.000000</td>\n",
       "    </tr>\n",
       "    <tr>\n",
       "      <th>17</th>\n",
       "      <td>srch_destination_id</td>\n",
       "      <td>0.000000</td>\n",
       "    </tr>\n",
       "    <tr>\n",
       "      <th>18</th>\n",
       "      <td>srch_length_of_stay</td>\n",
       "      <td>0.000000</td>\n",
       "    </tr>\n",
       "    <tr>\n",
       "      <th>19</th>\n",
       "      <td>srch_booking_window</td>\n",
       "      <td>0.000000</td>\n",
       "    </tr>\n",
       "    <tr>\n",
       "      <th>20</th>\n",
       "      <td>srch_adults_count</td>\n",
       "      <td>0.000000</td>\n",
       "    </tr>\n",
       "    <tr>\n",
       "      <th>21</th>\n",
       "      <td>srch_children_count</td>\n",
       "      <td>0.000000</td>\n",
       "    </tr>\n",
       "    <tr>\n",
       "      <th>22</th>\n",
       "      <td>srch_room_count</td>\n",
       "      <td>0.000000</td>\n",
       "    </tr>\n",
       "    <tr>\n",
       "      <th>23</th>\n",
       "      <td>srch_saturday_night_bool</td>\n",
       "      <td>0.000000</td>\n",
       "    </tr>\n",
       "    <tr>\n",
       "      <th>53</th>\n",
       "      <td>booking_bool</td>\n",
       "      <td>0.000000</td>\n",
       "    </tr>\n",
       "  </tbody>\n",
       "</table>\n",
       "</div>"
      ],
      "text/plain": [
       "                         column  percentage\n",
       "29      comp1_rate_percent_diff   98.095353\n",
       "44      comp6_rate_percent_diff   98.060362\n",
       "27                   comp1_rate   97.581250\n",
       "28                    comp1_inv   97.387053\n",
       "38      comp4_rate_percent_diff   97.356256\n",
       "52           gross_bookings_usd   97.208949\n",
       "47      comp7_rate_percent_diff   97.206428\n",
       "42                   comp6_rate   95.156511\n",
       "4       visitor_hist_starrating   94.920364\n",
       "5          visitor_hist_adr_usd   94.897735\n",
       "43                    comp6_inv   94.736633\n",
       "36                   comp4_rate   93.800797\n",
       "45                   comp7_rate   93.640058\n",
       "24    srch_query_affinity_score   93.598552\n",
       "37                    comp4_inv   93.069001\n",
       "46                    comp7_inv   92.811677\n",
       "35      comp3_rate_percent_diff   90.464625\n",
       "32      comp2_rate_percent_diff   88.781786\n",
       "50      comp8_rate_percent_diff   87.602118\n",
       "41      comp5_rate_percent_diff   83.036706\n",
       "33                   comp3_rate   69.056462\n",
       "34                    comp3_inv   66.702814\n",
       "48                   comp8_rate   61.344900\n",
       "49                    comp8_inv   59.916016\n",
       "30                   comp2_rate   59.166392\n",
       "31                    comp2_inv   57.036710\n",
       "39                   comp5_rate   55.179155\n",
       "40                    comp5_inv   52.403089\n",
       "25    orig_destination_distance   32.425766\n",
       "12         prop_location_score2   21.990151\n",
       "9             prop_review_score    0.148517\n",
       "51                   click_bool    0.000000\n",
       "0                       srch_id    0.000000\n",
       "1                     date_time    0.000000\n",
       "14                     position    0.000000\n",
       "2                       site_id    0.000000\n",
       "3   visitor_location_country_id    0.000000\n",
       "6               prop_country_id    0.000000\n",
       "7                       prop_id    0.000000\n",
       "8               prop_starrating    0.000000\n",
       "10              prop_brand_bool    0.000000\n",
       "11         prop_location_score1    0.000000\n",
       "13    prop_log_historical_price    0.000000\n",
       "15                    price_usd    0.000000\n",
       "26                  random_bool    0.000000\n",
       "16               promotion_flag    0.000000\n",
       "17          srch_destination_id    0.000000\n",
       "18          srch_length_of_stay    0.000000\n",
       "19          srch_booking_window    0.000000\n",
       "20            srch_adults_count    0.000000\n",
       "21          srch_children_count    0.000000\n",
       "22              srch_room_count    0.000000\n",
       "23     srch_saturday_night_bool    0.000000\n",
       "53                 booking_bool    0.000000"
      ]
     },
     "execution_count": 4,
     "metadata": {},
     "output_type": "execute_result"
    }
   ],
   "source": [
    "missing_df = pd.DataFrame(df.isnull().sum()/len(df))*100\n",
    "missing_df.reset_index(inplace=True)\n",
    "missing_df.rename(columns={0: 'percentage', 'index':'column'}, inplace=True)\n",
    "missing_df = missing_df.sort_values(by = 'percentage', ascending = False)\n",
    "missing_df"
   ]
  },
  {
   "cell_type": "code",
   "execution_count": 5,
   "id": "44f620b3",
   "metadata": {},
   "outputs": [
    {
     "data": {
      "image/png": "[encoded data removed]",
      "text/plain": [
       "<Figure size 432x288 with 1 Axes>"
      ]
     },
     "metadata": {
      "needs_background": "light"
     },
     "output_type": "display_data"
    }
   ],
   "source": [
    "sns.barplot(x=missing_df['column'], y=missing_df['percentage'], dodge=0.8)\n",
    "plt.xticks(rotation = 45)\n",
    "\n",
    "# Add labels and title\n",
    "plt.xlabel('Attribute')\n",
    "plt.ylabel('Percentage')\n",
    "plt.title('Missing values analysis')\n",
    "\n",
    "plt.show()"
   ]
  },
  {
   "cell_type": "markdown",
   "id": "b430084d",
   "metadata": {},
   "source": [
    "# Data imputation"
   ]
  },
  {
   "cell_type": "code",
   "execution_count": 6,
   "id": "7fe2c297",
   "metadata": {},
   "outputs": [],
   "source": [
    "# Get non-missing values from the column\n",
    "non_missing_values = df['orig_destination_distance'].dropna()\n",
    "\n",
    "# Reshape the values for input to KDE\n",
    "values = non_missing_values.values.reshape(-1, 1)\n",
    "\n",
    "# Create and fit the KDE model\n",
    "kde = KernelDensity(bandwidth=0.75)  # Adjust the bandwidth as needed\n",
    "kde.fit(values)\n",
    "\n",
    "# Generate random values based on the KDE model\n",
    "random_values = kde.sample(df['orig_destination_distance'].isna().sum()).reshape(-1)\n",
    "\n",
    "# Fill the missing values with the generated random values\n",
    "df.loc[df['orig_destination_distance'].isna(), 'orig_destination_distance'] = random_values"
   ]
  },
  {
   "cell_type": "code",
   "execution_count": 7,
   "id": "3bdf2af3",
   "metadata": {},
   "outputs": [],
   "source": [
    "threshold = len(df) * 0.5  # Set the threshold as 50% of the total rows\n",
    "df.dropna(thresh=threshold, axis=1, inplace=True)"
   ]
  },
  {
   "cell_type": "code",
   "execution_count": 8,
   "id": "b3b4b934",
   "metadata": {},
   "outputs": [
    {
     "name": "stdout",
     "output_type": "stream",
     "text": [
      "srch_id : 199795\n",
      "date_time : 198615\n",
      "site_id : 34\n",
      "visitor_location_country_id : 210\n",
      "prop_country_id : 172\n",
      "prop_id : 129113\n",
      "prop_starrating : 6\n",
      "prop_review_score : 10\n",
      "prop_brand_bool : 2\n",
      "prop_location_score1 : 337\n",
      "prop_location_score2 : 9342\n",
      "prop_log_historical_price : 392\n",
      "position : 40\n",
      "price_usd : 76465\n",
      "promotion_flag : 2\n",
      "srch_destination_id : 18127\n",
      "srch_length_of_stay : 36\n",
      "srch_booking_window : 429\n",
      "srch_adults_count : 9\n",
      "srch_children_count : 10\n",
      "srch_room_count : 8\n",
      "srch_saturday_night_bool : 2\n",
      "orig_destination_distance : 2138377\n",
      "random_bool : 2\n",
      "click_bool : 2\n",
      "booking_bool : 2\n"
     ]
    }
   ],
   "source": [
    "for col, count in df.nunique().to_dict().items():\n",
    "    print(f'{col} : {count}')"
   ]
  },
  {
   "cell_type": "markdown",
   "id": "bfceeca4",
   "metadata": {},
   "source": [
    "# TASK 3: DATA PREPARATION "
   ]
  },
  {
   "cell_type": "markdown",
   "id": "73a82c5f",
   "metadata": {},
   "source": [
    "- Encoding the categorical columns as category "
   ]
  },
  {
   "cell_type": "code",
   "execution_count": 9,
   "id": "50a667cf",
   "metadata": {},
   "outputs": [],
   "source": [
    "categorical_cols = ['srch_id', 'site_id', 'visitor_location_country_id', 'prop_country_id', 'prop_id', 'srch_destination_id']\n",
    "df[categorical_cols] = df[categorical_cols].astype('category')\n"
   ]
  },
  {
   "cell_type": "code",
   "execution_count": 10,
   "id": "7d3ec0cf",
   "metadata": {},
   "outputs": [
    {
     "data": {
      "image/png": "[encoded data removed]",
      "text/plain": [
       "<Figure size 432x288 with 1 Axes>"
      ]
     },
     "metadata": {
      "needs_background": "light"
     },
     "output_type": "display_data"
    }
   ],
   "source": [
    "\n",
    "# Create a boxplot using seaborn\n",
    "sns.boxplot(data=df['price_usd'], orient='h')\n",
    "plt.title('Price boxplot')\n",
    "plt.show()"
   ]
  },
  {
   "cell_type": "code",
   "execution_count": 11,
   "id": "0eccd88e",
   "metadata": {},
   "outputs": [],
   "source": [
    "rows_before = df.shape[0]"
   ]
  },
  {
   "cell_type": "code",
   "execution_count": 12,
   "id": "1bdc8e0b",
   "metadata": {},
   "outputs": [],
   "source": [
    "# Eliminating rows with outlier prices\n",
    "z_scores = np.abs((df['price_usd'] - df['price_usd'].mean()) / df['price_usd'].std())\n",
    "threshold = 3\n",
    "df = df[z_scores <= threshold]"
   ]
  },
  {
   "cell_type": "code",
   "execution_count": 13,
   "id": "1c553f70",
   "metadata": {},
   "outputs": [
    {
     "name": "stdout",
     "output_type": "stream",
     "text": [
      "1120 rows were eliminated\n"
     ]
    }
   ],
   "source": [
    "rows_after = df.shape[0]\n",
    "print(f'{rows_before - rows_after} rows were eliminated')"
   ]
  },
  {
   "cell_type": "markdown",
   "id": "20f62dc0",
   "metadata": {},
   "source": [
    "### Normalizing columns to reduce the impact of large values on the modeling\n",
    "- particularly price column since it will vary based on location and to reduce its impact from shadowning other attributes\n",
    "- since the prices will vary based on country it is logical to group by country id and normalize per country"
   ]
  },
  {
   "cell_type": "code",
   "execution_count": 14,
   "id": "28865581",
   "metadata": {},
   "outputs": [],
   "source": [
    "columns_to_normalize = ['price_usd']\n",
    "\n",
    "for col in columns_to_normalize:\n",
    "    df[col] = df.groupby('prop_country_id')[col].transform(lambda x: (x.max() - x) / (x.max() - x.min()))\n"
   ]
  },
  {
   "cell_type": "markdown",
   "id": "c721774a",
   "metadata": {},
   "source": [
    "### Extracting month, day of week from  from date attribute"
   ]
  },
  {
   "cell_type": "code",
   "execution_count": 15,
   "id": "45727db5",
   "metadata": {},
   "outputs": [],
   "source": [
    "df['date_time'] = pd.to_datetime(df['date_time'])\n",
    "df['month'] = df['date_time'].dt.month\n",
    "df['day_of_week'] = df['date_time'].dt.day_of_week\n",
    "\n",
    "df =  df.drop('date_time', axis=1)"
   ]
  },
  {
   "cell_type": "code",
   "execution_count": 16,
   "id": "1eb7c545",
   "metadata": {},
   "outputs": [],
   "source": [
    "df['is_prop_in_same_country'] = df.apply( lambda x: 1 if x['srch_destination_id'] == x['visitor_location_country_id'] else 0, axis=1)\n",
    "df['is_prop_in_same_country'].value_counts()\n",
    "df=df.drop(['is_prop_in_same_country'],axis=1)\n",
    "\n",
    "# since users country location and the destination country location is majorly different the attribute visitor_location_country_id\n",
    "# does not seem to be relevant and can be dropped"
   ]
  },
  {
   "cell_type": "code",
   "execution_count": 17,
   "id": "6c652b08",
   "metadata": {},
   "outputs": [
    {
     "data": {
      "text/plain": [
       "Index(['srch_id', 'site_id', 'visitor_location_country_id', 'prop_country_id',\n",
       "       'prop_id', 'prop_starrating', 'prop_review_score', 'prop_brand_bool',\n",
       "       'prop_location_score1', 'prop_location_score2',\n",
       "       'prop_log_historical_price', 'position', 'price_usd', 'promotion_flag',\n",
       "       'srch_destination_id', 'srch_length_of_stay', 'srch_booking_window',\n",
       "       'srch_adults_count', 'srch_children_count', 'srch_room_count',\n",
       "       'srch_saturday_night_bool', 'orig_destination_distance', 'random_bool',\n",
       "       'click_bool', 'booking_bool', 'month', 'day_of_week'],\n",
       "      dtype='object')"
      ]
     },
     "execution_count": 17,
     "metadata": {},
     "output_type": "execute_result"
    }
   ],
   "source": [
    "df.columns"
   ]
  },
  {
   "cell_type": "markdown",
   "id": "39ad1d04",
   "metadata": {},
   "source": [
    "Submissions for each user query should recommend hotels in order from the highest grade\n",
    "(most likely to purchase a hotel room) to the lowest grade (least likely to purchase a hotel\n",
    "room or click on the hotel)."
   ]
  },
  {
   "cell_type": "code",
   "execution_count": 18,
   "id": "2c90d724",
   "metadata": {},
   "outputs": [],
   "source": [
    "# Fill the missing values with the median, as the data is not distributed normally\n",
    "df['prop_review_score'].fillna(df['prop_review_score'].median(), inplace=True)"
   ]
  },
  {
   "cell_type": "code",
   "execution_count": 19,
   "id": "9af5fbd7",
   "metadata": {},
   "outputs": [],
   "source": [
    "\n",
    "df['relevance'] = df.apply(lambda x: ((x['prop_starrating'] * x['prop_review_score'])/ 100) * (x['booking_bool'] * 4 + x['click_bool']*1), axis=1)\n",
    "\n",
    "# Since a customer is less likely to book a hotel if it has no ratings or no score we want to place it low on list\n",
    "# df['relevance'] = df.apply(lambda x:  0 if x['prop_location_score2'].is else 1, axis=1)\n",
    "# df['relevance'] = df.apply(lambda x:  0 if x['prop_review_score'] else 1, axis=1)\n"
   ]
  },
  {
   "cell_type": "markdown",
   "id": "8ffb49f0",
   "metadata": {},
   "source": [
    "Add a column with an interaction between prop-starrating and prop_location_score1 to represent the overall desirability of a hotel based on star rating and location score"
   ]
  },
  {
   "cell_type": "code",
   "execution_count": 20,
   "id": "7f8f1d9e",
   "metadata": {},
   "outputs": [],
   "source": [
    "# Create a new feature by multiplying 'prop_starrating' and 'prop_location_score1'\n",
    "df['prop_starrating_location_interaction'] = df['prop_starrating'] * df['prop_location_score1']\n",
    "\n",
    "\n",
    "# Create a new feature interaction between price_usd and prop_log_historical_price to capture the \n",
    "# relative price compared to historical prices \n",
    "#df['price_historical_interaction'] = abs(df['price_usd'] - df['prop_log_historical_price'])\n",
    "\n",
    "# Create a new feature interaction between srch_length_of_stay and srch_booking_window to represent\n",
    "# the total duration of the stay and planning horizon\n",
    "df['total_time_duration'] = df['srch_length_of_stay'] + df['srch_booking_window']\n",
    "\n",
    "# Create a new column 'highly_rated_prop' based on 'prop_starrating'\n",
    "df['highly_rated_prop'] = df['prop_starrating'].apply(lambda x: 1 if x >= 4 else 0)\n",
    "\n",
    "df['total_people'] = df['srch_children_count'] + df['srch_adults_count']"
   ]
  },
  {
   "cell_type": "code",
   "execution_count": 21,
   "id": "d5d1f8a8",
   "metadata": {},
   "outputs": [],
   "source": [
    "df['mean_price_by_country'] = abs(df['price_usd'] - df.groupby('prop_country_id')['price_usd'].transform('mean'))"
   ]
  },
  {
   "cell_type": "code",
   "execution_count": 22,
   "id": "a9b30a2d",
   "metadata": {},
   "outputs": [
    {
     "data": {
      "image/png": "[encoded data removed]",
      "text/plain": [
       "<Figure size 432x288 with 1 Axes>"
      ]
     },
     "metadata": {
      "needs_background": "light"
     },
     "output_type": "display_data"
    }
   ],
   "source": [
    "# Create a boxplot using seaborn\n",
    "sns.boxplot(data=df['prop_log_historical_price'], orient='h')\n",
    "plt.title('Price boxplot')\n",
    "plt.show()"
   ]
  },
  {
   "cell_type": "code",
   "execution_count": 23,
   "id": "c251b489",
   "metadata": {},
   "outputs": [],
   "source": [
    "df['has_promotion_and_highly_rated'] = (df['promotion_flag'] & df['highly_rated_prop']).astype(int)"
   ]
  },
  {
   "cell_type": "code",
   "execution_count": 24,
   "id": "d028c8eb",
   "metadata": {},
   "outputs": [],
   "source": [
    "# dropping site_id column as it doesnt seeem that relevant given that its all expedia sites should nt add much relevant info for prediction purpose\\\n",
    "# drop srch_children_count and srch_adults_count as its already factored in total_people attribute\n",
    "df.drop(['site_id', 'srch_children_count', 'srch_adults_count', 'visitor_location_country_id'], axis=1, inplace=True)"
   ]
  },
  {
   "cell_type": "code",
   "execution_count": 25,
   "id": "0694da61",
   "metadata": {},
   "outputs": [
    {
     "data": {
      "text/plain": [
       "Index(['srch_id', 'prop_country_id', 'prop_id', 'prop_starrating',\n",
       "       'prop_review_score', 'prop_brand_bool', 'prop_location_score1',\n",
       "       'prop_location_score2', 'prop_log_historical_price', 'position',\n",
       "       'price_usd', 'promotion_flag', 'srch_destination_id',\n",
       "       'srch_length_of_stay', 'srch_booking_window', 'srch_room_count',\n",
       "       'srch_saturday_night_bool', 'orig_destination_distance', 'random_bool',\n",
       "       'click_bool', 'booking_bool', 'month', 'day_of_week', 'relevance',\n",
       "       'prop_starrating_location_interaction', 'total_time_duration',\n",
       "       'highly_rated_prop', 'total_people', 'mean_price_by_country',\n",
       "       'has_promotion_and_highly_rated'],\n",
       "      dtype='object')"
      ]
     },
     "execution_count": 25,
     "metadata": {},
     "output_type": "execute_result"
    }
   ],
   "source": [
    "df.columns"
   ]
  },
  {
   "cell_type": "code",
   "execution_count": 26,
   "id": "7f22b1e8",
   "metadata": {},
   "outputs": [],
   "source": [
    "# Saving the preprocessed data\n",
    "#df.to_csv('train_preprocessed_2.csv', index=False)"
   ]
  },
  {
   "cell_type": "markdown",
   "id": "07e6532a",
   "metadata": {},
   "source": [
    "# Preprocessing test data "
   ]
  },
  {
   "cell_type": "code",
   "execution_count": 27,
   "id": "1f4df554",
   "metadata": {},
   "outputs": [
    {
     "data": {
      "text/plain": [
       "Index(['srch_id', 'date_time', 'site_id', 'visitor_location_country_id',\n",
       "       'visitor_hist_starrating', 'visitor_hist_adr_usd', 'prop_country_id',\n",
       "       'prop_id', 'prop_starrating', 'prop_review_score', 'prop_brand_bool',\n",
       "       'prop_location_score1', 'prop_location_score2',\n",
       "       'prop_log_historical_price', 'price_usd', 'promotion_flag',\n",
       "       'srch_destination_id', 'srch_length_of_stay', 'srch_booking_window',\n",
       "       'srch_adults_count', 'srch_children_count', 'srch_room_count',\n",
       "       'srch_saturday_night_bool', 'srch_query_affinity_score',\n",
       "       'orig_destination_distance', 'random_bool', 'comp1_rate', 'comp1_inv',\n",
       "       'comp1_rate_percent_diff', 'comp2_rate', 'comp2_inv',\n",
       "       'comp2_rate_percent_diff', 'comp3_rate', 'comp3_inv',\n",
       "       'comp3_rate_percent_diff', 'comp4_rate', 'comp4_inv',\n",
       "       'comp4_rate_percent_diff', 'comp5_rate', 'comp5_inv',\n",
       "       'comp5_rate_percent_diff', 'comp6_rate', 'comp6_inv',\n",
       "       'comp6_rate_percent_diff', 'comp7_rate', 'comp7_inv',\n",
       "       'comp7_rate_percent_diff', 'comp8_rate', 'comp8_inv',\n",
       "       'comp8_rate_percent_diff'],\n",
       "      dtype='object')"
      ]
     },
     "execution_count": 27,
     "metadata": {},
     "output_type": "execute_result"
    }
   ],
   "source": [
    "test_df = pd.read_csv('../test_set_VU_DM.csv')\n",
    "test_df.columns"
   ]
  },
  {
   "cell_type": "code",
   "execution_count": 28,
   "id": "9ddb9f9d",
   "metadata": {},
   "outputs": [],
   "source": [
    "test_df['date_time'] = pd.to_datetime(test_df['date_time'])\n",
    "test_df['month'] = test_df['date_time'].dt.month\n",
    "test_df['day_of_week'] = test_df['date_time'].dt.day_of_week\n",
    "\n",
    "test_df =  test_df.drop('date_time', axis=1)"
   ]
  },
  {
   "cell_type": "markdown",
   "id": "1c9700f1",
   "metadata": {},
   "source": [
    "- replacing the outliers outside 3 standard deviations with the 99th percentile price"
   ]
  },
  {
   "cell_type": "code",
   "execution_count": 29,
   "id": "684c6697",
   "metadata": {},
   "outputs": [
    {
     "name": "stdout",
     "output_type": "stream",
     "text": [
      "False    4911270\n",
      "True       47913\n",
      "Name: is_outlier, dtype: int64\n"
     ]
    }
   ],
   "source": [
    "test_df['75th_percentile'] = test_df.groupby('prop_id')['price_usd'].transform(lambda x: np.percentile(x, 75))\n",
    "test_df['mean'] = test_df.groupby('prop_id')['price_usd'].transform('mean')\n",
    "test_df['std'] = test_df.groupby('prop_id')['price_usd'].transform('std')\n",
    "threshold = 3\n",
    "test_df['is_outlier'] = abs(test_df['price_usd'] - test_df['mean']) > threshold * test_df['std']\n",
    "test_df.loc[test_df['is_outlier'], 'price_usd'] = test_df.loc[test_df['is_outlier'], '75th_percentile']\n",
    "print(test_df['is_outlier'].value_counts())\n",
    "test_df = test_df.drop(['75th_percentile', 'mean', 'std', 'is_outlier'], axis=1)"
   ]
  },
  {
   "cell_type": "code",
   "execution_count": 30,
   "id": "99241191",
   "metadata": {},
   "outputs": [],
   "source": [
    "# # Create a new feature by multiplying 'prop_starrating' and 'prop_location_score1'\n",
    "test_df['prop_starrating_location_interaction'] = test_df['prop_starrating'] * test_df['prop_location_score1']\n",
    "\n",
    "\n",
    "# # Create a new feature interaction between price_usd and prop_log_historical_price to capture the \n",
    "# # relative price compared to historical prices \n",
    "#test_df['price_historical_interaction'] = abs(test_df['price_usd'] - test_df['prop_log_historical_price'])\n",
    "\n",
    "# # Create a new feature interaction between srch_length_of_stay and srch_booking_window to represent\n",
    "# # the total duration of the stay and planning horizon\n",
    "test_df['total_time_duration'] = test_df['srch_length_of_stay'] * test_df['srch_booking_window']\n",
    "\n",
    "# Create a new column 'highly_rated_prop' based on 'prop_starrating'\n",
    "test_df['highly_rated_prop'] = test_df['prop_starrating'].apply(lambda x: 1 if x >= 4 else 0)\n",
    "\n",
    "test_df['total_people'] = test_df['srch_children_count'] + test_df['srch_adults_count']"
   ]
  },
  {
   "cell_type": "code",
   "execution_count": 31,
   "id": "dbdb011b",
   "metadata": {},
   "outputs": [],
   "source": [
    "test_df['mean_price_by_country'] = abs(test_df['price_usd'] - test_df.groupby('prop_country_id')['price_usd'].transform('mean'))"
   ]
  },
  {
   "cell_type": "code",
   "execution_count": 32,
   "id": "ec6f27db",
   "metadata": {},
   "outputs": [],
   "source": [
    "test_df['has_promotion_and_highly_rated'] = (test_df['promotion_flag'] & test_df['highly_rated_prop']).astype(int)"
   ]
  },
  {
   "cell_type": "code",
   "execution_count": 33,
   "id": "d5fba7a0",
   "metadata": {},
   "outputs": [],
   "source": [
    "cols = df.columns\n",
    "cols = [x for x in cols if x not in ['position', 'click_bool', 'booking_bool','position','random_bool','relevance']]\n",
    "\n",
    "test_df = test_df[cols]"
   ]
  },
  {
   "cell_type": "code",
   "execution_count": 34,
   "id": "d4bb3abb",
   "metadata": {},
   "outputs": [],
   "source": [
    "categorical_cols = ['srch_id', 'prop_country_id', 'prop_id', 'srch_destination_id']\n",
    "test_df[categorical_cols] = test_df[categorical_cols].astype('category')"
   ]
  },
  {
   "cell_type": "code",
   "execution_count": 35,
   "id": "eb8b0ea9",
   "metadata": {},
   "outputs": [],
   "source": [
    "columns_to_normalize = ['price_usd']\n",
    "\n",
    "for col in columns_to_normalize:\n",
    "    test_df[col] = test_df.groupby('prop_country_id')[col].transform(lambda x: (x.max() - x) / (x.max() - x.min()))"
   ]
  },
  {
   "cell_type": "code",
   "execution_count": 36,
   "id": "08849ecb",
   "metadata": {},
   "outputs": [],
   "source": [
    "# dropping site_id column as it doesnt seeem that relevant given that its all expedia sites should nt add much relevant info for prediction purpose\n",
    "# test_df.drop(['site_id', 'srch_children_count', 'srch_adults_count'], axis=1, inplace=True)"
   ]
  },
  {
   "cell_type": "code",
   "execution_count": 37,
   "id": "35b9c855",
   "metadata": {
    "scrolled": false
   },
   "outputs": [
    {
     "data": {
      "text/plain": [
       "Index(['srch_id', 'prop_country_id', 'prop_id', 'prop_starrating',\n",
       "       'prop_review_score', 'prop_brand_bool', 'prop_location_score1',\n",
       "       'prop_location_score2', 'prop_log_historical_price', 'price_usd',\n",
       "       'promotion_flag', 'srch_destination_id', 'srch_length_of_stay',\n",
       "       'srch_booking_window', 'srch_room_count', 'srch_saturday_night_bool',\n",
       "       'orig_destination_distance', 'month', 'day_of_week',\n",
       "       'prop_starrating_location_interaction', 'total_time_duration',\n",
       "       'highly_rated_prop', 'total_people', 'mean_price_by_country',\n",
       "       'has_promotion_and_highly_rated'],\n",
       "      dtype='object')"
      ]
     },
     "execution_count": 37,
     "metadata": {},
     "output_type": "execute_result"
    }
   ],
   "source": [
    "test_df.columns"
   ]
  },
  {
   "cell_type": "markdown",
   "id": "27eb8465",
   "metadata": {},
   "source": [
    "## Normalize prices"
   ]
  },
  {
   "cell_type": "code",
   "execution_count": 38,
   "id": "13d6489f",
   "metadata": {
    "scrolled": true
   },
   "outputs": [],
   "source": [
    "# Combine training set and test set prices\n",
    "combined_prices = np.concatenate((df['price_usd'], test_df['price_usd']))"
   ]
  },
  {
   "cell_type": "code",
   "execution_count": 39,
   "id": "b3f8b0e5",
   "metadata": {},
   "outputs": [],
   "source": [
    "# Reshape the prices to a 2D array for MinMaxScaler\n",
    "combined_prices = combined_prices.reshape(-1, 1)\n",
    "\n",
    "# Initialize and fit the MinMaxScaler\n",
    "scaler = MinMaxScaler()\n",
    "scaler.fit(combined_prices)\n",
    "\n",
    "# Normalize the prices in the training set\n",
    "df['normalized_price'] = scaler.transform(df['price_usd'].values.reshape(-1, 1))\n",
    "\n",
    "# Normalize the prices in the test set\n",
    "test_df['normalized_price'] = scaler.transform(test_df['price_usd'].values.reshape(-1, 1))"
   ]
  },
  {
   "cell_type": "code",
   "execution_count": 40,
   "id": "02bc709f",
   "metadata": {},
   "outputs": [
    {
     "data": {
      "text/plain": [
       "Index(['srch_id', 'prop_country_id', 'prop_id', 'prop_starrating',\n",
       "       'prop_review_score', 'prop_brand_bool', 'prop_location_score1',\n",
       "       'prop_location_score2', 'prop_log_historical_price', 'position',\n",
       "       'price_usd', 'promotion_flag', 'srch_destination_id',\n",
       "       'srch_length_of_stay', 'srch_booking_window', 'srch_room_count',\n",
       "       'srch_saturday_night_bool', 'orig_destination_distance', 'random_bool',\n",
       "       'click_bool', 'booking_bool', 'month', 'day_of_week', 'relevance',\n",
       "       'prop_starrating_location_interaction', 'total_time_duration',\n",
       "       'highly_rated_prop', 'total_people', 'mean_price_by_country',\n",
       "       'has_promotion_and_highly_rated', 'normalized_price'],\n",
       "      dtype='object')"
      ]
     },
     "execution_count": 40,
     "metadata": {},
     "output_type": "execute_result"
    }
   ],
   "source": [
    "df.columns"
   ]
  },
  {
   "cell_type": "code",
   "execution_count": 41,
   "id": "bdbef45f",
   "metadata": {},
   "outputs": [],
   "source": [
    "df.to_csv('train_preprocessed_2.csv', index=False)"
   ]
  },
  {
   "cell_type": "code",
   "execution_count": 42,
   "id": "d74f9656",
   "metadata": {},
   "outputs": [],
   "source": [
    "test_df.to_csv('test_preprocessed_2.csv', index=False)"
   ]
  },
  {
   "cell_type": "code",
   "execution_count": null,
   "id": "aed51d72",
   "metadata": {},
   "outputs": [],
   "source": []
  },
  {
   "cell_type": "code",
   "execution_count": null,
   "id": "e755bcc5",
   "metadata": {},
   "outputs": [],
   "source": []
  }
 ],
 "metadata": {
  "kernelspec": {
   "display_name": "Python 3",
   "language": "python",
   "name": "python3"
  },
  "language_info": {
   "codemirror_mode": {
    "name": "ipython",
    "version": 3
   },
   "file_extension": ".py",
   "mimetype": "text/x-python",
   "name": "python",
   "nbconvert_exporter": "python",
   "pygments_lexer": "ipython3",
   "version": "3.9.12"
  }
 },
 "nbformat": 4,
 "nbformat_minor": 5
}
