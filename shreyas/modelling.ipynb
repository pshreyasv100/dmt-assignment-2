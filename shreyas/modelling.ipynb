{
 "cells": [
  {
   "cell_type": "code",
   "execution_count": 1,
   "metadata": {},
   "outputs": [],
   "source": [
    "import pandas as pd\n",
    "import seaborn as sns\n",
    "import matplotlib.pyplot as plt\n",
    "\n",
    "\n",
    "from sklearn.model_selection import train_test_split\n",
    "from tqdm import tqdm\n",
    "\n",
    "from sklearn.preprocessing import MinMaxScaler\n",
    "\n",
    "import time\n"
   ]
  },
  {
   "cell_type": "code",
   "execution_count": 2,
   "metadata": {},
   "outputs": [],
   "source": [
    "# !pip install xgboost"
   ]
  },
  {
   "cell_type": "code",
   "execution_count": 3,
   "metadata": {},
   "outputs": [],
   "source": [
    "from xgboost import XGBRanker"
   ]
  },
  {
   "cell_type": "code",
   "execution_count": 4,
   "metadata": {},
   "outputs": [
    {
     "data": {
      "text/html": [
       "<div>\n",
       "<style scoped>\n",
       "    .dataframe tbody tr th:only-of-type {\n",
       "        vertical-align: middle;\n",
       "    }\n",
       "\n",
       "    .dataframe tbody tr th {\n",
       "        vertical-align: top;\n",
       "    }\n",
       "\n",
       "    .dataframe thead th {\n",
       "        text-align: right;\n",
       "    }\n",
       "</style>\n",
       "<table border=\"1\" class=\"dataframe\">\n",
       "  <thead>\n",
       "    <tr style=\"text-align: right;\">\n",
       "      <th></th>\n",
       "      <th>srch_id</th>\n",
       "      <th>prop_country_id</th>\n",
       "      <th>prop_id</th>\n",
       "      <th>prop_starrating</th>\n",
       "      <th>prop_review_score</th>\n",
       "      <th>prop_brand_bool</th>\n",
       "      <th>prop_location_score1</th>\n",
       "      <th>prop_location_score2</th>\n",
       "      <th>prop_log_historical_price</th>\n",
       "      <th>position</th>\n",
       "      <th>...</th>\n",
       "      <th>random_bool</th>\n",
       "      <th>click_bool</th>\n",
       "      <th>booking_bool</th>\n",
       "      <th>price_usd_mean</th>\n",
       "      <th>price_diff_with_mean_price</th>\n",
       "      <th>month</th>\n",
       "      <th>day_of_week</th>\n",
       "      <th>relevance</th>\n",
       "      <th>highly_rated_prop</th>\n",
       "      <th>total_people</th>\n",
       "    </tr>\n",
       "  </thead>\n",
       "  <tbody>\n",
       "    <tr>\n",
       "      <th>0</th>\n",
       "      <td>1</td>\n",
       "      <td>219</td>\n",
       "      <td>893</td>\n",
       "      <td>3</td>\n",
       "      <td>3.5</td>\n",
       "      <td>1</td>\n",
       "      <td>2.83</td>\n",
       "      <td>0.0438</td>\n",
       "      <td>4.95</td>\n",
       "      <td>27</td>\n",
       "      <td>...</td>\n",
       "      <td>1</td>\n",
       "      <td>0</td>\n",
       "      <td>0</td>\n",
       "      <td>150.114326</td>\n",
       "      <td>45.344326</td>\n",
       "      <td>4</td>\n",
       "      <td>3</td>\n",
       "      <td>0.0</td>\n",
       "      <td>0</td>\n",
       "      <td>4</td>\n",
       "    </tr>\n",
       "    <tr>\n",
       "      <th>1</th>\n",
       "      <td>1</td>\n",
       "      <td>219</td>\n",
       "      <td>10404</td>\n",
       "      <td>4</td>\n",
       "      <td>4.0</td>\n",
       "      <td>1</td>\n",
       "      <td>2.20</td>\n",
       "      <td>0.0149</td>\n",
       "      <td>5.03</td>\n",
       "      <td>26</td>\n",
       "      <td>...</td>\n",
       "      <td>1</td>\n",
       "      <td>0</td>\n",
       "      <td>0</td>\n",
       "      <td>150.114326</td>\n",
       "      <td>20.625674</td>\n",
       "      <td>4</td>\n",
       "      <td>3</td>\n",
       "      <td>0.0</td>\n",
       "      <td>1</td>\n",
       "      <td>4</td>\n",
       "    </tr>\n",
       "    <tr>\n",
       "      <th>2</th>\n",
       "      <td>1</td>\n",
       "      <td>219</td>\n",
       "      <td>21315</td>\n",
       "      <td>3</td>\n",
       "      <td>4.5</td>\n",
       "      <td>1</td>\n",
       "      <td>2.20</td>\n",
       "      <td>0.0245</td>\n",
       "      <td>4.92</td>\n",
       "      <td>21</td>\n",
       "      <td>...</td>\n",
       "      <td>1</td>\n",
       "      <td>0</td>\n",
       "      <td>0</td>\n",
       "      <td>150.114326</td>\n",
       "      <td>29.685674</td>\n",
       "      <td>4</td>\n",
       "      <td>3</td>\n",
       "      <td>0.0</td>\n",
       "      <td>0</td>\n",
       "      <td>4</td>\n",
       "    </tr>\n",
       "    <tr>\n",
       "      <th>3</th>\n",
       "      <td>1</td>\n",
       "      <td>219</td>\n",
       "      <td>27348</td>\n",
       "      <td>2</td>\n",
       "      <td>4.0</td>\n",
       "      <td>1</td>\n",
       "      <td>2.83</td>\n",
       "      <td>0.0125</td>\n",
       "      <td>4.39</td>\n",
       "      <td>34</td>\n",
       "      <td>...</td>\n",
       "      <td>1</td>\n",
       "      <td>0</td>\n",
       "      <td>0</td>\n",
       "      <td>150.114326</td>\n",
       "      <td>452.655674</td>\n",
       "      <td>4</td>\n",
       "      <td>3</td>\n",
       "      <td>0.0</td>\n",
       "      <td>0</td>\n",
       "      <td>4</td>\n",
       "    </tr>\n",
       "    <tr>\n",
       "      <th>4</th>\n",
       "      <td>1</td>\n",
       "      <td>219</td>\n",
       "      <td>29604</td>\n",
       "      <td>4</td>\n",
       "      <td>3.5</td>\n",
       "      <td>1</td>\n",
       "      <td>2.64</td>\n",
       "      <td>0.1241</td>\n",
       "      <td>4.93</td>\n",
       "      <td>4</td>\n",
       "      <td>...</td>\n",
       "      <td>1</td>\n",
       "      <td>0</td>\n",
       "      <td>0</td>\n",
       "      <td>150.114326</td>\n",
       "      <td>6.534326</td>\n",
       "      <td>4</td>\n",
       "      <td>3</td>\n",
       "      <td>0.0</td>\n",
       "      <td>1</td>\n",
       "      <td>4</td>\n",
       "    </tr>\n",
       "  </tbody>\n",
       "</table>\n",
       "<p>5 rows × 28 columns</p>\n",
       "</div>"
      ],
      "text/plain": [
       "   srch_id  prop_country_id  prop_id  prop_starrating  prop_review_score  \\\n",
       "0        1              219      893                3                3.5   \n",
       "1        1              219    10404                4                4.0   \n",
       "2        1              219    21315                3                4.5   \n",
       "3        1              219    27348                2                4.0   \n",
       "4        1              219    29604                4                3.5   \n",
       "\n",
       "   prop_brand_bool  prop_location_score1  prop_location_score2  \\\n",
       "0                1                  2.83                0.0438   \n",
       "1                1                  2.20                0.0149   \n",
       "2                1                  2.20                0.0245   \n",
       "3                1                  2.83                0.0125   \n",
       "4                1                  2.64                0.1241   \n",
       "\n",
       "   prop_log_historical_price  position  ...  random_bool  click_bool  \\\n",
       "0                       4.95        27  ...            1           0   \n",
       "1                       5.03        26  ...            1           0   \n",
       "2                       4.92        21  ...            1           0   \n",
       "3                       4.39        34  ...            1           0   \n",
       "4                       4.93         4  ...            1           0   \n",
       "\n",
       "   booking_bool  price_usd_mean  price_diff_with_mean_price  month  \\\n",
       "0             0      150.114326                   45.344326      4   \n",
       "1             0      150.114326                   20.625674      4   \n",
       "2             0      150.114326                   29.685674      4   \n",
       "3             0      150.114326                  452.655674      4   \n",
       "4             0      150.114326                    6.534326      4   \n",
       "\n",
       "   day_of_week  relevance  highly_rated_prop  total_people  \n",
       "0            3        0.0                  0             4  \n",
       "1            3        0.0                  1             4  \n",
       "2            3        0.0                  0             4  \n",
       "3            3        0.0                  0             4  \n",
       "4            3        0.0                  1             4  \n",
       "\n",
       "[5 rows x 28 columns]"
      ]
     },
     "execution_count": 4,
     "metadata": {},
     "output_type": "execute_result"
    }
   ],
   "source": [
    "df = pd.read_csv('train_preprocessed_2.csv')\n",
    "df.head()"
   ]
  },
  {
   "cell_type": "code",
   "execution_count": 5,
   "metadata": {},
   "outputs": [],
   "source": [
    "X = df\n",
    "train_groups = X.groupby('srch_id').size().to_frame('size')['size'].to_numpy()\n",
    "\n",
    "relevances = X['relevance']\n",
    "\n",
    "X= X.loc[:, ~X.columns.isin(['srch_id','relevance'])]\n",
    "y = relevances"
   ]
  },
  {
   "cell_type": "code",
   "execution_count": 6,
   "metadata": {},
   "outputs": [
    {
     "data": {
      "text/plain": [
       "Index(['prop_country_id', 'prop_id', 'prop_starrating', 'prop_review_score',\n",
       "       'prop_brand_bool', 'prop_location_score1', 'prop_location_score2',\n",
       "       'prop_log_historical_price', 'position', 'price_usd', 'promotion_flag',\n",
       "       'srch_destination_id', 'srch_length_of_stay', 'srch_booking_window',\n",
       "       'srch_room_count', 'srch_saturday_night_bool',\n",
       "       'orig_destination_distance', 'random_bool', 'click_bool',\n",
       "       'booking_bool', 'price_usd_mean', 'price_diff_with_mean_price', 'month',\n",
       "       'day_of_week', 'highly_rated_prop', 'total_people'],\n",
       "      dtype='object')"
      ]
     },
     "execution_count": 6,
     "metadata": {},
     "output_type": "execute_result"
    }
   ],
   "source": [
    "X.columns"
   ]
  },
  {
   "cell_type": "code",
   "execution_count": 7,
   "metadata": {},
   "outputs": [],
   "source": [
    "X = X.drop(['booking_bool','position','random_bool','prop_id','click_bool'], axis=1)\n"
   ]
  },
  {
   "cell_type": "code",
   "execution_count": 8,
   "metadata": {},
   "outputs": [
    {
     "name": "stderr",
     "output_type": "stream",
     "text": [
      "/home/shreyas/.local/lib/python3.8/site-packages/xgboost/sklearn.py:835: UserWarning: `eval_metric` in `fit` method is deprecated for better compatibility with scikit-learn, use `eval_metric` in constructor or`set_params` instead.\n",
      "  warnings.warn(\n",
      "/home/shreyas/.local/lib/python3.8/site-packages/xgboost/sklearn.py:835: UserWarning: `early_stopping_rounds` in `fit` method is deprecated for better compatibility with scikit-learn, use `early_stopping_rounds` in constructor or`set_params` instead.\n",
      "  warnings.warn(\n"
     ]
    },
    {
     "name": "stdout",
     "output_type": "stream",
     "text": [
      "[0]\tvalidation_0-ndcg@5:0.60112\n",
      "[1]\tvalidation_0-ndcg@5:0.60248\n",
      "[2]\tvalidation_0-ndcg@5:0.60253\n",
      "[3]\tvalidation_0-ndcg@5:0.60239\n",
      "[4]\tvalidation_0-ndcg@5:0.60287\n",
      "[5]\tvalidation_0-ndcg@5:0.60356\n",
      "[6]\tvalidation_0-ndcg@5:0.60378\n",
      "[7]\tvalidation_0-ndcg@5:0.60462\n",
      "[8]\tvalidation_0-ndcg@5:0.60604\n",
      "[9]\tvalidation_0-ndcg@5:0.60658\n",
      "[10]\tvalidation_0-ndcg@5:0.60692\n",
      "[11]\tvalidation_0-ndcg@5:0.60727\n",
      "[12]\tvalidation_0-ndcg@5:0.60914\n",
      "[13]\tvalidation_0-ndcg@5:0.61019\n",
      "[14]\tvalidation_0-ndcg@5:0.61066\n",
      "[15]\tvalidation_0-ndcg@5:0.61134\n",
      "[16]\tvalidation_0-ndcg@5:0.61212\n",
      "[17]\tvalidation_0-ndcg@5:0.61268\n",
      "[18]\tvalidation_0-ndcg@5:0.61325\n",
      "[19]\tvalidation_0-ndcg@5:0.61400\n",
      "[20]\tvalidation_0-ndcg@5:0.61473\n",
      "[21]\tvalidation_0-ndcg@5:0.61535\n",
      "[22]\tvalidation_0-ndcg@5:0.61587\n",
      "[23]\tvalidation_0-ndcg@5:0.61658\n",
      "[24]\tvalidation_0-ndcg@5:0.61692\n",
      "[25]\tvalidation_0-ndcg@5:0.61722\n",
      "[26]\tvalidation_0-ndcg@5:0.61766\n",
      "[27]\tvalidation_0-ndcg@5:0.61812\n",
      "[28]\tvalidation_0-ndcg@5:0.61876\n",
      "[29]\tvalidation_0-ndcg@5:0.61912\n",
      "[30]\tvalidation_0-ndcg@5:0.61947\n",
      "[31]\tvalidation_0-ndcg@5:0.61994\n",
      "[32]\tvalidation_0-ndcg@5:0.62037\n",
      "[33]\tvalidation_0-ndcg@5:0.62076\n",
      "[34]\tvalidation_0-ndcg@5:0.62112\n",
      "[35]\tvalidation_0-ndcg@5:0.62138\n",
      "[36]\tvalidation_0-ndcg@5:0.62190\n",
      "[37]\tvalidation_0-ndcg@5:0.62235\n",
      "[38]\tvalidation_0-ndcg@5:0.62278\n",
      "[39]\tvalidation_0-ndcg@5:0.62329\n",
      "[40]\tvalidation_0-ndcg@5:0.62360\n",
      "[41]\tvalidation_0-ndcg@5:0.62396\n",
      "[42]\tvalidation_0-ndcg@5:0.62440\n",
      "[43]\tvalidation_0-ndcg@5:0.62471\n",
      "[44]\tvalidation_0-ndcg@5:0.62491\n",
      "[45]\tvalidation_0-ndcg@5:0.62510\n",
      "[46]\tvalidation_0-ndcg@5:0.62540\n",
      "[47]\tvalidation_0-ndcg@5:0.62578\n",
      "[48]\tvalidation_0-ndcg@5:0.62607\n",
      "[49]\tvalidation_0-ndcg@5:0.62649\n",
      "[50]\tvalidation_0-ndcg@5:0.62670\n",
      "[51]\tvalidation_0-ndcg@5:0.62702\n",
      "[52]\tvalidation_0-ndcg@5:0.62729\n",
      "[53]\tvalidation_0-ndcg@5:0.62758\n",
      "[54]\tvalidation_0-ndcg@5:0.62792\n",
      "[55]\tvalidation_0-ndcg@5:0.62799\n",
      "[56]\tvalidation_0-ndcg@5:0.62838\n",
      "[57]\tvalidation_0-ndcg@5:0.62852\n",
      "[58]\tvalidation_0-ndcg@5:0.62874\n",
      "[59]\tvalidation_0-ndcg@5:0.62900\n",
      "[60]\tvalidation_0-ndcg@5:0.62915\n",
      "[61]\tvalidation_0-ndcg@5:0.62937\n",
      "[62]\tvalidation_0-ndcg@5:0.62955\n",
      "[63]\tvalidation_0-ndcg@5:0.62971\n",
      "[64]\tvalidation_0-ndcg@5:0.62989\n",
      "[65]\tvalidation_0-ndcg@5:0.63009\n",
      "[66]\tvalidation_0-ndcg@5:0.63029\n",
      "[67]\tvalidation_0-ndcg@5:0.63064\n",
      "[68]\tvalidation_0-ndcg@5:0.63094\n",
      "[69]\tvalidation_0-ndcg@5:0.63116\n",
      "[70]\tvalidation_0-ndcg@5:0.63133\n",
      "[71]\tvalidation_0-ndcg@5:0.63142\n",
      "[72]\tvalidation_0-ndcg@5:0.63161\n",
      "[73]\tvalidation_0-ndcg@5:0.63180\n",
      "[74]\tvalidation_0-ndcg@5:0.63201\n",
      "[75]\tvalidation_0-ndcg@5:0.63213\n",
      "[76]\tvalidation_0-ndcg@5:0.63223\n",
      "[77]\tvalidation_0-ndcg@5:0.63239\n",
      "[78]\tvalidation_0-ndcg@5:0.63259\n",
      "[79]\tvalidation_0-ndcg@5:0.63270\n",
      "[80]\tvalidation_0-ndcg@5:0.63275\n",
      "[81]\tvalidation_0-ndcg@5:0.63293\n",
      "[82]\tvalidation_0-ndcg@5:0.63306\n",
      "[83]\tvalidation_0-ndcg@5:0.63324\n",
      "[84]\tvalidation_0-ndcg@5:0.63335\n",
      "[85]\tvalidation_0-ndcg@5:0.63347\n",
      "[86]\tvalidation_0-ndcg@5:0.63363\n",
      "[87]\tvalidation_0-ndcg@5:0.63372\n",
      "[88]\tvalidation_0-ndcg@5:0.63382\n",
      "[89]\tvalidation_0-ndcg@5:0.63397\n",
      "[90]\tvalidation_0-ndcg@5:0.63414\n",
      "[91]\tvalidation_0-ndcg@5:0.63426\n",
      "[92]\tvalidation_0-ndcg@5:0.63434\n",
      "[93]\tvalidation_0-ndcg@5:0.63438\n",
      "[94]\tvalidation_0-ndcg@5:0.63453\n",
      "[95]\tvalidation_0-ndcg@5:0.63462\n",
      "[96]\tvalidation_0-ndcg@5:0.63467\n",
      "[97]\tvalidation_0-ndcg@5:0.63480\n",
      "[98]\tvalidation_0-ndcg@5:0.63489\n",
      "[99]\tvalidation_0-ndcg@5:0.63500\n",
      "[100]\tvalidation_0-ndcg@5:0.63514\n",
      "[101]\tvalidation_0-ndcg@5:0.63522\n",
      "[102]\tvalidation_0-ndcg@5:0.63532\n",
      "[103]\tvalidation_0-ndcg@5:0.63544\n",
      "[104]\tvalidation_0-ndcg@5:0.63551\n",
      "[105]\tvalidation_0-ndcg@5:0.63563\n",
      "[106]\tvalidation_0-ndcg@5:0.63577\n",
      "[107]\tvalidation_0-ndcg@5:0.63596\n",
      "[108]\tvalidation_0-ndcg@5:0.63603\n",
      "[109]\tvalidation_0-ndcg@5:0.63617\n",
      "[110]\tvalidation_0-ndcg@5:0.63629\n",
      "[111]\tvalidation_0-ndcg@5:0.63634\n",
      "[112]\tvalidation_0-ndcg@5:0.63647\n",
      "[113]\tvalidation_0-ndcg@5:0.63659\n",
      "[114]\tvalidation_0-ndcg@5:0.63665\n",
      "[115]\tvalidation_0-ndcg@5:0.63679\n",
      "[116]\tvalidation_0-ndcg@5:0.63689\n",
      "[117]\tvalidation_0-ndcg@5:0.63695\n",
      "[118]\tvalidation_0-ndcg@5:0.63707\n",
      "[119]\tvalidation_0-ndcg@5:0.63712\n",
      "[120]\tvalidation_0-ndcg@5:0.63717\n",
      "[121]\tvalidation_0-ndcg@5:0.63735\n",
      "[122]\tvalidation_0-ndcg@5:0.63745\n",
      "[123]\tvalidation_0-ndcg@5:0.63757\n",
      "[124]\tvalidation_0-ndcg@5:0.63764\n",
      "[125]\tvalidation_0-ndcg@5:0.63779\n",
      "[126]\tvalidation_0-ndcg@5:0.63789\n",
      "[127]\tvalidation_0-ndcg@5:0.63798\n",
      "[128]\tvalidation_0-ndcg@5:0.63808\n",
      "[129]\tvalidation_0-ndcg@5:0.63817\n",
      "[130]\tvalidation_0-ndcg@5:0.63823\n",
      "[131]\tvalidation_0-ndcg@5:0.63828\n",
      "[132]\tvalidation_0-ndcg@5:0.63843\n",
      "[133]\tvalidation_0-ndcg@5:0.63845\n",
      "[134]\tvalidation_0-ndcg@5:0.63856\n",
      "[135]\tvalidation_0-ndcg@5:0.63864\n",
      "[136]\tvalidation_0-ndcg@5:0.63878\n",
      "[137]\tvalidation_0-ndcg@5:0.63881\n",
      "[138]\tvalidation_0-ndcg@5:0.63886\n",
      "[139]\tvalidation_0-ndcg@5:0.63894\n",
      "[140]\tvalidation_0-ndcg@5:0.63904\n",
      "[141]\tvalidation_0-ndcg@5:0.63913\n",
      "[142]\tvalidation_0-ndcg@5:0.63921\n",
      "[143]\tvalidation_0-ndcg@5:0.63929\n",
      "[144]\tvalidation_0-ndcg@5:0.63935\n",
      "[145]\tvalidation_0-ndcg@5:0.63943\n",
      "[146]\tvalidation_0-ndcg@5:0.63947\n",
      "[147]\tvalidation_0-ndcg@5:0.63955\n",
      "[148]\tvalidation_0-ndcg@5:0.63961\n",
      "[149]\tvalidation_0-ndcg@5:0.63968\n",
      "[150]\tvalidation_0-ndcg@5:0.63976\n",
      "[151]\tvalidation_0-ndcg@5:0.63986\n",
      "[152]\tvalidation_0-ndcg@5:0.63989\n",
      "[153]\tvalidation_0-ndcg@5:0.63999\n",
      "[154]\tvalidation_0-ndcg@5:0.64003\n",
      "[155]\tvalidation_0-ndcg@5:0.64007\n",
      "[156]\tvalidation_0-ndcg@5:0.64012\n",
      "[157]\tvalidation_0-ndcg@5:0.64021\n",
      "[158]\tvalidation_0-ndcg@5:0.64027\n",
      "[159]\tvalidation_0-ndcg@5:0.64033\n",
      "[160]\tvalidation_0-ndcg@5:0.64037\n",
      "[161]\tvalidation_0-ndcg@5:0.64050\n",
      "[162]\tvalidation_0-ndcg@5:0.64054\n",
      "[163]\tvalidation_0-ndcg@5:0.64058\n",
      "[164]\tvalidation_0-ndcg@5:0.64063\n",
      "[165]\tvalidation_0-ndcg@5:0.64072\n",
      "[166]\tvalidation_0-ndcg@5:0.64076\n",
      "[167]\tvalidation_0-ndcg@5:0.64083\n",
      "[168]\tvalidation_0-ndcg@5:0.64084\n",
      "[169]\tvalidation_0-ndcg@5:0.64089\n",
      "[170]\tvalidation_0-ndcg@5:0.64098\n",
      "[171]\tvalidation_0-ndcg@5:0.64102\n",
      "[172]\tvalidation_0-ndcg@5:0.64107\n",
      "[173]\tvalidation_0-ndcg@5:0.64116\n",
      "[174]\tvalidation_0-ndcg@5:0.64124\n",
      "[175]\tvalidation_0-ndcg@5:0.64131\n",
      "[176]\tvalidation_0-ndcg@5:0.64131\n",
      "[177]\tvalidation_0-ndcg@5:0.64135\n",
      "[178]\tvalidation_0-ndcg@5:0.64141\n",
      "[179]\tvalidation_0-ndcg@5:0.64152\n",
      "[180]\tvalidation_0-ndcg@5:0.64161\n",
      "[181]\tvalidation_0-ndcg@5:0.64168\n",
      "[182]\tvalidation_0-ndcg@5:0.64171\n",
      "[183]\tvalidation_0-ndcg@5:0.64179\n",
      "[184]\tvalidation_0-ndcg@5:0.64178\n",
      "[185]\tvalidation_0-ndcg@5:0.64182\n",
      "[186]\tvalidation_0-ndcg@5:0.64189\n",
      "[187]\tvalidation_0-ndcg@5:0.64198\n",
      "[188]\tvalidation_0-ndcg@5:0.64203\n",
      "[189]\tvalidation_0-ndcg@5:0.64210\n",
      "[190]\tvalidation_0-ndcg@5:0.64215\n",
      "[191]\tvalidation_0-ndcg@5:0.64223\n",
      "[192]\tvalidation_0-ndcg@5:0.64231\n",
      "[193]\tvalidation_0-ndcg@5:0.64236\n",
      "[194]\tvalidation_0-ndcg@5:0.64240\n",
      "[195]\tvalidation_0-ndcg@5:0.64243\n",
      "[196]\tvalidation_0-ndcg@5:0.64247\n",
      "[197]\tvalidation_0-ndcg@5:0.64255\n",
      "[198]\tvalidation_0-ndcg@5:0.64261\n",
      "[199]\tvalidation_0-ndcg@5:0.64269\n"
     ]
    },
    {
     "data": {
      "text/html": [
       "<style>#sk-container-id-1 {color: black;background-color: white;}#sk-container-id-1 pre{padding: 0;}#sk-container-id-1 div.sk-toggleable {background-color: white;}#sk-container-id-1 label.sk-toggleable__label {cursor: pointer;display: block;width: 100%;margin-bottom: 0;padding: 0.3em;box-sizing: border-box;text-align: center;}#sk-container-id-1 label.sk-toggleable__label-arrow:before {content: \"▸\";float: left;margin-right: 0.25em;color: #696969;}#sk-container-id-1 label.sk-toggleable__label-arrow:hover:before {color: black;}#sk-container-id-1 div.sk-estimator:hover label.sk-toggleable__label-arrow:before {color: black;}#sk-container-id-1 div.sk-toggleable__content {max-height: 0;max-width: 0;overflow: hidden;text-align: left;background-color: #f0f8ff;}#sk-container-id-1 div.sk-toggleable__content pre {margin: 0.2em;color: black;border-radius: 0.25em;background-color: #f0f8ff;}#sk-container-id-1 input.sk-toggleable__control:checked~div.sk-toggleable__content {max-height: 200px;max-width: 100%;overflow: auto;}#sk-container-id-1 input.sk-toggleable__control:checked~label.sk-toggleable__label-arrow:before {content: \"▾\";}#sk-container-id-1 div.sk-estimator input.sk-toggleable__control:checked~label.sk-toggleable__label {background-color: #d4ebff;}#sk-container-id-1 div.sk-label input.sk-toggleable__control:checked~label.sk-toggleable__label {background-color: #d4ebff;}#sk-container-id-1 input.sk-hidden--visually {border: 0;clip: rect(1px 1px 1px 1px);clip: rect(1px, 1px, 1px, 1px);height: 1px;margin: -1px;overflow: hidden;padding: 0;position: absolute;width: 1px;}#sk-container-id-1 div.sk-estimator {font-family: monospace;background-color: #f0f8ff;border: 1px dotted black;border-radius: 0.25em;box-sizing: border-box;margin-bottom: 0.5em;}#sk-container-id-1 div.sk-estimator:hover {background-color: #d4ebff;}#sk-container-id-1 div.sk-parallel-item::after {content: \"\";width: 100%;border-bottom: 1px solid gray;flex-grow: 1;}#sk-container-id-1 div.sk-label:hover label.sk-toggleable__label {background-color: #d4ebff;}#sk-container-id-1 div.sk-serial::before {content: \"\";position: absolute;border-left: 1px solid gray;box-sizing: border-box;top: 0;bottom: 0;left: 50%;z-index: 0;}#sk-container-id-1 div.sk-serial {display: flex;flex-direction: column;align-items: center;background-color: white;padding-right: 0.2em;padding-left: 0.2em;position: relative;}#sk-container-id-1 div.sk-item {position: relative;z-index: 1;}#sk-container-id-1 div.sk-parallel {display: flex;align-items: stretch;justify-content: center;background-color: white;position: relative;}#sk-container-id-1 div.sk-item::before, #sk-container-id-1 div.sk-parallel-item::before {content: \"\";position: absolute;border-left: 1px solid gray;box-sizing: border-box;top: 0;bottom: 0;left: 50%;z-index: -1;}#sk-container-id-1 div.sk-parallel-item {display: flex;flex-direction: column;z-index: 1;position: relative;background-color: white;}#sk-container-id-1 div.sk-parallel-item:first-child::after {align-self: flex-end;width: 50%;}#sk-container-id-1 div.sk-parallel-item:last-child::after {align-self: flex-start;width: 50%;}#sk-container-id-1 div.sk-parallel-item:only-child::after {width: 0;}#sk-container-id-1 div.sk-dashed-wrapped {border: 1px dashed gray;margin: 0 0.4em 0.5em 0.4em;box-sizing: border-box;padding-bottom: 0.4em;background-color: white;}#sk-container-id-1 div.sk-label label {font-family: monospace;font-weight: bold;display: inline-block;line-height: 1.2em;}#sk-container-id-1 div.sk-label-container {text-align: center;}#sk-container-id-1 div.sk-container {/* jupyter's `normalize.less` sets `[hidden] { display: none; }` but bootstrap.min.css set `[hidden] { display: none !important; }` so we also need the `!important` here to be able to override the default hidden behavior on the sphinx rendered scikit-learn.org. See: https://github.com/scikit-learn/scikit-learn/issues/21755 */display: inline-block !important;position: relative;}#sk-container-id-1 div.sk-text-repr-fallback {display: none;}</style><div id=\"sk-container-id-1\" class=\"sk-top-container\"><div class=\"sk-text-repr-fallback\"><pre>XGBRanker(base_score=None, booster=None, callbacks=None, colsample_bylevel=None,\n",
       "          colsample_bynode=None, colsample_bytree=None,\n",
       "          early_stopping_rounds=None, enable_categorical=False,\n",
       "          eval_metric=None, feature_types=None, gamma=None, gpu_id=None,\n",
       "          grow_policy=None, importance_type=None, interaction_constraints=None,\n",
       "          learning_rate=0.1, max_bin=None, max_cat_threshold=None,\n",
       "          max_cat_to_onehot=None, max_delta_step=None, max_depth=None,\n",
       "          max_leaves=None, min_child_weight=None, missing=nan,\n",
       "          monotone_constraints=None, n_estimators=200, n_jobs=None,\n",
       "          num_parallel_tree=None, objective=&#x27;rank:ndcg&#x27;, predictor=None, ...)</pre><b>In a Jupyter environment, please rerun this cell to show the HTML representation or trust the notebook. <br />On GitHub, the HTML representation is unable to render, please try loading this page with nbviewer.org.</b></div><div class=\"sk-container\" hidden><div class=\"sk-item\"><div class=\"sk-estimator sk-toggleable\"><input class=\"sk-toggleable__control sk-hidden--visually\" id=\"sk-estimator-id-1\" type=\"checkbox\" checked><label for=\"sk-estimator-id-1\" class=\"sk-toggleable__label sk-toggleable__label-arrow\">XGBRanker</label><div class=\"sk-toggleable__content\"><pre>XGBRanker(base_score=None, booster=None, callbacks=None, colsample_bylevel=None,\n",
       "          colsample_bynode=None, colsample_bytree=None,\n",
       "          early_stopping_rounds=None, enable_categorical=False,\n",
       "          eval_metric=None, feature_types=None, gamma=None, gpu_id=None,\n",
       "          grow_policy=None, importance_type=None, interaction_constraints=None,\n",
       "          learning_rate=0.1, max_bin=None, max_cat_threshold=None,\n",
       "          max_cat_to_onehot=None, max_delta_step=None, max_depth=None,\n",
       "          max_leaves=None, min_child_weight=None, missing=nan,\n",
       "          monotone_constraints=None, n_estimators=200, n_jobs=None,\n",
       "          num_parallel_tree=None, objective=&#x27;rank:ndcg&#x27;, predictor=None, ...)</pre></div></div></div></div></div>"
      ],
      "text/plain": [
       "XGBRanker(base_score=None, booster=None, callbacks=None, colsample_bylevel=None,\n",
       "          colsample_bynode=None, colsample_bytree=None,\n",
       "          early_stopping_rounds=None, enable_categorical=False,\n",
       "          eval_metric=None, feature_types=None, gamma=None, gpu_id=None,\n",
       "          grow_policy=None, importance_type=None, interaction_constraints=None,\n",
       "          learning_rate=0.1, max_bin=None, max_cat_threshold=None,\n",
       "          max_cat_to_onehot=None, max_delta_step=None, max_depth=None,\n",
       "          max_leaves=None, min_child_weight=None, missing=nan,\n",
       "          monotone_constraints=None, n_estimators=200, n_jobs=None,\n",
       "          num_parallel_tree=None, objective='rank:ndcg', predictor=None, ...)"
      ]
     },
     "execution_count": 8,
     "metadata": {},
     "output_type": "execute_result"
    }
   ],
   "source": [
    "model = XGBRanker(\n",
    "                  objective='rank:ndcg', \n",
    "                  n_estimators=200, \n",
    "                  random_state=0,\n",
    "                  learning_rate=0.1)\n",
    "\n",
    "\n",
    "model.fit(\n",
    "    X,\n",
    "    y,\n",
    "    group=train_groups,\n",
    "    eval_metric='ndcg@5',\n",
    "    eval_set=[(X, y)],\n",
    "    eval_group=[list(train_groups)],\n",
    "    verbose=True,\n",
    "    early_stopping_rounds=10\n",
    ")"
   ]
  },
  {
   "cell_type": "code",
   "execution_count": 9,
   "metadata": {},
   "outputs": [
    {
     "data": {
      "text/plain": [
       "<Axes: >"
      ]
     },
     "execution_count": 9,
     "metadata": {},
     "output_type": "execute_result"
    },
    {
     "data": {
      "image/png": "[encoded data removed]",
      "text/plain": [
       "<Figure size 640x480 with 1 Axes>"
      ]
     },
     "metadata": {},
     "output_type": "display_data"
    }
   ],
   "source": [
    "feat_importances = pd.Series(model.feature_importances_, index=X.columns)\n",
    "feat_importances.nlargest(10).plot(kind='barh')"
   ]
  },
  {
   "cell_type": "code",
   "execution_count": 10,
   "metadata": {},
   "outputs": [],
   "source": [
    "test_df = pd.read_csv('test_preprocessed_2.csv')"
   ]
  },
  {
   "cell_type": "code",
   "execution_count": 11,
   "metadata": {},
   "outputs": [
    {
     "name": "stdout",
     "output_type": "stream",
     "text": [
      "4959183\n"
     ]
    }
   ],
   "source": [
    "print(len(test_df))"
   ]
  },
  {
   "cell_type": "code",
   "execution_count": 12,
   "metadata": {},
   "outputs": [],
   "source": [
    "def sort_properties(srch_id, scores, prop_ids):\n",
    "    sorted_group = pd.DataFrame(columns=['srch_id', 'prop_id', 'scores'])\n",
    "    sorted_group['srch_id'] = len(scores)*[srch_id]\n",
    "    sorted_group['prop_id'] = prop_ids.values\n",
    "    sorted_group['scores'] = scores\n",
    "    sorted_group = sorted_group.sort_values(by='scores', ascending=False)\n",
    "    return sorted_group \n",
    "\n",
    "def recommend_properties(model, data):\n",
    "    result = pd.DataFrame(columns=['srch_id', 'prop_id', 'scores'])\n",
    "    df_list = []\n",
    "    grouped_data = data.groupby('srch_id')\n",
    "    for group_name, group in tqdm(grouped_data):\n",
    "        scores = model.predict(group.loc[:, ~group.columns.isin(['srch_id','prop_id'])])\n",
    "        sorted_group = sort_properties(group_name, scores, group['prop_id'])\n",
    "        df_list.append(sorted_group)\n",
    "    result = pd.concat(df_list)\n",
    "    return result"
   ]
  },
  {
   "cell_type": "code",
   "execution_count": 13,
   "metadata": {},
   "outputs": [
    {
     "data": {
      "text/plain": [
       "Index(['prop_country_id', 'prop_starrating', 'prop_review_score',\n",
       "       'prop_brand_bool', 'prop_location_score1', 'prop_location_score2',\n",
       "       'prop_log_historical_price', 'price_usd', 'promotion_flag',\n",
       "       'srch_destination_id', 'srch_length_of_stay', 'srch_booking_window',\n",
       "       'srch_room_count', 'srch_saturday_night_bool',\n",
       "       'orig_destination_distance', 'price_usd_mean',\n",
       "       'price_diff_with_mean_price', 'month', 'day_of_week',\n",
       "       'highly_rated_prop', 'total_people'],\n",
       "      dtype='object')"
      ]
     },
     "execution_count": 13,
     "metadata": {},
     "output_type": "execute_result"
    }
   ],
   "source": [
    "X.columns"
   ]
  },
  {
   "cell_type": "code",
   "execution_count": 14,
   "metadata": {
    "scrolled": true
   },
   "outputs": [
    {
     "data": {
      "text/plain": [
       "Index(['srch_id', 'prop_country_id', 'prop_id', 'prop_starrating',\n",
       "       'prop_review_score', 'prop_brand_bool', 'prop_location_score1',\n",
       "       'prop_location_score2', 'prop_log_historical_price', 'price_usd',\n",
       "       'promotion_flag', 'srch_destination_id', 'srch_length_of_stay',\n",
       "       'srch_booking_window', 'srch_room_count', 'srch_saturday_night_bool',\n",
       "       'orig_destination_distance', 'price_usd_mean',\n",
       "       'price_diff_with_mean_price', 'month', 'day_of_week',\n",
       "       'highly_rated_prop', 'total_people'],\n",
       "      dtype='object')"
      ]
     },
     "execution_count": 14,
     "metadata": {},
     "output_type": "execute_result"
    }
   ],
   "source": [
    "test_df.columns"
   ]
  },
  {
   "cell_type": "code",
   "execution_count": 15,
   "metadata": {},
   "outputs": [
    {
     "name": "stderr",
     "output_type": "stream",
     "text": [
      "100%|██████████| 199549/199549 [14:42<00:00, 226.18it/s]\n"
     ]
    },
    {
     "name": "stdout",
     "output_type": "stream",
     "text": [
      "Total Time for validation prediction:897.7820701599121\n"
     ]
    }
   ],
   "source": [
    "start = time.time()\n",
    "recommendations = recommend_properties(model, test_df)\n",
    "end = time.time()\n",
    "print(f'Total Time for validation prediction:{end - start}')\n",
    "submission = recommendations.drop(columns=['scores'])\n",
    "submission.to_csv(f'xgbranker_predictions.csv', index=False)"
   ]
  },
  {
   "cell_type": "code",
   "execution_count": null,
   "metadata": {},
   "outputs": [],
   "source": []
  }
 ],
 "metadata": {
  "kernelspec": {
   "display_name": "Python 3",
   "language": "python",
   "name": "python3"
  },
  "language_info": {
   "codemirror_mode": {
    "name": "ipython",
    "version": 3
   },
   "file_extension": ".py",
   "mimetype": "text/x-python",
   "name": "python",
   "nbconvert_exporter": "python",
   "pygments_lexer": "ipython3",
   "version": "3.8.10"
  }
 },
 "nbformat": 4,
 "nbformat_minor": 2
}
