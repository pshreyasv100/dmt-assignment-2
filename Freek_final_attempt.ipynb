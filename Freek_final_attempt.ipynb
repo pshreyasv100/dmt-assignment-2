{
 "cells": [
  {
   "cell_type": "code",
   "execution_count": 57,
   "id": "428b6ab9",
   "metadata": {},
   "outputs": [],
   "source": [
    "import pandas as pd\n",
    "import seaborn as sns\n",
    "import matplotlib.pyplot as plt\n",
    "\n",
    "\n",
    "from sklearn.model_selection import train_test_split\n",
    "from tqdm import tqdm\n",
    "\n",
    "from sklearn.preprocessing import MinMaxScaler\n",
    "\n",
    "import time\n"
   ]
  },
  {
   "cell_type": "code",
   "execution_count": 58,
   "id": "78692e11",
   "metadata": {},
   "outputs": [
    {
     "data": {
      "text/plain": [
       "[PhysicalDevice(name='/physical_device:GPU:0', device_type='GPU')]"
      ]
     },
     "execution_count": 58,
     "metadata": {},
     "output_type": "execute_result"
    }
   ],
   "source": [
    "tf.config.list_physical_devices('GPU')"
   ]
  },
  {
   "cell_type": "code",
   "execution_count": 59,
   "id": "ed4047c7",
   "metadata": {},
   "outputs": [
    {
     "data": {
      "text/html": [
       "<div>\n",
       "<style scoped>\n",
       "    .dataframe tbody tr th:only-of-type {\n",
       "        vertical-align: middle;\n",
       "    }\n",
       "\n",
       "    .dataframe tbody tr th {\n",
       "        vertical-align: top;\n",
       "    }\n",
       "\n",
       "    .dataframe thead th {\n",
       "        text-align: right;\n",
       "    }\n",
       "</style>\n",
       "<table border=\"1\" class=\"dataframe\">\n",
       "  <thead>\n",
       "    <tr style=\"text-align: right;\">\n",
       "      <th></th>\n",
       "      <th>srch_id</th>\n",
       "      <th>site_id</th>\n",
       "      <th>visitor_location_country_id</th>\n",
       "      <th>prop_country_id</th>\n",
       "      <th>prop_id</th>\n",
       "      <th>prop_starrating</th>\n",
       "      <th>prop_review_score</th>\n",
       "      <th>prop_brand_bool</th>\n",
       "      <th>prop_location_score1</th>\n",
       "      <th>prop_location_score2</th>\n",
       "      <th>...</th>\n",
       "      <th>random_bool</th>\n",
       "      <th>click_bool</th>\n",
       "      <th>booking_bool</th>\n",
       "      <th>month</th>\n",
       "      <th>relevance</th>\n",
       "      <th>prop_starrating_location_interaction</th>\n",
       "      <th>price_historical_interaction</th>\n",
       "      <th>total_time_duration</th>\n",
       "      <th>highly_rated_prop</th>\n",
       "      <th>total_people</th>\n",
       "    </tr>\n",
       "  </thead>\n",
       "  <tbody>\n",
       "    <tr>\n",
       "      <th>0</th>\n",
       "      <td>1</td>\n",
       "      <td>0</td>\n",
       "      <td>0</td>\n",
       "      <td>1</td>\n",
       "      <td>893</td>\n",
       "      <td>3</td>\n",
       "      <td>3.5</td>\n",
       "      <td>1</td>\n",
       "      <td>2.83</td>\n",
       "      <td>0.0438</td>\n",
       "      <td>...</td>\n",
       "      <td>1</td>\n",
       "      <td>0</td>\n",
       "      <td>0</td>\n",
       "      <td>4</td>\n",
       "      <td>0</td>\n",
       "      <td>8.49</td>\n",
       "      <td>4.949896</td>\n",
       "      <td>0</td>\n",
       "      <td>0</td>\n",
       "      <td>4</td>\n",
       "    </tr>\n",
       "    <tr>\n",
       "      <th>1</th>\n",
       "      <td>1</td>\n",
       "      <td>0</td>\n",
       "      <td>0</td>\n",
       "      <td>1</td>\n",
       "      <td>10404</td>\n",
       "      <td>4</td>\n",
       "      <td>4.0</td>\n",
       "      <td>1</td>\n",
       "      <td>2.20</td>\n",
       "      <td>0.0149</td>\n",
       "      <td>...</td>\n",
       "      <td>1</td>\n",
       "      <td>0</td>\n",
       "      <td>0</td>\n",
       "      <td>4</td>\n",
       "      <td>0</td>\n",
       "      <td>8.80</td>\n",
       "      <td>5.029827</td>\n",
       "      <td>0</td>\n",
       "      <td>1</td>\n",
       "      <td>4</td>\n",
       "    </tr>\n",
       "    <tr>\n",
       "      <th>2</th>\n",
       "      <td>1</td>\n",
       "      <td>0</td>\n",
       "      <td>0</td>\n",
       "      <td>1</td>\n",
       "      <td>21315</td>\n",
       "      <td>3</td>\n",
       "      <td>4.5</td>\n",
       "      <td>1</td>\n",
       "      <td>2.20</td>\n",
       "      <td>0.0245</td>\n",
       "      <td>...</td>\n",
       "      <td>1</td>\n",
       "      <td>0</td>\n",
       "      <td>0</td>\n",
       "      <td>4</td>\n",
       "      <td>0</td>\n",
       "      <td>6.60</td>\n",
       "      <td>4.919822</td>\n",
       "      <td>0</td>\n",
       "      <td>0</td>\n",
       "      <td>4</td>\n",
       "    </tr>\n",
       "    <tr>\n",
       "      <th>3</th>\n",
       "      <td>1</td>\n",
       "      <td>0</td>\n",
       "      <td>0</td>\n",
       "      <td>1</td>\n",
       "      <td>27348</td>\n",
       "      <td>2</td>\n",
       "      <td>4.0</td>\n",
       "      <td>1</td>\n",
       "      <td>2.83</td>\n",
       "      <td>0.0125</td>\n",
       "      <td>...</td>\n",
       "      <td>1</td>\n",
       "      <td>0</td>\n",
       "      <td>0</td>\n",
       "      <td>4</td>\n",
       "      <td>0</td>\n",
       "      <td>5.66</td>\n",
       "      <td>4.389468</td>\n",
       "      <td>0</td>\n",
       "      <td>0</td>\n",
       "      <td>4</td>\n",
       "    </tr>\n",
       "    <tr>\n",
       "      <th>4</th>\n",
       "      <td>1</td>\n",
       "      <td>0</td>\n",
       "      <td>0</td>\n",
       "      <td>1</td>\n",
       "      <td>29604</td>\n",
       "      <td>4</td>\n",
       "      <td>3.5</td>\n",
       "      <td>1</td>\n",
       "      <td>2.64</td>\n",
       "      <td>0.1241</td>\n",
       "      <td>...</td>\n",
       "      <td>1</td>\n",
       "      <td>0</td>\n",
       "      <td>0</td>\n",
       "      <td>4</td>\n",
       "      <td>0</td>\n",
       "      <td>10.56</td>\n",
       "      <td>4.929858</td>\n",
       "      <td>0</td>\n",
       "      <td>1</td>\n",
       "      <td>4</td>\n",
       "    </tr>\n",
       "  </tbody>\n",
       "</table>\n",
       "<p>5 rows × 32 columns</p>\n",
       "</div>"
      ],
      "text/plain": [
       "   srch_id  site_id  visitor_location_country_id  prop_country_id  prop_id  \\\n",
       "0        1        0                            0                1      893   \n",
       "1        1        0                            0                1    10404   \n",
       "2        1        0                            0                1    21315   \n",
       "3        1        0                            0                1    27348   \n",
       "4        1        0                            0                1    29604   \n",
       "\n",
       "   prop_starrating  prop_review_score  prop_brand_bool  prop_location_score1  \\\n",
       "0                3                3.5                1                  2.83   \n",
       "1                4                4.0                1                  2.20   \n",
       "2                3                4.5                1                  2.20   \n",
       "3                2                4.0                1                  2.83   \n",
       "4                4                3.5                1                  2.64   \n",
       "\n",
       "   prop_location_score2  ...  random_bool  click_bool  booking_bool  month  \\\n",
       "0                0.0438  ...            1           0             0      4   \n",
       "1                0.0149  ...            1           0             0      4   \n",
       "2                0.0245  ...            1           0             0      4   \n",
       "3                0.0125  ...            1           0             0      4   \n",
       "4                0.1241  ...            1           0             0      4   \n",
       "\n",
       "   relevance  prop_starrating_location_interaction  \\\n",
       "0          0                                  8.49   \n",
       "1          0                                  8.80   \n",
       "2          0                                  6.60   \n",
       "3          0                                  5.66   \n",
       "4          0                                 10.56   \n",
       "\n",
       "   price_historical_interaction  total_time_duration  highly_rated_prop  \\\n",
       "0                      4.949896                    0                  0   \n",
       "1                      5.029827                    0                  1   \n",
       "2                      4.919822                    0                  0   \n",
       "3                      4.389468                    0                  0   \n",
       "4                      4.929858                    0                  1   \n",
       "\n",
       "   total_people  \n",
       "0             4  \n",
       "1             4  \n",
       "2             4  \n",
       "3             4  \n",
       "4             4  \n",
       "\n",
       "[5 rows x 32 columns]"
      ]
     },
     "execution_count": 59,
     "metadata": {},
     "output_type": "execute_result"
    }
   ],
   "source": [
    "df = pd.read_csv('/Users/freekcool/Documents/GitHub/dmt-assignment-2/shreyas/train_preprocessed.csv')[:123959]\n",
    "df.head()"
   ]
  },
  {
   "cell_type": "code",
   "execution_count": 60,
   "id": "aa6a1bbd",
   "metadata": {},
   "outputs": [],
   "source": [
    "X = df\n",
    "train_groups = X.groupby('srch_id').size().to_frame('size')['size'].to_numpy()\n",
    "\n",
    "relevances = X['relevance']\n",
    "\n",
    "X= X.loc[:, ~X.columns.isin(['srch_id','relevance'])]\n",
    "y = relevances"
   ]
  },
  {
   "cell_type": "code",
   "execution_count": 61,
   "id": "50a6956c",
   "metadata": {},
   "outputs": [
    {
     "data": {
      "text/plain": [
       "Index(['site_id', 'visitor_location_country_id', 'prop_country_id', 'prop_id',\n",
       "       'prop_starrating', 'prop_review_score', 'prop_brand_bool',\n",
       "       'prop_location_score1', 'prop_location_score2',\n",
       "       'prop_log_historical_price', 'position', 'price_usd', 'promotion_flag',\n",
       "       'srch_destination_id', 'srch_length_of_stay', 'srch_booking_window',\n",
       "       'srch_adults_count', 'srch_children_count', 'srch_room_count',\n",
       "       'srch_saturday_night_bool', 'orig_destination_distance', 'random_bool',\n",
       "       'click_bool', 'booking_bool', 'month',\n",
       "       'prop_starrating_location_interaction', 'price_historical_interaction',\n",
       "       'total_time_duration', 'highly_rated_prop', 'total_people'],\n",
       "      dtype='object')"
      ]
     },
     "execution_count": 61,
     "metadata": {},
     "output_type": "execute_result"
    }
   ],
   "source": [
    "X.columns"
   ]
  },
  {
   "cell_type": "code",
   "execution_count": 62,
   "id": "d02074dc",
   "metadata": {},
   "outputs": [],
   "source": [
    "X = X.drop(['booking_bool','position','random_bool','prop_id','click_bool'], axis=1)\n"
   ]
  },
  {
   "cell_type": "code",
   "execution_count": 63,
   "id": "8548bb35",
   "metadata": {},
   "outputs": [],
   "source": [
    "scaler = MinMaxScaler()\n",
    "X_scaled = scaler.fit_transform(X)"
   ]
  },
  {
   "cell_type": "code",
   "execution_count": 64,
   "id": "51681063",
   "metadata": {},
   "outputs": [],
   "source": [
    "y_mapped = y.replace({0: 0, 1: 1, 5: 2})"
   ]
  },
  {
   "cell_type": "code",
   "execution_count": 65,
   "id": "85ad2cbb",
   "metadata": {},
   "outputs": [],
   "source": [
    "y = y.values"
   ]
  },
  {
   "cell_type": "code",
   "execution_count": 66,
   "id": "b85cbf9d",
   "metadata": {
    "scrolled": true
   },
   "outputs": [
    {
     "name": "stdout",
     "output_type": "stream",
     "text": [
      "[0 5 1]\n"
     ]
    }
   ],
   "source": [
    "# Check unique values in y\n",
    "unique_values = pd.unique(y)\n",
    "print(unique_values)"
   ]
  },
  {
   "cell_type": "markdown",
   "id": "35b62c6b",
   "metadata": {},
   "source": [
    "## Create a model"
   ]
  },
  {
   "cell_type": "code",
   "execution_count": 67,
   "id": "27b7d4d1",
   "metadata": {},
   "outputs": [],
   "source": [
    "import numpy as np\n",
    "import tensorflow as tf\n",
    "from keras.models import Sequential\n",
    "from keras.layers import Dense, Dropout"
   ]
  },
  {
   "cell_type": "code",
   "execution_count": 68,
   "id": "4a61daa5",
   "metadata": {},
   "outputs": [],
   "source": [
    "y_mapped = np.where(y==5, 2, y)"
   ]
  },
  {
   "cell_type": "code",
   "execution_count": 69,
   "id": "5cceb4ae",
   "metadata": {},
   "outputs": [],
   "source": [
    "y_one_hot = tf.keras.utils.to_categorical(y_mapped)"
   ]
  },
  {
   "cell_type": "code",
   "execution_count": 70,
   "id": "7a150a49",
   "metadata": {},
   "outputs": [],
   "source": [
    "# Define the model architecture\n",
    "model = Sequential()\n",
    "model.add(Dense(64, activation='relu', input_dim=X.shape[1]))\n",
    "model.add(Dropout(0.5))\n",
    "model.add(Dense(64, activation='relu'))\n",
    "model.add(Dropout(0.5))\n",
    "model.add(Dense(3, activation='softmax'))  # Assuming 3 classes (0, 1, 5)\n",
    "\n",
    "# Compile the model\n",
    "model.compile(loss='categorical_crossentropy', optimizer='adam', metrics=['accuracy'])"
   ]
  },
  {
   "cell_type": "code",
   "execution_count": 71,
   "id": "f2b048c1",
   "metadata": {
    "scrolled": true
   },
   "outputs": [
    {
     "name": "stdout",
     "output_type": "stream",
     "text": [
      "Epoch 1/100\n",
      "3099/3099 [==============================] - 32s 10ms/step - loss: 5.3813 - accuracy: 0.9196 - val_loss: 1.2460 - val_accuracy: 0.9554\n",
      "Epoch 2/100\n",
      "3099/3099 [==============================] - 33s 10ms/step - loss: 0.7255 - accuracy: 0.9411 - val_loss: 0.3362 - val_accuracy: 0.9554\n",
      "Epoch 3/100\n",
      "3099/3099 [==============================] - 32s 10ms/step - loss: 0.2772 - accuracy: 0.9521 - val_loss: 0.2146 - val_accuracy: 0.9554\n",
      "Epoch 4/100\n",
      "3099/3099 [==============================] - 33s 10ms/step - loss: 0.2157 - accuracy: 0.9549 - val_loss: 0.2119 - val_accuracy: 0.9554\n",
      "Epoch 5/100\n",
      "3099/3099 [==============================] - 32s 10ms/step - loss: 0.2139 - accuracy: 0.9550 - val_loss: 0.2120 - val_accuracy: 0.9554\n",
      "Epoch 6/100\n",
      "3099/3099 [==============================] - 32s 10ms/step - loss: 0.2149 - accuracy: 0.9551 - val_loss: 0.2121 - val_accuracy: 0.9554\n",
      "Epoch 7/100\n",
      "3099/3099 [==============================] - 33s 11ms/step - loss: 0.2151 - accuracy: 0.9550 - val_loss: 0.2121 - val_accuracy: 0.9554\n",
      "Epoch 8/100\n",
      "3099/3099 [==============================] - 33s 11ms/step - loss: 0.2166 - accuracy: 0.9550 - val_loss: 0.2120 - val_accuracy: 0.9554\n",
      "Epoch 9/100\n",
      "3099/3099 [==============================] - 33s 11ms/step - loss: 0.2178 - accuracy: 0.9550 - val_loss: 0.2122 - val_accuracy: 0.9554\n",
      "Epoch 10/100\n",
      "3099/3099 [==============================] - 33s 11ms/step - loss: 0.2156 - accuracy: 0.9551 - val_loss: 0.2121 - val_accuracy: 0.9554\n",
      "Epoch 11/100\n",
      "3099/3099 [==============================] - 32s 10ms/step - loss: 0.2147 - accuracy: 0.9550 - val_loss: 0.2121 - val_accuracy: 0.9554\n",
      "Epoch 12/100\n",
      "3099/3099 [==============================] - 32s 10ms/step - loss: 0.2139 - accuracy: 0.9551 - val_loss: 0.2121 - val_accuracy: 0.9554\n",
      "Epoch 13/100\n",
      "3099/3099 [==============================] - 33s 11ms/step - loss: 0.2150 - accuracy: 0.9551 - val_loss: 0.2121 - val_accuracy: 0.9554\n",
      "Epoch 14/100\n",
      "3099/3099 [==============================] - 33s 11ms/step - loss: 0.2149 - accuracy: 0.9551 - val_loss: 0.2120 - val_accuracy: 0.9554\n",
      "Epoch 15/100\n",
      "3099/3099 [==============================] - 33s 11ms/step - loss: 0.2153 - accuracy: 0.9551 - val_loss: 0.2121 - val_accuracy: 0.9554\n",
      "Epoch 16/100\n",
      "3099/3099 [==============================] - 33s 11ms/step - loss: 0.2136 - accuracy: 0.9551 - val_loss: 0.2121 - val_accuracy: 0.9554\n",
      "Epoch 17/100\n",
      "3099/3099 [==============================] - 33s 11ms/step - loss: 0.2140 - accuracy: 0.9551 - val_loss: 0.2121 - val_accuracy: 0.9554\n",
      "Epoch 18/100\n",
      "3099/3099 [==============================] - 33s 11ms/step - loss: 0.2145 - accuracy: 0.9551 - val_loss: 0.2120 - val_accuracy: 0.9554\n",
      "Epoch 19/100\n",
      "3099/3099 [==============================] - 33s 11ms/step - loss: 0.2132 - accuracy: 0.9551 - val_loss: 0.2121 - val_accuracy: 0.9554\n",
      "Epoch 20/100\n",
      "3099/3099 [==============================] - 33s 11ms/step - loss: 0.2152 - accuracy: 0.9551 - val_loss: 0.2121 - val_accuracy: 0.9554\n",
      "Epoch 21/100\n",
      "3099/3099 [==============================] - 34s 11ms/step - loss: 0.2131 - accuracy: 0.9551 - val_loss: 0.2122 - val_accuracy: 0.9554\n",
      "Epoch 22/100\n",
      "3099/3099 [==============================] - 33s 11ms/step - loss: 0.2134 - accuracy: 0.9551 - val_loss: 0.2124 - val_accuracy: 0.9554\n",
      "Epoch 23/100\n",
      "3099/3099 [==============================] - 34s 11ms/step - loss: 0.2131 - accuracy: 0.9551 - val_loss: 0.2122 - val_accuracy: 0.9554\n",
      "Epoch 24/100\n",
      "3099/3099 [==============================] - 34s 11ms/step - loss: 0.2132 - accuracy: 0.9551 - val_loss: 0.2122 - val_accuracy: 0.9554\n",
      "Epoch 25/100\n",
      "3099/3099 [==============================] - 33s 11ms/step - loss: 0.2135 - accuracy: 0.9551 - val_loss: 0.2130 - val_accuracy: 0.9554\n",
      "Epoch 26/100\n",
      "3099/3099 [==============================] - 34s 11ms/step - loss: 0.2131 - accuracy: 0.9551 - val_loss: 0.2122 - val_accuracy: 0.9554\n",
      "Epoch 27/100\n",
      "3099/3099 [==============================] - 35s 11ms/step - loss: 0.2132 - accuracy: 0.9551 - val_loss: 0.2124 - val_accuracy: 0.9554\n",
      "Epoch 28/100\n",
      "3099/3099 [==============================] - 33s 11ms/step - loss: 0.2136 - accuracy: 0.9551 - val_loss: 0.2127 - val_accuracy: 0.9554\n",
      "Epoch 29/100\n",
      "3099/3099 [==============================] - 33s 11ms/step - loss: 0.2133 - accuracy: 0.9551 - val_loss: 0.2123 - val_accuracy: 0.9554\n",
      "Epoch 30/100\n",
      "3099/3099 [==============================] - 33s 11ms/step - loss: 0.2131 - accuracy: 0.9551 - val_loss: 0.2123 - val_accuracy: 0.9554\n",
      "Epoch 31/100\n",
      "3099/3099 [==============================] - 33s 11ms/step - loss: 0.2133 - accuracy: 0.9551 - val_loss: 0.2122 - val_accuracy: 0.9554\n",
      "Epoch 32/100\n",
      "3099/3099 [==============================] - 35s 11ms/step - loss: 0.2132 - accuracy: 0.9551 - val_loss: 0.2122 - val_accuracy: 0.9554\n",
      "Epoch 33/100\n",
      "3099/3099 [==============================] - 34s 11ms/step - loss: 0.2131 - accuracy: 0.9551 - val_loss: 0.2121 - val_accuracy: 0.9554\n",
      "Epoch 34/100\n",
      "3099/3099 [==============================] - 33s 11ms/step - loss: 0.2200 - accuracy: 0.9551 - val_loss: 0.2122 - val_accuracy: 0.9554\n",
      "Epoch 35/100\n",
      "3099/3099 [==============================] - 33s 11ms/step - loss: 0.2131 - accuracy: 0.9551 - val_loss: 0.2121 - val_accuracy: 0.9554\n",
      "Epoch 36/100\n",
      "3099/3099 [==============================] - 33s 11ms/step - loss: 0.2132 - accuracy: 0.9551 - val_loss: 0.2121 - val_accuracy: 0.9554\n",
      "Epoch 37/100\n",
      "3099/3099 [==============================] - 35s 11ms/step - loss: 0.2136 - accuracy: 0.9551 - val_loss: 0.2122 - val_accuracy: 0.9554\n",
      "Epoch 38/100\n",
      "3099/3099 [==============================] - 34s 11ms/step - loss: 0.2130 - accuracy: 0.9551 - val_loss: 0.2123 - val_accuracy: 0.9554\n",
      "Epoch 39/100\n",
      "3099/3099 [==============================] - 33s 11ms/step - loss: 0.2131 - accuracy: 0.9551 - val_loss: 0.2125 - val_accuracy: 0.9554\n",
      "Epoch 40/100\n",
      "3099/3099 [==============================] - 34s 11ms/step - loss: 0.2143 - accuracy: 0.9551 - val_loss: 0.2121 - val_accuracy: 0.9554\n",
      "Epoch 41/100\n",
      "3099/3099 [==============================] - 33s 11ms/step - loss: 0.2131 - accuracy: 0.9551 - val_loss: 0.2122 - val_accuracy: 0.9554\n",
      "Epoch 42/100\n",
      "3099/3099 [==============================] - 33s 11ms/step - loss: 0.2132 - accuracy: 0.9551 - val_loss: 0.2124 - val_accuracy: 0.9554\n",
      "Epoch 43/100\n",
      "3099/3099 [==============================] - 33s 11ms/step - loss: 0.2132 - accuracy: 0.9551 - val_loss: 0.2121 - val_accuracy: 0.9554\n",
      "Epoch 44/100\n",
      "3099/3099 [==============================] - 33s 11ms/step - loss: 0.2131 - accuracy: 0.9551 - val_loss: 0.2122 - val_accuracy: 0.9554\n",
      "Epoch 45/100\n",
      "3099/3099 [==============================] - 33s 11ms/step - loss: 0.2145 - accuracy: 0.9551 - val_loss: 0.2121 - val_accuracy: 0.9554\n",
      "Epoch 46/100\n",
      "3099/3099 [==============================] - 33s 11ms/step - loss: 0.2131 - accuracy: 0.9551 - val_loss: 0.2121 - val_accuracy: 0.9554\n",
      "Epoch 47/100\n",
      "3099/3099 [==============================] - 33s 11ms/step - loss: 0.2131 - accuracy: 0.9551 - val_loss: 0.2125 - val_accuracy: 0.9554\n",
      "Epoch 48/100\n",
      "3099/3099 [==============================] - 33s 11ms/step - loss: 0.2131 - accuracy: 0.9551 - val_loss: 0.2123 - val_accuracy: 0.9554\n",
      "Epoch 49/100\n",
      "3099/3099 [==============================] - 33s 11ms/step - loss: 0.2130 - accuracy: 0.9551 - val_loss: 0.2124 - val_accuracy: 0.9554\n",
      "Epoch 50/100\n",
      "3099/3099 [==============================] - 33s 11ms/step - loss: 0.2141 - accuracy: 0.9551 - val_loss: 0.2121 - val_accuracy: 0.9554\n",
      "Epoch 51/100\n",
      "3099/3099 [==============================] - 33s 11ms/step - loss: 0.2130 - accuracy: 0.9551 - val_loss: 0.2123 - val_accuracy: 0.9554\n",
      "Epoch 52/100\n",
      "3099/3099 [==============================] - 33s 11ms/step - loss: 0.2131 - accuracy: 0.9551 - val_loss: 0.2126 - val_accuracy: 0.9554\n",
      "Epoch 53/100\n",
      "3099/3099 [==============================] - 33s 11ms/step - loss: 0.2131 - accuracy: 0.9551 - val_loss: 0.2123 - val_accuracy: 0.9554\n",
      "Epoch 54/100\n",
      "3099/3099 [==============================] - 33s 11ms/step - loss: 0.2131 - accuracy: 0.9551 - val_loss: 0.2125 - val_accuracy: 0.9554\n",
      "Epoch 55/100\n",
      "3099/3099 [==============================] - 33s 11ms/step - loss: 0.2131 - accuracy: 0.9551 - val_loss: 0.2121 - val_accuracy: 0.9554\n",
      "Epoch 56/100\n"
     ]
    },
    {
     "name": "stdout",
     "output_type": "stream",
     "text": [
      "3099/3099 [==============================] - 33s 11ms/step - loss: 0.2131 - accuracy: 0.9551 - val_loss: 0.2123 - val_accuracy: 0.9554\n",
      "Epoch 57/100\n",
      "3099/3099 [==============================] - 33s 11ms/step - loss: 0.2131 - accuracy: 0.9551 - val_loss: 0.2124 - val_accuracy: 0.9554\n",
      "Epoch 58/100\n",
      "3099/3099 [==============================] - 33s 11ms/step - loss: 0.2132 - accuracy: 0.9551 - val_loss: 0.2126 - val_accuracy: 0.9554\n",
      "Epoch 59/100\n",
      "3099/3099 [==============================] - 33s 11ms/step - loss: 0.2132 - accuracy: 0.9551 - val_loss: 0.2125 - val_accuracy: 0.9554\n",
      "Epoch 60/100\n",
      "3099/3099 [==============================] - 33s 11ms/step - loss: 0.2140 - accuracy: 0.9551 - val_loss: 0.2123 - val_accuracy: 0.9554\n",
      "Epoch 61/100\n",
      "3099/3099 [==============================] - 33s 11ms/step - loss: 0.2130 - accuracy: 0.9551 - val_loss: 0.2123 - val_accuracy: 0.9554\n",
      "Epoch 62/100\n",
      "3099/3099 [==============================] - 33s 11ms/step - loss: 0.2134 - accuracy: 0.9551 - val_loss: 0.2121 - val_accuracy: 0.9554\n",
      "Epoch 63/100\n",
      "3099/3099 [==============================] - 33s 11ms/step - loss: 0.2131 - accuracy: 0.9551 - val_loss: 0.2121 - val_accuracy: 0.9554\n",
      "Epoch 64/100\n",
      "3099/3099 [==============================] - 33s 11ms/step - loss: 0.2135 - accuracy: 0.9551 - val_loss: 0.2124 - val_accuracy: 0.9554\n",
      "Epoch 65/100\n",
      "3099/3099 [==============================] - 33s 11ms/step - loss: 0.2133 - accuracy: 0.9551 - val_loss: 0.2122 - val_accuracy: 0.9554\n",
      "Epoch 66/100\n",
      "3099/3099 [==============================] - 33s 11ms/step - loss: 0.2159 - accuracy: 0.9551 - val_loss: 0.2129 - val_accuracy: 0.9554\n",
      "Epoch 67/100\n",
      "3099/3099 [==============================] - 33s 11ms/step - loss: 0.2131 - accuracy: 0.9551 - val_loss: 0.2129 - val_accuracy: 0.9554\n",
      "Epoch 68/100\n",
      "3099/3099 [==============================] - 33s 11ms/step - loss: 0.2131 - accuracy: 0.9551 - val_loss: 0.2122 - val_accuracy: 0.9554\n",
      "Epoch 69/100\n",
      "3099/3099 [==============================] - 33s 11ms/step - loss: 0.2131 - accuracy: 0.9551 - val_loss: 0.2124 - val_accuracy: 0.9554\n",
      "Epoch 70/100\n",
      "3099/3099 [==============================] - 33s 11ms/step - loss: 0.2131 - accuracy: 0.9551 - val_loss: 0.2128 - val_accuracy: 0.9554\n",
      "Epoch 71/100\n",
      "3099/3099 [==============================] - 33s 11ms/step - loss: 0.2137 - accuracy: 0.9551 - val_loss: 0.2121 - val_accuracy: 0.9554\n",
      "Epoch 72/100\n",
      "3099/3099 [==============================] - 33s 11ms/step - loss: 0.2131 - accuracy: 0.9551 - val_loss: 0.2121 - val_accuracy: 0.9554\n",
      "Epoch 73/100\n",
      "3099/3099 [==============================] - 33s 11ms/step - loss: 0.2130 - accuracy: 0.9551 - val_loss: 0.2121 - val_accuracy: 0.9554\n",
      "Epoch 74/100\n",
      "3099/3099 [==============================] - 33s 11ms/step - loss: 0.2131 - accuracy: 0.9551 - val_loss: 0.2128 - val_accuracy: 0.9554\n",
      "Epoch 75/100\n",
      "3099/3099 [==============================] - 33s 11ms/step - loss: 0.2217 - accuracy: 0.9551 - val_loss: 0.2126 - val_accuracy: 0.9554\n",
      "Epoch 76/100\n",
      "3099/3099 [==============================] - 34s 11ms/step - loss: 0.2131 - accuracy: 0.9551 - val_loss: 0.2121 - val_accuracy: 0.9554\n",
      "Epoch 77/100\n",
      "3099/3099 [==============================] - 33s 11ms/step - loss: 0.2131 - accuracy: 0.9551 - val_loss: 0.2122 - val_accuracy: 0.9554\n",
      "Epoch 78/100\n",
      "3099/3099 [==============================] - 33s 11ms/step - loss: 0.2132 - accuracy: 0.9551 - val_loss: 0.2123 - val_accuracy: 0.9554\n",
      "Epoch 79/100\n",
      "3099/3099 [==============================] - 33s 11ms/step - loss: 0.2130 - accuracy: 0.9551 - val_loss: 0.2124 - val_accuracy: 0.9554\n",
      "Epoch 80/100\n",
      "3099/3099 [==============================] - 33s 11ms/step - loss: 0.2146 - accuracy: 0.9551 - val_loss: 0.2126 - val_accuracy: 0.9554\n",
      "Epoch 81/100\n",
      "3099/3099 [==============================] - 33s 11ms/step - loss: 0.2131 - accuracy: 0.9551 - val_loss: 0.2123 - val_accuracy: 0.9554\n",
      "Epoch 82/100\n",
      "3099/3099 [==============================] - 33s 11ms/step - loss: 0.2131 - accuracy: 0.9551 - val_loss: 0.2123 - val_accuracy: 0.9554\n",
      "Epoch 83/100\n",
      "3099/3099 [==============================] - 33s 11ms/step - loss: 0.2130 - accuracy: 0.9551 - val_loss: 0.2125 - val_accuracy: 0.9554\n",
      "Epoch 84/100\n",
      "3099/3099 [==============================] - 33s 11ms/step - loss: 0.2133 - accuracy: 0.9551 - val_loss: 0.2121 - val_accuracy: 0.9554\n",
      "Epoch 85/100\n",
      "3099/3099 [==============================] - 33s 11ms/step - loss: 0.2130 - accuracy: 0.9551 - val_loss: 0.2130 - val_accuracy: 0.9554\n",
      "Epoch 86/100\n",
      "3099/3099 [==============================] - 33s 11ms/step - loss: 0.2130 - accuracy: 0.9551 - val_loss: 0.2122 - val_accuracy: 0.9554\n",
      "Epoch 87/100\n",
      "3099/3099 [==============================] - 33s 11ms/step - loss: 0.2130 - accuracy: 0.9551 - val_loss: 0.2122 - val_accuracy: 0.9554\n",
      "Epoch 88/100\n",
      "3099/3099 [==============================] - 33s 11ms/step - loss: 0.2140 - accuracy: 0.9551 - val_loss: 0.2124 - val_accuracy: 0.9554\n",
      "Epoch 89/100\n",
      "3099/3099 [==============================] - 33s 11ms/step - loss: 0.2130 - accuracy: 0.9551 - val_loss: 0.2128 - val_accuracy: 0.9554\n",
      "Epoch 90/100\n",
      "3099/3099 [==============================] - 33s 11ms/step - loss: 0.2131 - accuracy: 0.9551 - val_loss: 0.2121 - val_accuracy: 0.9554\n",
      "Epoch 91/100\n",
      "3099/3099 [==============================] - 33s 11ms/step - loss: 0.2274 - accuracy: 0.9551 - val_loss: 0.2122 - val_accuracy: 0.9554\n",
      "Epoch 92/100\n",
      "3099/3099 [==============================] - 33s 11ms/step - loss: 0.2131 - accuracy: 0.9551 - val_loss: 0.2121 - val_accuracy: 0.9554\n",
      "Epoch 93/100\n",
      "3099/3099 [==============================] - 33s 11ms/step - loss: 0.2130 - accuracy: 0.9551 - val_loss: 0.2121 - val_accuracy: 0.9554\n",
      "Epoch 94/100\n",
      "3099/3099 [==============================] - 33s 11ms/step - loss: 0.2130 - accuracy: 0.9551 - val_loss: 0.2123 - val_accuracy: 0.9554\n",
      "Epoch 95/100\n",
      "3099/3099 [==============================] - 33s 11ms/step - loss: 0.2131 - accuracy: 0.9551 - val_loss: 0.2129 - val_accuracy: 0.9554\n",
      "Epoch 96/100\n",
      "3099/3099 [==============================] - 33s 11ms/step - loss: 0.2135 - accuracy: 0.9551 - val_loss: 0.2129 - val_accuracy: 0.9554\n",
      "Epoch 97/100\n",
      "3099/3099 [==============================] - 33s 11ms/step - loss: 0.2131 - accuracy: 0.9551 - val_loss: 0.2122 - val_accuracy: 0.9554\n",
      "Epoch 98/100\n",
      "3099/3099 [==============================] - 33s 11ms/step - loss: 0.2132 - accuracy: 0.9551 - val_loss: 0.2127 - val_accuracy: 0.9554\n",
      "Epoch 99/100\n",
      "3099/3099 [==============================] - 33s 11ms/step - loss: 0.2130 - accuracy: 0.9551 - val_loss: 0.2129 - val_accuracy: 0.9554\n",
      "Epoch 100/100\n",
      "3099/3099 [==============================] - 33s 11ms/step - loss: 0.2131 - accuracy: 0.9551 - val_loss: 0.2130 - val_accuracy: 0.9554\n"
     ]
    },
    {
     "data": {
      "text/plain": [
       "<keras.callbacks.History at 0x162003940>"
      ]
     },
     "execution_count": 71,
     "metadata": {},
     "output_type": "execute_result"
    }
   ],
   "source": [
    "model.fit(X, y_one_hot, epochs=100, batch_size=32, validation_split=0.2)"
   ]
  },
  {
   "cell_type": "code",
   "execution_count": 72,
   "id": "3382f978",
   "metadata": {},
   "outputs": [],
   "source": [
    "model.save('/Users/freekcool/Documents/dmt-neural.h5')"
   ]
  },
  {
   "cell_type": "markdown",
   "id": "2bc66a45",
   "metadata": {},
   "source": [
    "## Predicting on the testset"
   ]
  },
  {
   "cell_type": "code",
   "execution_count": 53,
   "id": "03af6349",
   "metadata": {},
   "outputs": [],
   "source": [
    "test_df = pd.read_csv('/Users/freekcool/Documents/GitHub/dmt-assignment-2/shreyas/test_preprocessed.csv')"
   ]
  },
  {
   "cell_type": "code",
   "execution_count": 54,
   "id": "c8c21695",
   "metadata": {},
   "outputs": [
    {
     "data": {
      "text/plain": [
       "Index(['site_id', 'visitor_location_country_id', 'prop_country_id',\n",
       "       'prop_starrating', 'prop_review_score', 'prop_brand_bool',\n",
       "       'prop_location_score1', 'prop_location_score2',\n",
       "       'prop_log_historical_price', 'price_usd', 'promotion_flag',\n",
       "       'srch_destination_id', 'srch_length_of_stay', 'srch_booking_window',\n",
       "       'srch_adults_count', 'srch_children_count', 'srch_room_count',\n",
       "       'srch_saturday_night_bool', 'orig_destination_distance', 'month',\n",
       "       'prop_starrating_location_interaction', 'price_historical_interaction',\n",
       "       'total_time_duration', 'highly_rated_prop', 'total_people'],\n",
       "      dtype='object')"
      ]
     },
     "execution_count": 54,
     "metadata": {},
     "output_type": "execute_result"
    }
   ],
   "source": [
    "X.columns"
   ]
  },
  {
   "cell_type": "code",
   "execution_count": 55,
   "id": "6aae0de2",
   "metadata": {},
   "outputs": [
    {
     "data": {
      "text/plain": [
       "Index(['srch_id', 'site_id', 'visitor_location_country_id', 'prop_country_id',\n",
       "       'prop_id', 'prop_starrating', 'prop_review_score', 'prop_brand_bool',\n",
       "       'prop_location_score1', 'prop_location_score2',\n",
       "       'prop_log_historical_price', 'price_usd', 'promotion_flag',\n",
       "       'srch_destination_id', 'srch_length_of_stay', 'srch_booking_window',\n",
       "       'srch_adults_count', 'srch_children_count', 'srch_room_count',\n",
       "       'srch_saturday_night_bool', 'orig_destination_distance', 'month',\n",
       "       'prop_starrating_location_interaction', 'price_historical_interaction',\n",
       "       'total_time_duration', 'highly_rated_prop', 'total_people'],\n",
       "      dtype='object')"
      ]
     },
     "execution_count": 55,
     "metadata": {},
     "output_type": "execute_result"
    }
   ],
   "source": [
    "test_df.columns"
   ]
  },
  {
   "cell_type": "code",
   "execution_count": 56,
   "id": "f83f1c8e",
   "metadata": {},
   "outputs": [
    {
     "name": "stderr",
     "output_type": "stream",
     "text": [
      "/Users/freekcool/miniforge3/envs/env_tensorflow/lib/python3.9/site-packages/sklearn/base.py:493: FutureWarning: The feature names should match those that were passed during fit. Starting version 1.2, an error will be raised.\n",
      "Feature names unseen at fit time:\n",
      "- srch_id\n",
      "Feature names seen at fit time, yet now missing:\n",
      "- booking_bool\n",
      "- click_bool\n",
      "- position\n",
      "- prop_id\n",
      "- random_bool\n",
      "\n",
      "  warnings.warn(message, FutureWarning)\n"
     ]
    },
    {
     "ename": "ValueError",
     "evalue": "X has 26 features, but MinMaxScaler is expecting 30 features as input.",
     "output_type": "error",
     "traceback": [
      "\u001b[0;31m---------------------------------------------------------------------------\u001b[0m",
      "\u001b[0;31mValueError\u001b[0m                                Traceback (most recent call last)",
      "Input \u001b[0;32mIn [56]\u001b[0m, in \u001b[0;36m<cell line: 5>\u001b[0;34m()\u001b[0m\n\u001b[1;32m      2\u001b[0m test_X \u001b[38;5;241m=\u001b[39m test_df\u001b[38;5;241m.\u001b[39mloc[:, \u001b[38;5;241m~\u001b[39mtest_df\u001b[38;5;241m.\u001b[39mcolumns\u001b[38;5;241m.\u001b[39misin([\u001b[38;5;124m'\u001b[39m\u001b[38;5;124mbooking_bool\u001b[39m\u001b[38;5;124m'\u001b[39m,\u001b[38;5;124m'\u001b[39m\u001b[38;5;124mposition\u001b[39m\u001b[38;5;124m'\u001b[39m,\u001b[38;5;124m'\u001b[39m\u001b[38;5;124mrandom_bool\u001b[39m\u001b[38;5;124m'\u001b[39m,\u001b[38;5;124m'\u001b[39m\u001b[38;5;124mprop_id\u001b[39m\u001b[38;5;124m'\u001b[39m,\u001b[38;5;124m'\u001b[39m\u001b[38;5;124mclick_bool\u001b[39m\u001b[38;5;124m'\u001b[39m])]\n\u001b[1;32m      4\u001b[0m \u001b[38;5;66;03m# Scale the test data using the same scaler used for training data.\u001b[39;00m\n\u001b[0;32m----> 5\u001b[0m test_X_scaled \u001b[38;5;241m=\u001b[39m \u001b[43mscaler\u001b[49m\u001b[38;5;241;43m.\u001b[39;49m\u001b[43mtransform\u001b[49m\u001b[43m(\u001b[49m\u001b[43mtest_X\u001b[49m\u001b[43m)\u001b[49m\n\u001b[1;32m      7\u001b[0m \u001b[38;5;66;03m# Make predictions\u001b[39;00m\n\u001b[1;32m      8\u001b[0m predictions \u001b[38;5;241m=\u001b[39m model\u001b[38;5;241m.\u001b[39mpredict(test_X_scaled)\n",
      "File \u001b[0;32m~/miniforge3/envs/env_tensorflow/lib/python3.9/site-packages/sklearn/preprocessing/_data.py:496\u001b[0m, in \u001b[0;36mMinMaxScaler.transform\u001b[0;34m(self, X)\u001b[0m\n\u001b[1;32m    482\u001b[0m \u001b[38;5;124;03m\"\"\"Scale features of X according to feature_range.\u001b[39;00m\n\u001b[1;32m    483\u001b[0m \n\u001b[1;32m    484\u001b[0m \u001b[38;5;124;03mParameters\u001b[39;00m\n\u001b[0;32m   (...)\u001b[0m\n\u001b[1;32m    492\u001b[0m \u001b[38;5;124;03m    Transformed data.\u001b[39;00m\n\u001b[1;32m    493\u001b[0m \u001b[38;5;124;03m\"\"\"\u001b[39;00m\n\u001b[1;32m    494\u001b[0m check_is_fitted(\u001b[38;5;28mself\u001b[39m)\n\u001b[0;32m--> 496\u001b[0m X \u001b[38;5;241m=\u001b[39m \u001b[38;5;28;43mself\u001b[39;49m\u001b[38;5;241;43m.\u001b[39;49m\u001b[43m_validate_data\u001b[49m\u001b[43m(\u001b[49m\n\u001b[1;32m    497\u001b[0m \u001b[43m    \u001b[49m\u001b[43mX\u001b[49m\u001b[43m,\u001b[49m\n\u001b[1;32m    498\u001b[0m \u001b[43m    \u001b[49m\u001b[43mcopy\u001b[49m\u001b[38;5;241;43m=\u001b[39;49m\u001b[38;5;28;43mself\u001b[39;49m\u001b[38;5;241;43m.\u001b[39;49m\u001b[43mcopy\u001b[49m\u001b[43m,\u001b[49m\n\u001b[1;32m    499\u001b[0m \u001b[43m    \u001b[49m\u001b[43mdtype\u001b[49m\u001b[38;5;241;43m=\u001b[39;49m\u001b[43mFLOAT_DTYPES\u001b[49m\u001b[43m,\u001b[49m\n\u001b[1;32m    500\u001b[0m \u001b[43m    \u001b[49m\u001b[43mforce_all_finite\u001b[49m\u001b[38;5;241;43m=\u001b[39;49m\u001b[38;5;124;43m\"\u001b[39;49m\u001b[38;5;124;43mallow-nan\u001b[39;49m\u001b[38;5;124;43m\"\u001b[39;49m\u001b[43m,\u001b[49m\n\u001b[1;32m    501\u001b[0m \u001b[43m    \u001b[49m\u001b[43mreset\u001b[49m\u001b[38;5;241;43m=\u001b[39;49m\u001b[38;5;28;43;01mFalse\u001b[39;49;00m\u001b[43m,\u001b[49m\n\u001b[1;32m    502\u001b[0m \u001b[43m\u001b[49m\u001b[43m)\u001b[49m\n\u001b[1;32m    504\u001b[0m X \u001b[38;5;241m*\u001b[39m\u001b[38;5;241m=\u001b[39m \u001b[38;5;28mself\u001b[39m\u001b[38;5;241m.\u001b[39mscale_\n\u001b[1;32m    505\u001b[0m X \u001b[38;5;241m+\u001b[39m\u001b[38;5;241m=\u001b[39m \u001b[38;5;28mself\u001b[39m\u001b[38;5;241m.\u001b[39mmin_\n",
      "File \u001b[0;32m~/miniforge3/envs/env_tensorflow/lib/python3.9/site-packages/sklearn/base.py:585\u001b[0m, in \u001b[0;36mBaseEstimator._validate_data\u001b[0;34m(self, X, y, reset, validate_separately, **check_params)\u001b[0m\n\u001b[1;32m    582\u001b[0m     out \u001b[38;5;241m=\u001b[39m X, y\n\u001b[1;32m    584\u001b[0m \u001b[38;5;28;01mif\u001b[39;00m \u001b[38;5;129;01mnot\u001b[39;00m no_val_X \u001b[38;5;129;01mand\u001b[39;00m check_params\u001b[38;5;241m.\u001b[39mget(\u001b[38;5;124m\"\u001b[39m\u001b[38;5;124mensure_2d\u001b[39m\u001b[38;5;124m\"\u001b[39m, \u001b[38;5;28;01mTrue\u001b[39;00m):\n\u001b[0;32m--> 585\u001b[0m     \u001b[38;5;28;43mself\u001b[39;49m\u001b[38;5;241;43m.\u001b[39;49m\u001b[43m_check_n_features\u001b[49m\u001b[43m(\u001b[49m\u001b[43mX\u001b[49m\u001b[43m,\u001b[49m\u001b[43m \u001b[49m\u001b[43mreset\u001b[49m\u001b[38;5;241;43m=\u001b[39;49m\u001b[43mreset\u001b[49m\u001b[43m)\u001b[49m\n\u001b[1;32m    587\u001b[0m \u001b[38;5;28;01mreturn\u001b[39;00m out\n",
      "File \u001b[0;32m~/miniforge3/envs/env_tensorflow/lib/python3.9/site-packages/sklearn/base.py:400\u001b[0m, in \u001b[0;36mBaseEstimator._check_n_features\u001b[0;34m(self, X, reset)\u001b[0m\n\u001b[1;32m    397\u001b[0m     \u001b[38;5;28;01mreturn\u001b[39;00m\n\u001b[1;32m    399\u001b[0m \u001b[38;5;28;01mif\u001b[39;00m n_features \u001b[38;5;241m!=\u001b[39m \u001b[38;5;28mself\u001b[39m\u001b[38;5;241m.\u001b[39mn_features_in_:\n\u001b[0;32m--> 400\u001b[0m     \u001b[38;5;28;01mraise\u001b[39;00m \u001b[38;5;167;01mValueError\u001b[39;00m(\n\u001b[1;32m    401\u001b[0m         \u001b[38;5;124mf\u001b[39m\u001b[38;5;124m\"\u001b[39m\u001b[38;5;124mX has \u001b[39m\u001b[38;5;132;01m{\u001b[39;00mn_features\u001b[38;5;132;01m}\u001b[39;00m\u001b[38;5;124m features, but \u001b[39m\u001b[38;5;132;01m{\u001b[39;00m\u001b[38;5;28mself\u001b[39m\u001b[38;5;241m.\u001b[39m\u001b[38;5;18m__class__\u001b[39m\u001b[38;5;241m.\u001b[39m\u001b[38;5;18m__name__\u001b[39m\u001b[38;5;132;01m}\u001b[39;00m\u001b[38;5;124m \u001b[39m\u001b[38;5;124m\"\u001b[39m\n\u001b[1;32m    402\u001b[0m         \u001b[38;5;124mf\u001b[39m\u001b[38;5;124m\"\u001b[39m\u001b[38;5;124mis expecting \u001b[39m\u001b[38;5;132;01m{\u001b[39;00m\u001b[38;5;28mself\u001b[39m\u001b[38;5;241m.\u001b[39mn_features_in_\u001b[38;5;132;01m}\u001b[39;00m\u001b[38;5;124m features as input.\u001b[39m\u001b[38;5;124m\"\u001b[39m\n\u001b[1;32m    403\u001b[0m     )\n",
      "\u001b[0;31mValueError\u001b[0m: X has 26 features, but MinMaxScaler is expecting 30 features as input."
     ]
    }
   ],
   "source": [
    "# Select relevant features and make sure to remove any features that aren't in your training set.\n",
    "test_X = test_df.loc[:, ~test_df.columns.isin(['booking_bool','position','random_bool','prop_id','click_bool'])]\n",
    "\n",
    "# Scale the test data using the same scaler used for training data.\n",
    "test_X_scaled = scaler.transform(test_X)\n",
    "\n",
    "# Make predictions\n",
    "predictions = model.predict(test_X_scaled)"
   ]
  },
  {
   "cell_type": "code",
   "execution_count": null,
   "id": "35122b7e",
   "metadata": {},
   "outputs": [],
   "source": []
  }
 ],
 "metadata": {
  "kernelspec": {
   "display_name": "Python 3",
   "language": "python",
   "name": "python3"
  },
  "language_info": {
   "codemirror_mode": {
    "name": "ipython",
    "version": 3
   },
   "file_extension": ".py",
   "mimetype": "text/x-python",
   "name": "python",
   "nbconvert_exporter": "python",
   "pygments_lexer": "ipython3",
   "version": "3.9.12"
  }
 },
 "nbformat": 4,
 "nbformat_minor": 5
}
