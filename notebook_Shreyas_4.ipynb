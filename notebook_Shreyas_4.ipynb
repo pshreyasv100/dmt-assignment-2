{
 "cells": [
  {
   "cell_type": "code",
   "execution_count": 1,
   "metadata": {},
   "outputs": [],
   "source": [
    "import pandas as pd\n",
    "import seaborn as sns\n",
    "import matplotlib.pyplot as plt\n",
    "\n",
    "\n",
    "from sklearn.model_selection import train_test_split\n",
    "from tqdm import tqdm\n",
    "\n",
    "from sklearn.preprocessing import MinMaxScaler\n",
    "\n",
    "import time\n"
   ]
  },
  {
   "cell_type": "code",
   "execution_count": 2,
   "metadata": {},
   "outputs": [
    {
     "name": "stdout",
     "output_type": "stream",
     "text": [
      "Requirement already satisfied: xgboost in /home/shreyas/.local/lib/python3.8/site-packages (1.7.5)\n",
      "Requirement already satisfied: scipy in /home/shreyas/.local/lib/python3.8/site-packages (from xgboost) (1.9.2)\n",
      "Requirement already satisfied: numpy in /home/shreyas/.local/lib/python3.8/site-packages (from xgboost) (1.23.3)\n"
     ]
    }
   ],
   "source": [
    "!pip install xgboost"
   ]
  },
  {
   "cell_type": "code",
   "execution_count": 3,
   "metadata": {},
   "outputs": [],
   "source": [
    "from xgboost import XGBRanker"
   ]
  },
  {
   "cell_type": "code",
   "execution_count": 4,
   "metadata": {},
   "outputs": [
    {
     "data": {
      "text/html": [
       "<div>\n",
       "<style scoped>\n",
       "    .dataframe tbody tr th:only-of-type {\n",
       "        vertical-align: middle;\n",
       "    }\n",
       "\n",
       "    .dataframe tbody tr th {\n",
       "        vertical-align: top;\n",
       "    }\n",
       "\n",
       "    .dataframe thead th {\n",
       "        text-align: right;\n",
       "    }\n",
       "</style>\n",
       "<table border=\"1\" class=\"dataframe\">\n",
       "  <thead>\n",
       "    <tr style=\"text-align: right;\">\n",
       "      <th></th>\n",
       "      <th>srch_id</th>\n",
       "      <th>site_id</th>\n",
       "      <th>visitor_location_country_id</th>\n",
       "      <th>prop_country_id</th>\n",
       "      <th>prop_id</th>\n",
       "      <th>prop_starrating</th>\n",
       "      <th>prop_review_score</th>\n",
       "      <th>prop_brand_bool</th>\n",
       "      <th>prop_location_score1</th>\n",
       "      <th>prop_location_score2</th>\n",
       "      <th>...</th>\n",
       "      <th>random_bool</th>\n",
       "      <th>click_bool</th>\n",
       "      <th>booking_bool</th>\n",
       "      <th>month</th>\n",
       "      <th>relevance</th>\n",
       "      <th>prop_starrating_location_interaction</th>\n",
       "      <th>price_historical_interaction</th>\n",
       "      <th>total_time_duration</th>\n",
       "      <th>highly_rated_prop</th>\n",
       "      <th>total_people</th>\n",
       "    </tr>\n",
       "  </thead>\n",
       "  <tbody>\n",
       "    <tr>\n",
       "      <th>0</th>\n",
       "      <td>1</td>\n",
       "      <td>0</td>\n",
       "      <td>0</td>\n",
       "      <td>1</td>\n",
       "      <td>893</td>\n",
       "      <td>3</td>\n",
       "      <td>3.5</td>\n",
       "      <td>1</td>\n",
       "      <td>2.83</td>\n",
       "      <td>0.0438</td>\n",
       "      <td>...</td>\n",
       "      <td>1</td>\n",
       "      <td>0</td>\n",
       "      <td>0</td>\n",
       "      <td>4</td>\n",
       "      <td>0</td>\n",
       "      <td>8.49</td>\n",
       "      <td>0.000026</td>\n",
       "      <td>0</td>\n",
       "      <td>0</td>\n",
       "      <td>4</td>\n",
       "    </tr>\n",
       "    <tr>\n",
       "      <th>1</th>\n",
       "      <td>1</td>\n",
       "      <td>0</td>\n",
       "      <td>0</td>\n",
       "      <td>1</td>\n",
       "      <td>10404</td>\n",
       "      <td>4</td>\n",
       "      <td>4.0</td>\n",
       "      <td>1</td>\n",
       "      <td>2.20</td>\n",
       "      <td>0.0149</td>\n",
       "      <td>...</td>\n",
       "      <td>1</td>\n",
       "      <td>0</td>\n",
       "      <td>0</td>\n",
       "      <td>4</td>\n",
       "      <td>0</td>\n",
       "      <td>8.80</td>\n",
       "      <td>0.000044</td>\n",
       "      <td>0</td>\n",
       "      <td>1</td>\n",
       "      <td>4</td>\n",
       "    </tr>\n",
       "    <tr>\n",
       "      <th>2</th>\n",
       "      <td>1</td>\n",
       "      <td>0</td>\n",
       "      <td>0</td>\n",
       "      <td>1</td>\n",
       "      <td>21315</td>\n",
       "      <td>3</td>\n",
       "      <td>4.5</td>\n",
       "      <td>1</td>\n",
       "      <td>2.20</td>\n",
       "      <td>0.0245</td>\n",
       "      <td>...</td>\n",
       "      <td>1</td>\n",
       "      <td>0</td>\n",
       "      <td>0</td>\n",
       "      <td>4</td>\n",
       "      <td>0</td>\n",
       "      <td>6.60</td>\n",
       "      <td>0.000045</td>\n",
       "      <td>0</td>\n",
       "      <td>0</td>\n",
       "      <td>4</td>\n",
       "    </tr>\n",
       "    <tr>\n",
       "      <th>3</th>\n",
       "      <td>1</td>\n",
       "      <td>0</td>\n",
       "      <td>0</td>\n",
       "      <td>1</td>\n",
       "      <td>27348</td>\n",
       "      <td>2</td>\n",
       "      <td>4.0</td>\n",
       "      <td>1</td>\n",
       "      <td>2.83</td>\n",
       "      <td>0.0125</td>\n",
       "      <td>...</td>\n",
       "      <td>1</td>\n",
       "      <td>0</td>\n",
       "      <td>0</td>\n",
       "      <td>4</td>\n",
       "      <td>0</td>\n",
       "      <td>5.66</td>\n",
       "      <td>0.000134</td>\n",
       "      <td>0</td>\n",
       "      <td>0</td>\n",
       "      <td>4</td>\n",
       "    </tr>\n",
       "    <tr>\n",
       "      <th>4</th>\n",
       "      <td>1</td>\n",
       "      <td>0</td>\n",
       "      <td>0</td>\n",
       "      <td>1</td>\n",
       "      <td>29604</td>\n",
       "      <td>4</td>\n",
       "      <td>3.5</td>\n",
       "      <td>1</td>\n",
       "      <td>2.64</td>\n",
       "      <td>0.1241</td>\n",
       "      <td>...</td>\n",
       "      <td>1</td>\n",
       "      <td>0</td>\n",
       "      <td>0</td>\n",
       "      <td>4</td>\n",
       "      <td>0</td>\n",
       "      <td>10.56</td>\n",
       "      <td>0.000036</td>\n",
       "      <td>0</td>\n",
       "      <td>1</td>\n",
       "      <td>4</td>\n",
       "    </tr>\n",
       "  </tbody>\n",
       "</table>\n",
       "<p>5 rows × 32 columns</p>\n",
       "</div>"
      ],
      "text/plain": [
       "   srch_id  site_id  visitor_location_country_id  prop_country_id  prop_id  \\\n",
       "0        1        0                            0                1      893   \n",
       "1        1        0                            0                1    10404   \n",
       "2        1        0                            0                1    21315   \n",
       "3        1        0                            0                1    27348   \n",
       "4        1        0                            0                1    29604   \n",
       "\n",
       "   prop_starrating  prop_review_score  prop_brand_bool  prop_location_score1  \\\n",
       "0                3                3.5                1                  2.83   \n",
       "1                4                4.0                1                  2.20   \n",
       "2                3                4.5                1                  2.20   \n",
       "3                2                4.0                1                  2.83   \n",
       "4                4                3.5                1                  2.64   \n",
       "\n",
       "   prop_location_score2  ...  random_bool  click_bool  booking_bool  month  \\\n",
       "0                0.0438  ...            1           0             0      4   \n",
       "1                0.0149  ...            1           0             0      4   \n",
       "2                0.0245  ...            1           0             0      4   \n",
       "3                0.0125  ...            1           0             0      4   \n",
       "4                0.1241  ...            1           0             0      4   \n",
       "\n",
       "   relevance  prop_starrating_location_interaction  \\\n",
       "0          0                                  8.49   \n",
       "1          0                                  8.80   \n",
       "2          0                                  6.60   \n",
       "3          0                                  5.66   \n",
       "4          0                                 10.56   \n",
       "\n",
       "   price_historical_interaction  total_time_duration  highly_rated_prop  \\\n",
       "0                      0.000026                    0                  0   \n",
       "1                      0.000044                    0                  1   \n",
       "2                      0.000045                    0                  0   \n",
       "3                      0.000134                    0                  0   \n",
       "4                      0.000036                    0                  1   \n",
       "\n",
       "   total_people  \n",
       "0             4  \n",
       "1             4  \n",
       "2             4  \n",
       "3             4  \n",
       "4             4  \n",
       "\n",
       "[5 rows x 32 columns]"
      ]
     },
     "execution_count": 4,
     "metadata": {},
     "output_type": "execute_result"
    }
   ],
   "source": [
    "df = pd.read_csv('train_preprocessed.csv')\n",
    "df.head()"
   ]
  },
  {
   "cell_type": "code",
   "execution_count": 5,
   "metadata": {},
   "outputs": [],
   "source": [
    "X = df\n",
    "train_groups = X.groupby('srch_id').size().to_frame('size')['size'].to_numpy()\n",
    "\n",
    "relevances = X['relevance']\n",
    "\n",
    "X= X.loc[:, ~X.columns.isin(['srch_id','relevance'])]\n",
    "y = relevances"
   ]
  },
  {
   "cell_type": "code",
   "execution_count": 6,
   "metadata": {},
   "outputs": [
    {
     "data": {
      "text/plain": [
       "Index(['site_id', 'visitor_location_country_id', 'prop_country_id', 'prop_id',\n",
       "       'prop_starrating', 'prop_review_score', 'prop_brand_bool',\n",
       "       'prop_location_score1', 'prop_location_score2',\n",
       "       'prop_log_historical_price', 'position', 'price_usd', 'promotion_flag',\n",
       "       'srch_destination_id', 'srch_length_of_stay', 'srch_booking_window',\n",
       "       'srch_adults_count', 'srch_children_count', 'srch_room_count',\n",
       "       'srch_saturday_night_bool', 'orig_destination_distance', 'random_bool',\n",
       "       'click_bool', 'booking_bool', 'month',\n",
       "       'prop_starrating_location_interaction', 'price_historical_interaction',\n",
       "       'total_time_duration', 'highly_rated_prop', 'total_people'],\n",
       "      dtype='object')"
      ]
     },
     "execution_count": 6,
     "metadata": {},
     "output_type": "execute_result"
    }
   ],
   "source": [
    "X.columns"
   ]
  },
  {
   "cell_type": "code",
   "execution_count": 7,
   "metadata": {},
   "outputs": [],
   "source": [
    "X = X.drop(['booking_bool','position','random_bool','prop_id','click_bool'], axis=1)\n"
   ]
  },
  {
   "cell_type": "code",
   "execution_count": 8,
   "metadata": {},
   "outputs": [
    {
     "name": "stderr",
     "output_type": "stream",
     "text": [
      "/home/shreyas/.local/lib/python3.8/site-packages/xgboost/sklearn.py:835: UserWarning: `eval_metric` in `fit` method is deprecated for better compatibility with scikit-learn, use `eval_metric` in constructor or`set_params` instead.\n",
      "  warnings.warn(\n"
     ]
    },
    {
     "name": "stdout",
     "output_type": "stream",
     "text": [
      "[0]\tvalidation_0-ndcg@5:0.27840\n",
      "[1]\tvalidation_0-ndcg@5:0.27979\n",
      "[2]\tvalidation_0-ndcg@5:0.28000\n",
      "[3]\tvalidation_0-ndcg@5:0.28058\n",
      "[4]\tvalidation_0-ndcg@5:0.28172\n",
      "[5]\tvalidation_0-ndcg@5:0.28536\n",
      "[6]\tvalidation_0-ndcg@5:0.28704\n",
      "[7]\tvalidation_0-ndcg@5:0.28759\n",
      "[8]\tvalidation_0-ndcg@5:0.28779\n",
      "[9]\tvalidation_0-ndcg@5:0.29157\n",
      "[10]\tvalidation_0-ndcg@5:0.29389\n",
      "[11]\tvalidation_0-ndcg@5:0.29487\n",
      "[12]\tvalidation_0-ndcg@5:0.29648\n",
      "[13]\tvalidation_0-ndcg@5:0.29717\n",
      "[14]\tvalidation_0-ndcg@5:0.29777\n",
      "[15]\tvalidation_0-ndcg@5:0.29972\n",
      "[16]\tvalidation_0-ndcg@5:0.30027\n",
      "[17]\tvalidation_0-ndcg@5:0.30164\n",
      "[18]\tvalidation_0-ndcg@5:0.30257\n",
      "[19]\tvalidation_0-ndcg@5:0.30327\n",
      "[20]\tvalidation_0-ndcg@5:0.30545\n",
      "[21]\tvalidation_0-ndcg@5:0.30665\n",
      "[22]\tvalidation_0-ndcg@5:0.30744\n",
      "[23]\tvalidation_0-ndcg@5:0.30839\n",
      "[24]\tvalidation_0-ndcg@5:0.30961\n",
      "[25]\tvalidation_0-ndcg@5:0.31059\n",
      "[26]\tvalidation_0-ndcg@5:0.31140\n",
      "[27]\tvalidation_0-ndcg@5:0.31229\n",
      "[28]\tvalidation_0-ndcg@5:0.31287\n",
      "[29]\tvalidation_0-ndcg@5:0.31375\n",
      "[30]\tvalidation_0-ndcg@5:0.31431\n",
      "[31]\tvalidation_0-ndcg@5:0.31503\n",
      "[32]\tvalidation_0-ndcg@5:0.31608\n",
      "[33]\tvalidation_0-ndcg@5:0.31663\n",
      "[34]\tvalidation_0-ndcg@5:0.31741\n",
      "[35]\tvalidation_0-ndcg@5:0.31796\n",
      "[36]\tvalidation_0-ndcg@5:0.31864\n",
      "[37]\tvalidation_0-ndcg@5:0.31918\n",
      "[38]\tvalidation_0-ndcg@5:0.31978\n",
      "[39]\tvalidation_0-ndcg@5:0.32036\n",
      "[40]\tvalidation_0-ndcg@5:0.32105\n",
      "[41]\tvalidation_0-ndcg@5:0.32158\n",
      "[42]\tvalidation_0-ndcg@5:0.32232\n",
      "[43]\tvalidation_0-ndcg@5:0.32292\n",
      "[44]\tvalidation_0-ndcg@5:0.32338\n",
      "[45]\tvalidation_0-ndcg@5:0.32384\n",
      "[46]\tvalidation_0-ndcg@5:0.32424\n",
      "[47]\tvalidation_0-ndcg@5:0.32478\n",
      "[48]\tvalidation_0-ndcg@5:0.32535\n",
      "[49]\tvalidation_0-ndcg@5:0.32587\n",
      "[50]\tvalidation_0-ndcg@5:0.32643\n",
      "[51]\tvalidation_0-ndcg@5:0.32690\n",
      "[52]\tvalidation_0-ndcg@5:0.32738\n",
      "[53]\tvalidation_0-ndcg@5:0.32784\n",
      "[54]\tvalidation_0-ndcg@5:0.32832\n",
      "[55]\tvalidation_0-ndcg@5:0.32875\n",
      "[56]\tvalidation_0-ndcg@5:0.32914\n",
      "[57]\tvalidation_0-ndcg@5:0.32946\n",
      "[58]\tvalidation_0-ndcg@5:0.32980\n",
      "[59]\tvalidation_0-ndcg@5:0.33030\n",
      "[60]\tvalidation_0-ndcg@5:0.33080\n",
      "[61]\tvalidation_0-ndcg@5:0.33116\n",
      "[62]\tvalidation_0-ndcg@5:0.33153\n",
      "[63]\tvalidation_0-ndcg@5:0.33194\n",
      "[64]\tvalidation_0-ndcg@5:0.33251\n",
      "[65]\tvalidation_0-ndcg@5:0.33286\n",
      "[66]\tvalidation_0-ndcg@5:0.33320\n",
      "[67]\tvalidation_0-ndcg@5:0.33345\n",
      "[68]\tvalidation_0-ndcg@5:0.33387\n",
      "[69]\tvalidation_0-ndcg@5:0.33404\n",
      "[70]\tvalidation_0-ndcg@5:0.33439\n",
      "[71]\tvalidation_0-ndcg@5:0.33471\n",
      "[72]\tvalidation_0-ndcg@5:0.33492\n",
      "[73]\tvalidation_0-ndcg@5:0.33514\n",
      "[74]\tvalidation_0-ndcg@5:0.33543\n",
      "[75]\tvalidation_0-ndcg@5:0.33564\n",
      "[76]\tvalidation_0-ndcg@5:0.33583\n",
      "[77]\tvalidation_0-ndcg@5:0.33613\n",
      "[78]\tvalidation_0-ndcg@5:0.33636\n",
      "[79]\tvalidation_0-ndcg@5:0.33658\n",
      "[80]\tvalidation_0-ndcg@5:0.33690\n",
      "[81]\tvalidation_0-ndcg@5:0.33703\n",
      "[82]\tvalidation_0-ndcg@5:0.33728\n",
      "[83]\tvalidation_0-ndcg@5:0.33754\n",
      "[84]\tvalidation_0-ndcg@5:0.33769\n",
      "[85]\tvalidation_0-ndcg@5:0.33782\n",
      "[86]\tvalidation_0-ndcg@5:0.33795\n",
      "[87]\tvalidation_0-ndcg@5:0.33826\n",
      "[88]\tvalidation_0-ndcg@5:0.33843\n",
      "[89]\tvalidation_0-ndcg@5:0.33870\n",
      "[90]\tvalidation_0-ndcg@5:0.33880\n",
      "[91]\tvalidation_0-ndcg@5:0.33902\n",
      "[92]\tvalidation_0-ndcg@5:0.33911\n",
      "[93]\tvalidation_0-ndcg@5:0.33941\n",
      "[94]\tvalidation_0-ndcg@5:0.33963\n",
      "[95]\tvalidation_0-ndcg@5:0.33971\n",
      "[96]\tvalidation_0-ndcg@5:0.33983\n",
      "[97]\tvalidation_0-ndcg@5:0.34003\n",
      "[98]\tvalidation_0-ndcg@5:0.34025\n",
      "[99]\tvalidation_0-ndcg@5:0.34044\n"
     ]
    },
    {
     "data": {
      "text/html": [
       "<style>#sk-container-id-1 {color: black;background-color: white;}#sk-container-id-1 pre{padding: 0;}#sk-container-id-1 div.sk-toggleable {background-color: white;}#sk-container-id-1 label.sk-toggleable__label {cursor: pointer;display: block;width: 100%;margin-bottom: 0;padding: 0.3em;box-sizing: border-box;text-align: center;}#sk-container-id-1 label.sk-toggleable__label-arrow:before {content: \"▸\";float: left;margin-right: 0.25em;color: #696969;}#sk-container-id-1 label.sk-toggleable__label-arrow:hover:before {color: black;}#sk-container-id-1 div.sk-estimator:hover label.sk-toggleable__label-arrow:before {color: black;}#sk-container-id-1 div.sk-toggleable__content {max-height: 0;max-width: 0;overflow: hidden;text-align: left;background-color: #f0f8ff;}#sk-container-id-1 div.sk-toggleable__content pre {margin: 0.2em;color: black;border-radius: 0.25em;background-color: #f0f8ff;}#sk-container-id-1 input.sk-toggleable__control:checked~div.sk-toggleable__content {max-height: 200px;max-width: 100%;overflow: auto;}#sk-container-id-1 input.sk-toggleable__control:checked~label.sk-toggleable__label-arrow:before {content: \"▾\";}#sk-container-id-1 div.sk-estimator input.sk-toggleable__control:checked~label.sk-toggleable__label {background-color: #d4ebff;}#sk-container-id-1 div.sk-label input.sk-toggleable__control:checked~label.sk-toggleable__label {background-color: #d4ebff;}#sk-container-id-1 input.sk-hidden--visually {border: 0;clip: rect(1px 1px 1px 1px);clip: rect(1px, 1px, 1px, 1px);height: 1px;margin: -1px;overflow: hidden;padding: 0;position: absolute;width: 1px;}#sk-container-id-1 div.sk-estimator {font-family: monospace;background-color: #f0f8ff;border: 1px dotted black;border-radius: 0.25em;box-sizing: border-box;margin-bottom: 0.5em;}#sk-container-id-1 div.sk-estimator:hover {background-color: #d4ebff;}#sk-container-id-1 div.sk-parallel-item::after {content: \"\";width: 100%;border-bottom: 1px solid gray;flex-grow: 1;}#sk-container-id-1 div.sk-label:hover label.sk-toggleable__label {background-color: #d4ebff;}#sk-container-id-1 div.sk-serial::before {content: \"\";position: absolute;border-left: 1px solid gray;box-sizing: border-box;top: 0;bottom: 0;left: 50%;z-index: 0;}#sk-container-id-1 div.sk-serial {display: flex;flex-direction: column;align-items: center;background-color: white;padding-right: 0.2em;padding-left: 0.2em;position: relative;}#sk-container-id-1 div.sk-item {position: relative;z-index: 1;}#sk-container-id-1 div.sk-parallel {display: flex;align-items: stretch;justify-content: center;background-color: white;position: relative;}#sk-container-id-1 div.sk-item::before, #sk-container-id-1 div.sk-parallel-item::before {content: \"\";position: absolute;border-left: 1px solid gray;box-sizing: border-box;top: 0;bottom: 0;left: 50%;z-index: -1;}#sk-container-id-1 div.sk-parallel-item {display: flex;flex-direction: column;z-index: 1;position: relative;background-color: white;}#sk-container-id-1 div.sk-parallel-item:first-child::after {align-self: flex-end;width: 50%;}#sk-container-id-1 div.sk-parallel-item:last-child::after {align-self: flex-start;width: 50%;}#sk-container-id-1 div.sk-parallel-item:only-child::after {width: 0;}#sk-container-id-1 div.sk-dashed-wrapped {border: 1px dashed gray;margin: 0 0.4em 0.5em 0.4em;box-sizing: border-box;padding-bottom: 0.4em;background-color: white;}#sk-container-id-1 div.sk-label label {font-family: monospace;font-weight: bold;display: inline-block;line-height: 1.2em;}#sk-container-id-1 div.sk-label-container {text-align: center;}#sk-container-id-1 div.sk-container {/* jupyter's `normalize.less` sets `[hidden] { display: none; }` but bootstrap.min.css set `[hidden] { display: none !important; }` so we also need the `!important` here to be able to override the default hidden behavior on the sphinx rendered scikit-learn.org. See: https://github.com/scikit-learn/scikit-learn/issues/21755 */display: inline-block !important;position: relative;}#sk-container-id-1 div.sk-text-repr-fallback {display: none;}</style><div id=\"sk-container-id-1\" class=\"sk-top-container\"><div class=\"sk-text-repr-fallback\"><pre>XGBRanker(base_score=None, booster=None, callbacks=None, colsample_bylevel=None,\n",
       "          colsample_bynode=None, colsample_bytree=None,\n",
       "          early_stopping_rounds=None, enable_categorical=False,\n",
       "          eval_metric=None, feature_types=None, gamma=None, gpu_id=None,\n",
       "          grow_policy=None, importance_type=None, interaction_constraints=None,\n",
       "          learning_rate=0.1, max_bin=None, max_cat_threshold=None,\n",
       "          max_cat_to_onehot=None, max_delta_step=None, max_depth=None,\n",
       "          max_leaves=None, min_child_weight=None, missing=nan,\n",
       "          monotone_constraints=None, n_estimators=100, n_jobs=None,\n",
       "          num_parallel_tree=None, objective=&#x27;rank:ndcg&#x27;, predictor=None, ...)</pre><b>In a Jupyter environment, please rerun this cell to show the HTML representation or trust the notebook. <br />On GitHub, the HTML representation is unable to render, please try loading this page with nbviewer.org.</b></div><div class=\"sk-container\" hidden><div class=\"sk-item\"><div class=\"sk-estimator sk-toggleable\"><input class=\"sk-toggleable__control sk-hidden--visually\" id=\"sk-estimator-id-1\" type=\"checkbox\" checked><label for=\"sk-estimator-id-1\" class=\"sk-toggleable__label sk-toggleable__label-arrow\">XGBRanker</label><div class=\"sk-toggleable__content\"><pre>XGBRanker(base_score=None, booster=None, callbacks=None, colsample_bylevel=None,\n",
       "          colsample_bynode=None, colsample_bytree=None,\n",
       "          early_stopping_rounds=None, enable_categorical=False,\n",
       "          eval_metric=None, feature_types=None, gamma=None, gpu_id=None,\n",
       "          grow_policy=None, importance_type=None, interaction_constraints=None,\n",
       "          learning_rate=0.1, max_bin=None, max_cat_threshold=None,\n",
       "          max_cat_to_onehot=None, max_delta_step=None, max_depth=None,\n",
       "          max_leaves=None, min_child_weight=None, missing=nan,\n",
       "          monotone_constraints=None, n_estimators=100, n_jobs=None,\n",
       "          num_parallel_tree=None, objective=&#x27;rank:ndcg&#x27;, predictor=None, ...)</pre></div></div></div></div></div>"
      ],
      "text/plain": [
       "XGBRanker(base_score=None, booster=None, callbacks=None, colsample_bylevel=None,\n",
       "          colsample_bynode=None, colsample_bytree=None,\n",
       "          early_stopping_rounds=None, enable_categorical=False,\n",
       "          eval_metric=None, feature_types=None, gamma=None, gpu_id=None,\n",
       "          grow_policy=None, importance_type=None, interaction_constraints=None,\n",
       "          learning_rate=0.1, max_bin=None, max_cat_threshold=None,\n",
       "          max_cat_to_onehot=None, max_delta_step=None, max_depth=None,\n",
       "          max_leaves=None, min_child_weight=None, missing=nan,\n",
       "          monotone_constraints=None, n_estimators=100, n_jobs=None,\n",
       "          num_parallel_tree=None, objective='rank:ndcg', predictor=None, ...)"
      ]
     },
     "execution_count": 8,
     "metadata": {},
     "output_type": "execute_result"
    }
   ],
   "source": [
    "model = XGBRanker(\n",
    "                  objective='rank:ndcg', \n",
    "                  n_estimators=100, \n",
    "                  random_state=0,\n",
    "                  learning_rate=0.1)\n",
    "\n",
    "\n",
    "model.fit(\n",
    "    X,\n",
    "    y,\n",
    "    group=train_groups,\n",
    "    eval_metric='ndcg@5',\n",
    "    eval_set=[(X, y)],\n",
    "    eval_group=[list(train_groups)],\n",
    "    verbose=True\n",
    ")"
   ]
  },
  {
   "cell_type": "code",
   "execution_count": 9,
   "metadata": {},
   "outputs": [
    {
     "data": {
      "text/plain": [
       "<Axes: >"
      ]
     },
     "execution_count": 9,
     "metadata": {},
     "output_type": "execute_result"
    },
    {
     "data": {
      "image/png": "[encoded data removed]",
      "text/plain": [
       "<Figure size 640x480 with 1 Axes>"
      ]
     },
     "metadata": {},
     "output_type": "display_data"
    }
   ],
   "source": [
    "feat_importances = pd.Series(model.feature_importances_, index=X.columns)\n",
    "feat_importances.nlargest(10).plot(kind='barh')"
   ]
  },
  {
   "cell_type": "code",
   "execution_count": 10,
   "metadata": {},
   "outputs": [],
   "source": [
    "test_df = pd.read_csv('test_preprocessed.csv')"
   ]
  },
  {
   "cell_type": "code",
   "execution_count": 11,
   "metadata": {},
   "outputs": [
    {
     "name": "stdout",
     "output_type": "stream",
     "text": [
      "4959183\n"
     ]
    }
   ],
   "source": [
    "print(len(test_df))"
   ]
  },
  {
   "cell_type": "code",
   "execution_count": 13,
   "metadata": {},
   "outputs": [],
   "source": [
    "def sort_properties(srch_id, scores, prop_ids):\n",
    "    sorted_group = pd.DataFrame(columns=['srch_id', 'prop_id', 'scores'])\n",
    "    sorted_group['srch_id'] = len(scores)*[srch_id]\n",
    "    sorted_group['prop_id'] = prop_ids.values\n",
    "    sorted_group['scores'] = scores\n",
    "    sorted_group = sorted_group.sort_values(by='scores', ascending=False)\n",
    "    return sorted_group \n",
    "\n",
    "def recommend_properties(model, data):\n",
    "    result = pd.DataFrame(columns=['srch_id', 'prop_id', 'scores'])\n",
    "    df_list = []\n",
    "    grouped_data = data.groupby('srch_id')\n",
    "    for group_name, group in tqdm(grouped_data):\n",
    "        scores = model.predict(group.loc[:, ~group.columns.isin(['srch_id','prop_id'])])\n",
    "        sorted_group = sort_properties(group_name, scores, group['prop_id'])\n",
    "        df_list.append(sorted_group)\n",
    "    result = pd.concat(df_list)\n",
    "    return result"
   ]
  },
  {
   "cell_type": "code",
   "execution_count": 14,
   "metadata": {},
   "outputs": [
    {
     "data": {
      "text/plain": [
       "Index(['site_id', 'visitor_location_country_id', 'prop_country_id',\n",
       "       'prop_starrating', 'prop_review_score', 'prop_brand_bool',\n",
       "       'prop_location_score1', 'prop_location_score2',\n",
       "       'prop_log_historical_price', 'price_usd', 'promotion_flag',\n",
       "       'srch_destination_id', 'srch_length_of_stay', 'srch_booking_window',\n",
       "       'srch_adults_count', 'srch_children_count', 'srch_room_count',\n",
       "       'srch_saturday_night_bool', 'orig_destination_distance', 'month',\n",
       "       'prop_starrating_location_interaction', 'price_historical_interaction',\n",
       "       'total_time_duration', 'highly_rated_prop', 'total_people'],\n",
       "      dtype='object')"
      ]
     },
     "execution_count": 14,
     "metadata": {},
     "output_type": "execute_result"
    }
   ],
   "source": [
    "X.columns"
   ]
  },
  {
   "cell_type": "code",
   "execution_count": 15,
   "metadata": {
    "scrolled": true
   },
   "outputs": [
    {
     "data": {
      "text/plain": [
       "Index(['srch_id', 'site_id', 'visitor_location_country_id', 'prop_country_id',\n",
       "       'prop_id', 'prop_starrating', 'prop_review_score', 'prop_brand_bool',\n",
       "       'prop_location_score1', 'prop_location_score2',\n",
       "       'prop_log_historical_price', 'price_usd', 'promotion_flag',\n",
       "       'srch_destination_id', 'srch_length_of_stay', 'srch_booking_window',\n",
       "       'srch_adults_count', 'srch_children_count', 'srch_room_count',\n",
       "       'srch_saturday_night_bool', 'orig_destination_distance', 'month',\n",
       "       'prop_starrating_location_interaction', 'price_historical_interaction',\n",
       "       'total_time_duration', 'highly_rated_prop', 'total_people'],\n",
       "      dtype='object')"
      ]
     },
     "execution_count": 15,
     "metadata": {},
     "output_type": "execute_result"
    }
   ],
   "source": [
    "test_df.columns"
   ]
  },
  {
   "cell_type": "code",
   "execution_count": 17,
   "metadata": {},
   "outputs": [
    {
     "name": "stderr",
     "output_type": "stream",
     "text": [
      " 33%|███▎      | 66362/199549 [04:15<08:32, 260.02it/s]\n"
     ]
    },
    {
     "ename": "KeyboardInterrupt",
     "evalue": "",
     "output_type": "error",
     "traceback": [
      "\u001b[0;31m---------------------------------------------------------------------------\u001b[0m",
      "\u001b[0;31mKeyboardInterrupt\u001b[0m                         Traceback (most recent call last)",
      "\u001b[1;32m/home/shreyas/masters_vu/DMT/assignment/dmt-assignment-2/notebook_Shreyas_4.ipynb Cell 16\u001b[0m in \u001b[0;36m2\n\u001b[1;32m      <a href='vscode-notebook-cell:/home/shreyas/masters_vu/DMT/assignment/dmt-assignment-2/notebook_Shreyas_4.ipynb#X22sZmlsZQ%3D%3D?line=0'>1</a>\u001b[0m start \u001b[39m=\u001b[39m time\u001b[39m.\u001b[39mtime()\n\u001b[0;32m----> <a href='vscode-notebook-cell:/home/shreyas/masters_vu/DMT/assignment/dmt-assignment-2/notebook_Shreyas_4.ipynb#X22sZmlsZQ%3D%3D?line=1'>2</a>\u001b[0m recommendations \u001b[39m=\u001b[39m recommend_properties(model, test_df)\n\u001b[1;32m      <a href='vscode-notebook-cell:/home/shreyas/masters_vu/DMT/assignment/dmt-assignment-2/notebook_Shreyas_4.ipynb#X22sZmlsZQ%3D%3D?line=2'>3</a>\u001b[0m end \u001b[39m=\u001b[39m time\u001b[39m.\u001b[39mtime()\n\u001b[1;32m      <a href='vscode-notebook-cell:/home/shreyas/masters_vu/DMT/assignment/dmt-assignment-2/notebook_Shreyas_4.ipynb#X22sZmlsZQ%3D%3D?line=3'>4</a>\u001b[0m \u001b[39mprint\u001b[39m(\u001b[39mf\u001b[39m\u001b[39m'\u001b[39m\u001b[39mTotal Time for validation prediction:\u001b[39m\u001b[39m{\u001b[39;00mend \u001b[39m-\u001b[39m start\u001b[39m}\u001b[39;00m\u001b[39m'\u001b[39m)\n",
      "\u001b[1;32m/home/shreyas/masters_vu/DMT/assignment/dmt-assignment-2/notebook_Shreyas_4.ipynb Cell 16\u001b[0m in \u001b[0;36m1\n\u001b[1;32m     <a href='vscode-notebook-cell:/home/shreyas/masters_vu/DMT/assignment/dmt-assignment-2/notebook_Shreyas_4.ipynb#X22sZmlsZQ%3D%3D?line=12'>13</a>\u001b[0m \u001b[39mfor\u001b[39;00m group_name, group \u001b[39min\u001b[39;00m tqdm(grouped_data):\n\u001b[1;32m     <a href='vscode-notebook-cell:/home/shreyas/masters_vu/DMT/assignment/dmt-assignment-2/notebook_Shreyas_4.ipynb#X22sZmlsZQ%3D%3D?line=13'>14</a>\u001b[0m     scores \u001b[39m=\u001b[39m model\u001b[39m.\u001b[39mpredict(group\u001b[39m.\u001b[39mloc[:, \u001b[39m~\u001b[39mgroup\u001b[39m.\u001b[39mcolumns\u001b[39m.\u001b[39misin([\u001b[39m'\u001b[39m\u001b[39msrch_id\u001b[39m\u001b[39m'\u001b[39m,\u001b[39m'\u001b[39m\u001b[39mprop_id\u001b[39m\u001b[39m'\u001b[39m])])\n\u001b[0;32m---> <a href='vscode-notebook-cell:/home/shreyas/masters_vu/DMT/assignment/dmt-assignment-2/notebook_Shreyas_4.ipynb#X22sZmlsZQ%3D%3D?line=14'>15</a>\u001b[0m     sorted_group \u001b[39m=\u001b[39m sort_properties(group_name, scores, group[\u001b[39m'\u001b[39;49m\u001b[39mprop_id\u001b[39;49m\u001b[39m'\u001b[39;49m])\n\u001b[1;32m     <a href='vscode-notebook-cell:/home/shreyas/masters_vu/DMT/assignment/dmt-assignment-2/notebook_Shreyas_4.ipynb#X22sZmlsZQ%3D%3D?line=15'>16</a>\u001b[0m     df_list\u001b[39m.\u001b[39mappend(sorted_group)\n\u001b[1;32m     <a href='vscode-notebook-cell:/home/shreyas/masters_vu/DMT/assignment/dmt-assignment-2/notebook_Shreyas_4.ipynb#X22sZmlsZQ%3D%3D?line=16'>17</a>\u001b[0m result \u001b[39m=\u001b[39m pd\u001b[39m.\u001b[39mconcat(df_list)\n",
      "\u001b[1;32m/home/shreyas/masters_vu/DMT/assignment/dmt-assignment-2/notebook_Shreyas_4.ipynb Cell 16\u001b[0m in \u001b[0;36m2\n\u001b[1;32m      <a href='vscode-notebook-cell:/home/shreyas/masters_vu/DMT/assignment/dmt-assignment-2/notebook_Shreyas_4.ipynb#X22sZmlsZQ%3D%3D?line=0'>1</a>\u001b[0m \u001b[39mdef\u001b[39;00m \u001b[39msort_properties\u001b[39m(srch_id, scores, prop_ids):\n\u001b[0;32m----> <a href='vscode-notebook-cell:/home/shreyas/masters_vu/DMT/assignment/dmt-assignment-2/notebook_Shreyas_4.ipynb#X22sZmlsZQ%3D%3D?line=1'>2</a>\u001b[0m     sorted_group \u001b[39m=\u001b[39m pd\u001b[39m.\u001b[39;49mDataFrame(columns\u001b[39m=\u001b[39;49m[\u001b[39m'\u001b[39;49m\u001b[39msrch_id\u001b[39;49m\u001b[39m'\u001b[39;49m, \u001b[39m'\u001b[39;49m\u001b[39mprop_id\u001b[39;49m\u001b[39m'\u001b[39;49m, \u001b[39m'\u001b[39;49m\u001b[39mscores\u001b[39;49m\u001b[39m'\u001b[39;49m])\n\u001b[1;32m      <a href='vscode-notebook-cell:/home/shreyas/masters_vu/DMT/assignment/dmt-assignment-2/notebook_Shreyas_4.ipynb#X22sZmlsZQ%3D%3D?line=2'>3</a>\u001b[0m     sorted_group[\u001b[39m'\u001b[39m\u001b[39msrch_id\u001b[39m\u001b[39m'\u001b[39m] \u001b[39m=\u001b[39m \u001b[39mlen\u001b[39m(scores)\u001b[39m*\u001b[39m[srch_id]\n\u001b[1;32m      <a href='vscode-notebook-cell:/home/shreyas/masters_vu/DMT/assignment/dmt-assignment-2/notebook_Shreyas_4.ipynb#X22sZmlsZQ%3D%3D?line=3'>4</a>\u001b[0m     sorted_group[\u001b[39m'\u001b[39m\u001b[39mprop_id\u001b[39m\u001b[39m'\u001b[39m] \u001b[39m=\u001b[39m prop_ids\u001b[39m.\u001b[39mvalues\n",
      "File \u001b[0;32m~/.local/lib/python3.8/site-packages/pandas/core/frame.py:636\u001b[0m, in \u001b[0;36mDataFrame.__init__\u001b[0;34m(self, data, index, columns, dtype, copy)\u001b[0m\n\u001b[1;32m    630\u001b[0m     mgr \u001b[39m=\u001b[39m \u001b[39mself\u001b[39m\u001b[39m.\u001b[39m_init_mgr(\n\u001b[1;32m    631\u001b[0m         data, axes\u001b[39m=\u001b[39m{\u001b[39m\"\u001b[39m\u001b[39mindex\u001b[39m\u001b[39m\"\u001b[39m: index, \u001b[39m\"\u001b[39m\u001b[39mcolumns\u001b[39m\u001b[39m\"\u001b[39m: columns}, dtype\u001b[39m=\u001b[39mdtype, copy\u001b[39m=\u001b[39mcopy\n\u001b[1;32m    632\u001b[0m     )\n\u001b[1;32m    634\u001b[0m \u001b[39melif\u001b[39;00m \u001b[39misinstance\u001b[39m(data, \u001b[39mdict\u001b[39m):\n\u001b[1;32m    635\u001b[0m     \u001b[39m# GH#38939 de facto copy defaults to False only in non-dict cases\u001b[39;00m\n\u001b[0;32m--> 636\u001b[0m     mgr \u001b[39m=\u001b[39m dict_to_mgr(data, index, columns, dtype\u001b[39m=\u001b[39;49mdtype, copy\u001b[39m=\u001b[39;49mcopy, typ\u001b[39m=\u001b[39;49mmanager)\n\u001b[1;32m    637\u001b[0m \u001b[39melif\u001b[39;00m \u001b[39misinstance\u001b[39m(data, ma\u001b[39m.\u001b[39mMaskedArray):\n\u001b[1;32m    638\u001b[0m     \u001b[39mimport\u001b[39;00m \u001b[39mnumpy\u001b[39;00m\u001b[39m.\u001b[39;00m\u001b[39mma\u001b[39;00m\u001b[39m.\u001b[39;00m\u001b[39mmrecords\u001b[39;00m \u001b[39mas\u001b[39;00m \u001b[39mmrecords\u001b[39;00m\n",
      "File \u001b[0;32m~/.local/lib/python3.8/site-packages/pandas/core/internals/construction.py:445\u001b[0m, in \u001b[0;36mdict_to_mgr\u001b[0;34m(data, index, columns, dtype, typ, copy)\u001b[0m\n\u001b[1;32m    442\u001b[0m \u001b[39mif\u001b[39;00m columns \u001b[39mis\u001b[39;00m \u001b[39mnot\u001b[39;00m \u001b[39mNone\u001b[39;00m:\n\u001b[1;32m    443\u001b[0m     \u001b[39mfrom\u001b[39;00m \u001b[39mpandas\u001b[39;00m\u001b[39m.\u001b[39;00m\u001b[39mcore\u001b[39;00m\u001b[39m.\u001b[39;00m\u001b[39mseries\u001b[39;00m \u001b[39mimport\u001b[39;00m Series\n\u001b[0;32m--> 445\u001b[0m     arrays \u001b[39m=\u001b[39m Series(data, index\u001b[39m=\u001b[39;49mcolumns, dtype\u001b[39m=\u001b[39;49m\u001b[39mobject\u001b[39;49m)\n\u001b[1;32m    446\u001b[0m     missing \u001b[39m=\u001b[39m arrays\u001b[39m.\u001b[39misna()\n\u001b[1;32m    447\u001b[0m     \u001b[39mif\u001b[39;00m index \u001b[39mis\u001b[39;00m \u001b[39mNone\u001b[39;00m:\n\u001b[1;32m    448\u001b[0m         \u001b[39m# GH10856\u001b[39;00m\n\u001b[1;32m    449\u001b[0m         \u001b[39m# raise ValueError if only scalars in dict\u001b[39;00m\n",
      "File \u001b[0;32m~/.local/lib/python3.8/site-packages/pandas/core/series.py:380\u001b[0m, in \u001b[0;36mSeries.__init__\u001b[0;34m(self, data, index, dtype, name, copy, fastpath)\u001b[0m\n\u001b[1;32m    376\u001b[0m     \u001b[39m# uncomment the line below when removing the FutureWarning\u001b[39;00m\n\u001b[1;32m    377\u001b[0m     \u001b[39m# dtype = np.dtype(object)\u001b[39;00m\n\u001b[1;32m    379\u001b[0m \u001b[39mif\u001b[39;00m index \u001b[39mis\u001b[39;00m \u001b[39mnot\u001b[39;00m \u001b[39mNone\u001b[39;00m:\n\u001b[0;32m--> 380\u001b[0m     index \u001b[39m=\u001b[39m ensure_index(index)\n\u001b[1;32m    382\u001b[0m \u001b[39mif\u001b[39;00m data \u001b[39mis\u001b[39;00m \u001b[39mNone\u001b[39;00m:\n\u001b[1;32m    383\u001b[0m     data \u001b[39m=\u001b[39m {}\n",
      "File \u001b[0;32m~/.local/lib/python3.8/site-packages/pandas/core/indexes/base.py:7058\u001b[0m, in \u001b[0;36mensure_index\u001b[0;34m(index_like, copy)\u001b[0m\n\u001b[1;32m   7056\u001b[0m         \u001b[39mreturn\u001b[39;00m MultiIndex\u001b[39m.\u001b[39mfrom_arrays(index_like)\n\u001b[1;32m   7057\u001b[0m     \u001b[39melse\u001b[39;00m:\n\u001b[0;32m-> 7058\u001b[0m         \u001b[39mreturn\u001b[39;00m Index\u001b[39m.\u001b[39;49m_with_infer(index_like, copy\u001b[39m=\u001b[39;49mcopy, tupleize_cols\u001b[39m=\u001b[39;49m\u001b[39mFalse\u001b[39;49;00m)\n\u001b[1;32m   7059\u001b[0m \u001b[39melse\u001b[39;00m:\n\u001b[1;32m   7060\u001b[0m     \u001b[39mreturn\u001b[39;00m Index\u001b[39m.\u001b[39m_with_infer(index_like, copy\u001b[39m=\u001b[39mcopy)\n",
      "File \u001b[0;32m~/.local/lib/python3.8/site-packages/pandas/core/indexes/base.py:680\u001b[0m, in \u001b[0;36mIndex._with_infer\u001b[0;34m(cls, *args, **kwargs)\u001b[0m\n\u001b[1;32m    678\u001b[0m \u001b[39mwith\u001b[39;00m warnings\u001b[39m.\u001b[39mcatch_warnings():\n\u001b[1;32m    679\u001b[0m     warnings\u001b[39m.\u001b[39mfilterwarnings(\u001b[39m\"\u001b[39m\u001b[39mignore\u001b[39m\u001b[39m\"\u001b[39m, \u001b[39m\"\u001b[39m\u001b[39m.*the Index constructor\u001b[39m\u001b[39m\"\u001b[39m, \u001b[39mFutureWarning\u001b[39;00m)\n\u001b[0;32m--> 680\u001b[0m     result \u001b[39m=\u001b[39m \u001b[39mcls\u001b[39;49m(\u001b[39m*\u001b[39;49margs, \u001b[39m*\u001b[39;49m\u001b[39m*\u001b[39;49mkwargs)\n\u001b[1;32m    682\u001b[0m \u001b[39mif\u001b[39;00m result\u001b[39m.\u001b[39mdtype \u001b[39m==\u001b[39m _dtype_obj \u001b[39mand\u001b[39;00m \u001b[39mnot\u001b[39;00m result\u001b[39m.\u001b[39m_is_multi:\n\u001b[1;32m    683\u001b[0m     \u001b[39m# error: Argument 1 to \"maybe_convert_objects\" has incompatible type\u001b[39;00m\n\u001b[1;32m    684\u001b[0m     \u001b[39m# \"Union[ExtensionArray, ndarray[Any, Any]]\"; expected\u001b[39;00m\n\u001b[1;32m    685\u001b[0m     \u001b[39m# \"ndarray[Any, Any]\"\u001b[39;00m\n\u001b[1;32m    686\u001b[0m     values \u001b[39m=\u001b[39m lib\u001b[39m.\u001b[39mmaybe_convert_objects(result\u001b[39m.\u001b[39m_values)  \u001b[39m# type: ignore[arg-type]\u001b[39;00m\n",
      "File \u001b[0;32m~/.local/lib/python3.8/site-packages/pandas/core/indexes/base.py:534\u001b[0m, in \u001b[0;36mIndex.__new__\u001b[0;34m(cls, data, dtype, copy, name, tupleize_cols, **kwargs)\u001b[0m\n\u001b[1;32m    528\u001b[0m subarr \u001b[39m=\u001b[39m com\u001b[39m.\u001b[39masarray_tuplesafe(data, dtype\u001b[39m=\u001b[39m_dtype_obj)\n\u001b[1;32m    529\u001b[0m \u001b[39mif\u001b[39;00m dtype \u001b[39mis\u001b[39;00m \u001b[39mNone\u001b[39;00m:\n\u001b[1;32m    530\u001b[0m     \u001b[39m# with e.g. a list [1, 2, 3] casting to numeric is _not_ deprecated\u001b[39;00m\n\u001b[1;32m    531\u001b[0m     \u001b[39m# error: Incompatible types in assignment (expression has type\u001b[39;00m\n\u001b[1;32m    532\u001b[0m     \u001b[39m# \"Union[ExtensionArray, ndarray[Any, Any]]\", variable has type\u001b[39;00m\n\u001b[1;32m    533\u001b[0m     \u001b[39m# \"ndarray[Any, Any]\")\u001b[39;00m\n\u001b[0;32m--> 534\u001b[0m     subarr \u001b[39m=\u001b[39m _maybe_cast_data_without_dtype(  \u001b[39m# type: ignore[assignment]\u001b[39;49;00m\n\u001b[1;32m    535\u001b[0m         subarr, cast_numeric_deprecated\u001b[39m=\u001b[39;49m\u001b[39mFalse\u001b[39;49;00m\n\u001b[1;32m    536\u001b[0m     )\n\u001b[1;32m    537\u001b[0m     dtype \u001b[39m=\u001b[39m subarr\u001b[39m.\u001b[39mdtype\n\u001b[1;32m    538\u001b[0m \u001b[39mreturn\u001b[39;00m Index(subarr, dtype\u001b[39m=\u001b[39mdtype, copy\u001b[39m=\u001b[39mcopy, name\u001b[39m=\u001b[39mname, \u001b[39m*\u001b[39m\u001b[39m*\u001b[39mkwargs)\n",
      "File \u001b[0;32m~/.local/lib/python3.8/site-packages/pandas/core/indexes/base.py:7147\u001b[0m, in \u001b[0;36m_maybe_cast_data_without_dtype\u001b[0;34m(subarr, cast_numeric_deprecated)\u001b[0m\n\u001b[1;32m   7123\u001b[0m \u001b[39mdef\u001b[39;00m \u001b[39m_maybe_cast_data_without_dtype\u001b[39m(\n\u001b[1;32m   7124\u001b[0m     subarr: np\u001b[39m.\u001b[39mndarray, cast_numeric_deprecated: \u001b[39mbool\u001b[39m \u001b[39m=\u001b[39m \u001b[39mTrue\u001b[39;00m\n\u001b[1;32m   7125\u001b[0m ) \u001b[39m-\u001b[39m\u001b[39m>\u001b[39m ArrayLike:\n\u001b[1;32m   7126\u001b[0m     \u001b[39m\"\"\"\u001b[39;00m\n\u001b[1;32m   7127\u001b[0m \u001b[39m    If we have an arraylike input but no passed dtype, try to infer\u001b[39;00m\n\u001b[1;32m   7128\u001b[0m \u001b[39m    a supported dtype.\u001b[39;00m\n\u001b[0;32m   (...)\u001b[0m\n\u001b[1;32m   7138\u001b[0m \u001b[39m    np.ndarray or ExtensionArray\u001b[39;00m\n\u001b[1;32m   7139\u001b[0m \u001b[39m    \"\"\"\u001b[39;00m\n\u001b[1;32m   7141\u001b[0m     result \u001b[39m=\u001b[39m lib\u001b[39m.\u001b[39mmaybe_convert_objects(\n\u001b[1;32m   7142\u001b[0m         subarr,\n\u001b[1;32m   7143\u001b[0m         convert_datetime\u001b[39m=\u001b[39m\u001b[39mTrue\u001b[39;00m,\n\u001b[1;32m   7144\u001b[0m         convert_timedelta\u001b[39m=\u001b[39m\u001b[39mTrue\u001b[39;00m,\n\u001b[1;32m   7145\u001b[0m         convert_period\u001b[39m=\u001b[39m\u001b[39mTrue\u001b[39;00m,\n\u001b[1;32m   7146\u001b[0m         convert_interval\u001b[39m=\u001b[39m\u001b[39mTrue\u001b[39;00m,\n\u001b[0;32m-> 7147\u001b[0m         dtype_if_all_nat\u001b[39m=\u001b[39mnp\u001b[39m.\u001b[39;49mdtype(\u001b[39m\"\u001b[39;49m\u001b[39mdatetime64[ns]\u001b[39;49m\u001b[39m\"\u001b[39;49m),\n\u001b[1;32m   7148\u001b[0m     )\n\u001b[1;32m   7149\u001b[0m     \u001b[39mif\u001b[39;00m result\u001b[39m.\u001b[39mdtype\u001b[39m.\u001b[39mkind \u001b[39min\u001b[39;00m [\u001b[39m\"\u001b[39m\u001b[39mi\u001b[39m\u001b[39m\"\u001b[39m, \u001b[39m\"\u001b[39m\u001b[39mu\u001b[39m\u001b[39m\"\u001b[39m, \u001b[39m\"\u001b[39m\u001b[39mf\u001b[39m\u001b[39m\"\u001b[39m]:\n\u001b[1;32m   7150\u001b[0m         \u001b[39mif\u001b[39;00m \u001b[39mnot\u001b[39;00m cast_numeric_deprecated:\n\u001b[1;32m   7151\u001b[0m             \u001b[39m# i.e. we started with a list, not an ndarray[object]\u001b[39;00m\n",
      "\u001b[0;31mKeyboardInterrupt\u001b[0m: "
     ]
    }
   ],
   "source": [
    "start = time.time()\n",
    "recommendations = recommend_properties(model, test_df)\n",
    "end = time.time()\n",
    "print(f'Total Time for validation prediction:{end - start}')\n",
    "submission = recommendations.drop(columns=['scores'])\n",
    "submission.to_csv(f'xgbranker_predictions.csv', index=False)"
   ]
  },
  {
   "cell_type": "code",
   "execution_count": null,
   "metadata": {},
   "outputs": [],
   "source": []
  }
 ],
 "metadata": {
  "kernelspec": {
   "display_name": "Python 3",
   "language": "python",
   "name": "python3"
  },
  "language_info": {
   "codemirror_mode": {
    "name": "ipython",
    "version": 3
   },
   "file_extension": ".py",
   "mimetype": "text/x-python",
   "name": "python",
   "nbconvert_exporter": "python",
   "pygments_lexer": "ipython3",
   "version": "3.8.10"
  }
 },
 "nbformat": 4,
 "nbformat_minor": 2
}
