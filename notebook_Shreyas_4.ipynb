{
 "cells": [
  {
   "cell_type": "code",
   "execution_count": 31,
   "metadata": {},
   "outputs": [],
   "source": [
    "import pandas as pd\n",
    "import seaborn as sns\n",
    "import matplotlib.pyplot as plt\n",
    "\n",
    "\n",
    "from sklearn.model_selection import train_test_split\n",
    "from tqdm import tqdm\n",
    "\n",
    "from sklearn.preprocessing import MinMaxScaler\n",
    "\n",
    "import time\n"
   ]
  },
  {
   "cell_type": "code",
   "execution_count": 32,
   "metadata": {},
   "outputs": [
    {
     "name": "stdout",
     "output_type": "stream",
     "text": [
      "Requirement already satisfied: xgboost in /home/shreyas/.local/lib/python3.8/site-packages (1.7.5)\n",
      "Requirement already satisfied: numpy in /home/shreyas/.local/lib/python3.8/site-packages (from xgboost) (1.23.3)\n",
      "Requirement already satisfied: scipy in /home/shreyas/.local/lib/python3.8/site-packages (from xgboost) (1.9.2)\n"
     ]
    }
   ],
   "source": [
    "# !pip install xgboost"
   ]
  },
  {
   "cell_type": "code",
   "execution_count": 33,
   "metadata": {},
   "outputs": [],
   "source": [
    "from xgboost import XGBRanker"
   ]
  },
  {
   "cell_type": "code",
   "execution_count": 34,
   "metadata": {},
   "outputs": [
    {
     "ename": "",
     "evalue": "",
     "output_type": "error",
     "traceback": [
      "\u001b[1;31mCanceled future for execute_request message before replies were done"
     ]
    },
    {
     "ename": "",
     "evalue": "",
     "output_type": "error",
     "traceback": [
      "\u001b[1;31mThe Kernel crashed while executing code in the the current cell or a previous cell. Please review the code in the cell(s) to identify a possible cause of the failure. Click <a href='https://aka.ms/vscodeJupyterKernelCrash'>here</a> for more info. View Jupyter <a href='command:jupyter.viewOutput'>log</a> for further details."
     ]
    }
   ],
   "source": [
    "df = pd.read_csv('train_preprocessed.csv')\n",
    "df.head()"
   ]
  },
  {
   "cell_type": "code",
   "execution_count": null,
   "metadata": {},
   "outputs": [],
   "source": [
    "X = df\n",
    "train_groups = X.groupby('srch_id').size().to_frame('size')['size'].to_numpy()\n",
    "\n",
    "relevances = X['relevance']\n",
    "\n",
    "X= X.loc[:, ~X.columns.isin(['srch_id','relevance'])]\n",
    "y = relevances"
   ]
  },
  {
   "cell_type": "code",
   "execution_count": null,
   "metadata": {},
   "outputs": [
    {
     "data": {
      "text/plain": [
       "Index(['site_id', 'visitor_location_country_id', 'prop_country_id', 'prop_id',\n",
       "       'prop_starrating', 'prop_review_score', 'prop_brand_bool',\n",
       "       'prop_location_score1', 'prop_location_score2',\n",
       "       'prop_log_historical_price', 'position', 'price_usd', 'promotion_flag',\n",
       "       'srch_destination_id', 'srch_length_of_stay', 'srch_booking_window',\n",
       "       'srch_adults_count', 'srch_children_count', 'srch_room_count',\n",
       "       'srch_saturday_night_bool', 'orig_destination_distance', 'random_bool',\n",
       "       'click_bool', 'booking_bool', 'month',\n",
       "       'prop_starrating_location_interaction', 'price_historical_interaction',\n",
       "       'total_time_duration', 'highly_rated_prop', 'total_people'],\n",
       "      dtype='object')"
      ]
     },
     "execution_count": 21,
     "metadata": {},
     "output_type": "execute_result"
    }
   ],
   "source": [
    "X.columns"
   ]
  },
  {
   "cell_type": "code",
   "execution_count": null,
   "metadata": {},
   "outputs": [],
   "source": [
    "X = X.drop(['booking_bool','position','random_bool','prop_id','click_bool'], axis=1)\n"
   ]
  },
  {
   "cell_type": "code",
   "execution_count": null,
   "metadata": {},
   "outputs": [
    {
     "name": "stderr",
     "output_type": "stream",
     "text": [
      "/home/shreyas/.local/lib/python3.8/site-packages/xgboost/sklearn.py:835: UserWarning: `eval_metric` in `fit` method is deprecated for better compatibility with scikit-learn, use `eval_metric` in constructor or`set_params` instead.\n",
      "  warnings.warn(\n"
     ]
    },
    {
     "name": "stdout",
     "output_type": "stream",
     "text": [
      "[0]\tvalidation_0-ndcg@5:0.26795\n",
      "[1]\tvalidation_0-ndcg@5:0.27300\n",
      "[2]\tvalidation_0-ndcg@5:0.27295\n",
      "[3]\tvalidation_0-ndcg@5:0.27299\n",
      "[4]\tvalidation_0-ndcg@5:0.27447\n",
      "[5]\tvalidation_0-ndcg@5:0.27433\n",
      "[6]\tvalidation_0-ndcg@5:0.27842\n",
      "[7]\tvalidation_0-ndcg@5:0.27901\n",
      "[8]\tvalidation_0-ndcg@5:0.28048\n",
      "[9]\tvalidation_0-ndcg@5:0.28147\n",
      "[10]\tvalidation_0-ndcg@5:0.28196\n",
      "[11]\tvalidation_0-ndcg@5:0.28298\n",
      "[12]\tvalidation_0-ndcg@5:0.28338\n",
      "[13]\tvalidation_0-ndcg@5:0.28352\n",
      "[14]\tvalidation_0-ndcg@5:0.28432\n",
      "[15]\tvalidation_0-ndcg@5:0.28603\n",
      "[16]\tvalidation_0-ndcg@5:0.28795\n",
      "[17]\tvalidation_0-ndcg@5:0.28876\n",
      "[18]\tvalidation_0-ndcg@5:0.28930\n",
      "[19]\tvalidation_0-ndcg@5:0.29129\n",
      "[20]\tvalidation_0-ndcg@5:0.29191\n",
      "[21]\tvalidation_0-ndcg@5:0.29246\n",
      "[22]\tvalidation_0-ndcg@5:0.29319\n",
      "[23]\tvalidation_0-ndcg@5:0.29482\n",
      "[24]\tvalidation_0-ndcg@5:0.29598\n",
      "[25]\tvalidation_0-ndcg@5:0.29806\n",
      "[26]\tvalidation_0-ndcg@5:0.29860\n",
      "[27]\tvalidation_0-ndcg@5:0.30008\n",
      "[28]\tvalidation_0-ndcg@5:0.30121\n",
      "[29]\tvalidation_0-ndcg@5:0.30258\n",
      "[30]\tvalidation_0-ndcg@5:0.30340\n",
      "[31]\tvalidation_0-ndcg@5:0.30429\n",
      "[32]\tvalidation_0-ndcg@5:0.30551\n",
      "[33]\tvalidation_0-ndcg@5:0.30664\n",
      "[34]\tvalidation_0-ndcg@5:0.30772\n",
      "[35]\tvalidation_0-ndcg@5:0.30872\n",
      "[36]\tvalidation_0-ndcg@5:0.30963\n",
      "[37]\tvalidation_0-ndcg@5:0.31000\n",
      "[38]\tvalidation_0-ndcg@5:0.31073\n",
      "[39]\tvalidation_0-ndcg@5:0.31133\n",
      "[40]\tvalidation_0-ndcg@5:0.31204\n",
      "[41]\tvalidation_0-ndcg@5:0.31268\n",
      "[42]\tvalidation_0-ndcg@5:0.31324\n",
      "[43]\tvalidation_0-ndcg@5:0.31376\n",
      "[44]\tvalidation_0-ndcg@5:0.31416\n",
      "[45]\tvalidation_0-ndcg@5:0.31482\n",
      "[46]\tvalidation_0-ndcg@5:0.31525\n",
      "[47]\tvalidation_0-ndcg@5:0.31571\n",
      "[48]\tvalidation_0-ndcg@5:0.31637\n",
      "[49]\tvalidation_0-ndcg@5:0.31684\n",
      "[50]\tvalidation_0-ndcg@5:0.31727\n",
      "[51]\tvalidation_0-ndcg@5:0.31783\n",
      "[52]\tvalidation_0-ndcg@5:0.31858\n",
      "[53]\tvalidation_0-ndcg@5:0.31919\n",
      "[54]\tvalidation_0-ndcg@5:0.32005\n",
      "[55]\tvalidation_0-ndcg@5:0.32063\n",
      "[56]\tvalidation_0-ndcg@5:0.32113\n",
      "[57]\tvalidation_0-ndcg@5:0.32167\n",
      "[58]\tvalidation_0-ndcg@5:0.32229\n",
      "[59]\tvalidation_0-ndcg@5:0.32260\n",
      "[60]\tvalidation_0-ndcg@5:0.32301\n",
      "[61]\tvalidation_0-ndcg@5:0.32368\n",
      "[62]\tvalidation_0-ndcg@5:0.32397\n",
      "[63]\tvalidation_0-ndcg@5:0.32458\n",
      "[64]\tvalidation_0-ndcg@5:0.32506\n",
      "[65]\tvalidation_0-ndcg@5:0.32537\n",
      "[66]\tvalidation_0-ndcg@5:0.32581\n",
      "[67]\tvalidation_0-ndcg@5:0.32641\n",
      "[68]\tvalidation_0-ndcg@5:0.32671\n",
      "[69]\tvalidation_0-ndcg@5:0.32701\n",
      "[70]\tvalidation_0-ndcg@5:0.32755\n",
      "[71]\tvalidation_0-ndcg@5:0.32778\n",
      "[72]\tvalidation_0-ndcg@5:0.32790\n",
      "[73]\tvalidation_0-ndcg@5:0.32819\n",
      "[74]\tvalidation_0-ndcg@5:0.32868\n",
      "[75]\tvalidation_0-ndcg@5:0.32893\n",
      "[76]\tvalidation_0-ndcg@5:0.32946\n",
      "[77]\tvalidation_0-ndcg@5:0.32991\n",
      "[78]\tvalidation_0-ndcg@5:0.33015\n",
      "[79]\tvalidation_0-ndcg@5:0.33051\n",
      "[80]\tvalidation_0-ndcg@5:0.33092\n",
      "[81]\tvalidation_0-ndcg@5:0.33122\n",
      "[82]\tvalidation_0-ndcg@5:0.33158\n",
      "[83]\tvalidation_0-ndcg@5:0.33194\n",
      "[84]\tvalidation_0-ndcg@5:0.33212\n",
      "[85]\tvalidation_0-ndcg@5:0.33235\n",
      "[86]\tvalidation_0-ndcg@5:0.33271\n",
      "[87]\tvalidation_0-ndcg@5:0.33315\n",
      "[88]\tvalidation_0-ndcg@5:0.33331\n",
      "[89]\tvalidation_0-ndcg@5:0.33358\n",
      "[90]\tvalidation_0-ndcg@5:0.33387\n",
      "[91]\tvalidation_0-ndcg@5:0.33412\n",
      "[92]\tvalidation_0-ndcg@5:0.33429\n",
      "[93]\tvalidation_0-ndcg@5:0.33455\n",
      "[94]\tvalidation_0-ndcg@5:0.33490\n",
      "[95]\tvalidation_0-ndcg@5:0.33516\n",
      "[96]\tvalidation_0-ndcg@5:0.33537\n",
      "[97]\tvalidation_0-ndcg@5:0.33566\n",
      "[98]\tvalidation_0-ndcg@5:0.33576\n",
      "[99]\tvalidation_0-ndcg@5:0.33601\n"
     ]
    },
    {
     "data": {
      "text/html": [
       "<style>#sk-container-id-2 {color: black;background-color: white;}#sk-container-id-2 pre{padding: 0;}#sk-container-id-2 div.sk-toggleable {background-color: white;}#sk-container-id-2 label.sk-toggleable__label {cursor: pointer;display: block;width: 100%;margin-bottom: 0;padding: 0.3em;box-sizing: border-box;text-align: center;}#sk-container-id-2 label.sk-toggleable__label-arrow:before {content: \"▸\";float: left;margin-right: 0.25em;color: #696969;}#sk-container-id-2 label.sk-toggleable__label-arrow:hover:before {color: black;}#sk-container-id-2 div.sk-estimator:hover label.sk-toggleable__label-arrow:before {color: black;}#sk-container-id-2 div.sk-toggleable__content {max-height: 0;max-width: 0;overflow: hidden;text-align: left;background-color: #f0f8ff;}#sk-container-id-2 div.sk-toggleable__content pre {margin: 0.2em;color: black;border-radius: 0.25em;background-color: #f0f8ff;}#sk-container-id-2 input.sk-toggleable__control:checked~div.sk-toggleable__content {max-height: 200px;max-width: 100%;overflow: auto;}#sk-container-id-2 input.sk-toggleable__control:checked~label.sk-toggleable__label-arrow:before {content: \"▾\";}#sk-container-id-2 div.sk-estimator input.sk-toggleable__control:checked~label.sk-toggleable__label {background-color: #d4ebff;}#sk-container-id-2 div.sk-label input.sk-toggleable__control:checked~label.sk-toggleable__label {background-color: #d4ebff;}#sk-container-id-2 input.sk-hidden--visually {border: 0;clip: rect(1px 1px 1px 1px);clip: rect(1px, 1px, 1px, 1px);height: 1px;margin: -1px;overflow: hidden;padding: 0;position: absolute;width: 1px;}#sk-container-id-2 div.sk-estimator {font-family: monospace;background-color: #f0f8ff;border: 1px dotted black;border-radius: 0.25em;box-sizing: border-box;margin-bottom: 0.5em;}#sk-container-id-2 div.sk-estimator:hover {background-color: #d4ebff;}#sk-container-id-2 div.sk-parallel-item::after {content: \"\";width: 100%;border-bottom: 1px solid gray;flex-grow: 1;}#sk-container-id-2 div.sk-label:hover label.sk-toggleable__label {background-color: #d4ebff;}#sk-container-id-2 div.sk-serial::before {content: \"\";position: absolute;border-left: 1px solid gray;box-sizing: border-box;top: 0;bottom: 0;left: 50%;z-index: 0;}#sk-container-id-2 div.sk-serial {display: flex;flex-direction: column;align-items: center;background-color: white;padding-right: 0.2em;padding-left: 0.2em;position: relative;}#sk-container-id-2 div.sk-item {position: relative;z-index: 1;}#sk-container-id-2 div.sk-parallel {display: flex;align-items: stretch;justify-content: center;background-color: white;position: relative;}#sk-container-id-2 div.sk-item::before, #sk-container-id-2 div.sk-parallel-item::before {content: \"\";position: absolute;border-left: 1px solid gray;box-sizing: border-box;top: 0;bottom: 0;left: 50%;z-index: -1;}#sk-container-id-2 div.sk-parallel-item {display: flex;flex-direction: column;z-index: 1;position: relative;background-color: white;}#sk-container-id-2 div.sk-parallel-item:first-child::after {align-self: flex-end;width: 50%;}#sk-container-id-2 div.sk-parallel-item:last-child::after {align-self: flex-start;width: 50%;}#sk-container-id-2 div.sk-parallel-item:only-child::after {width: 0;}#sk-container-id-2 div.sk-dashed-wrapped {border: 1px dashed gray;margin: 0 0.4em 0.5em 0.4em;box-sizing: border-box;padding-bottom: 0.4em;background-color: white;}#sk-container-id-2 div.sk-label label {font-family: monospace;font-weight: bold;display: inline-block;line-height: 1.2em;}#sk-container-id-2 div.sk-label-container {text-align: center;}#sk-container-id-2 div.sk-container {/* jupyter's `normalize.less` sets `[hidden] { display: none; }` but bootstrap.min.css set `[hidden] { display: none !important; }` so we also need the `!important` here to be able to override the default hidden behavior on the sphinx rendered scikit-learn.org. See: https://github.com/scikit-learn/scikit-learn/issues/21755 */display: inline-block !important;position: relative;}#sk-container-id-2 div.sk-text-repr-fallback {display: none;}</style><div id=\"sk-container-id-2\" class=\"sk-top-container\"><div class=\"sk-text-repr-fallback\"><pre>XGBRanker(base_score=None, booster=None, callbacks=None, colsample_bylevel=None,\n",
       "          colsample_bynode=None, colsample_bytree=None,\n",
       "          early_stopping_rounds=None, enable_categorical=False,\n",
       "          eval_metric=None, feature_types=None, gamma=None, gpu_id=None,\n",
       "          grow_policy=None, importance_type=None, interaction_constraints=None,\n",
       "          learning_rate=0.1, max_bin=None, max_cat_threshold=None,\n",
       "          max_cat_to_onehot=None, max_delta_step=None, max_depth=None,\n",
       "          max_leaves=None, min_child_weight=None, missing=nan,\n",
       "          monotone_constraints=None, n_estimators=100, n_jobs=None,\n",
       "          num_parallel_tree=None, objective=&#x27;rank:ndcg&#x27;, predictor=None, ...)</pre><b>In a Jupyter environment, please rerun this cell to show the HTML representation or trust the notebook. <br />On GitHub, the HTML representation is unable to render, please try loading this page with nbviewer.org.</b></div><div class=\"sk-container\" hidden><div class=\"sk-item\"><div class=\"sk-estimator sk-toggleable\"><input class=\"sk-toggleable__control sk-hidden--visually\" id=\"sk-estimator-id-2\" type=\"checkbox\" checked><label for=\"sk-estimator-id-2\" class=\"sk-toggleable__label sk-toggleable__label-arrow\">XGBRanker</label><div class=\"sk-toggleable__content\"><pre>XGBRanker(base_score=None, booster=None, callbacks=None, colsample_bylevel=None,\n",
       "          colsample_bynode=None, colsample_bytree=None,\n",
       "          early_stopping_rounds=None, enable_categorical=False,\n",
       "          eval_metric=None, feature_types=None, gamma=None, gpu_id=None,\n",
       "          grow_policy=None, importance_type=None, interaction_constraints=None,\n",
       "          learning_rate=0.1, max_bin=None, max_cat_threshold=None,\n",
       "          max_cat_to_onehot=None, max_delta_step=None, max_depth=None,\n",
       "          max_leaves=None, min_child_weight=None, missing=nan,\n",
       "          monotone_constraints=None, n_estimators=100, n_jobs=None,\n",
       "          num_parallel_tree=None, objective=&#x27;rank:ndcg&#x27;, predictor=None, ...)</pre></div></div></div></div></div>"
      ],
      "text/plain": [
       "XGBRanker(base_score=None, booster=None, callbacks=None, colsample_bylevel=None,\n",
       "          colsample_bynode=None, colsample_bytree=None,\n",
       "          early_stopping_rounds=None, enable_categorical=False,\n",
       "          eval_metric=None, feature_types=None, gamma=None, gpu_id=None,\n",
       "          grow_policy=None, importance_type=None, interaction_constraints=None,\n",
       "          learning_rate=0.1, max_bin=None, max_cat_threshold=None,\n",
       "          max_cat_to_onehot=None, max_delta_step=None, max_depth=None,\n",
       "          max_leaves=None, min_child_weight=None, missing=nan,\n",
       "          monotone_constraints=None, n_estimators=100, n_jobs=None,\n",
       "          num_parallel_tree=None, objective='rank:ndcg', predictor=None, ...)"
      ]
     },
     "execution_count": 23,
     "metadata": {},
     "output_type": "execute_result"
    }
   ],
   "source": [
    "model = XGBRanker(\n",
    "                  objective='rank:ndcg', \n",
    "                  n_estimators=200, \n",
    "                  random_state=0,\n",
    "                  learning_rate=0.1)\n",
    "\n",
    "\n",
    "model.fit(\n",
    "    X,\n",
    "    y,\n",
    "    group=train_groups,\n",
    "    eval_metric='ndcg@5',\n",
    "    eval_set=[(X, y)],\n",
    "    eval_group=[list(train_groups)],\n",
    "    verbose=True\n",
    ")"
   ]
  },
  {
   "cell_type": "code",
   "execution_count": null,
   "metadata": {},
   "outputs": [
    {
     "data": {
      "text/plain": [
       "<Axes: >"
      ]
     },
     "execution_count": 24,
     "metadata": {},
     "output_type": "execute_result"
    },
    {
     "data": {
      "image/png": "[encoded data removed]",
      "text/plain": [
       "<Figure size 640x480 with 1 Axes>"
      ]
     },
     "metadata": {},
     "output_type": "display_data"
    }
   ],
   "source": [
    "feat_importances = pd.Series(model.feature_importances_, index=X.columns)\n",
    "feat_importances.nlargest(10).plot(kind='barh')"
   ]
  },
  {
   "cell_type": "code",
   "execution_count": null,
   "metadata": {},
   "outputs": [],
   "source": [
    "test_df = pd.read_csv('test_preprocessed.csv')"
   ]
  },
  {
   "cell_type": "code",
   "execution_count": null,
   "metadata": {},
   "outputs": [
    {
     "name": "stdout",
     "output_type": "stream",
     "text": [
      "4959183\n"
     ]
    }
   ],
   "source": [
    "print(len(test_df))"
   ]
  },
  {
   "cell_type": "code",
   "execution_count": null,
   "metadata": {},
   "outputs": [],
   "source": [
    "def sort_properties(srch_id, scores, prop_ids):\n",
    "    sorted_group = pd.DataFrame(columns=['srch_id', 'prop_id', 'scores'])\n",
    "    sorted_group['srch_id'] = len(scores)*[srch_id]\n",
    "    sorted_group['prop_id'] = prop_ids.values\n",
    "    sorted_group['scores'] = scores\n",
    "    sorted_group = sorted_group.sort_values(by='scores', ascending=False)\n",
    "    return sorted_group \n",
    "\n",
    "def recommend_properties(model, data):\n",
    "    result = pd.DataFrame(columns=['srch_id', 'prop_id', 'scores'])\n",
    "    df_list = []\n",
    "    grouped_data = data.groupby('srch_id')\n",
    "    for group_name, group in tqdm(grouped_data):\n",
    "        scores = model.predict(group.loc[:, ~group.columns.isin(['srch_id','prop_id'])])\n",
    "        sorted_group = sort_properties(group_name, scores, group['prop_id'])\n",
    "        df_list.append(sorted_group)\n",
    "    result = pd.concat(df_list)\n",
    "    return result"
   ]
  },
  {
   "cell_type": "code",
   "execution_count": null,
   "metadata": {},
   "outputs": [
    {
     "data": {
      "text/plain": [
       "Index(['site_id', 'visitor_location_country_id', 'prop_country_id',\n",
       "       'prop_starrating', 'prop_review_score', 'prop_brand_bool',\n",
       "       'prop_location_score1', 'prop_location_score2',\n",
       "       'prop_log_historical_price', 'price_usd', 'promotion_flag',\n",
       "       'srch_destination_id', 'srch_length_of_stay', 'srch_booking_window',\n",
       "       'srch_adults_count', 'srch_children_count', 'srch_room_count',\n",
       "       'srch_saturday_night_bool', 'orig_destination_distance', 'month',\n",
       "       'prop_starrating_location_interaction', 'price_historical_interaction',\n",
       "       'total_time_duration', 'highly_rated_prop', 'total_people'],\n",
       "      dtype='object')"
      ]
     },
     "execution_count": 28,
     "metadata": {},
     "output_type": "execute_result"
    }
   ],
   "source": [
    "X.columns"
   ]
  },
  {
   "cell_type": "code",
   "execution_count": null,
   "metadata": {
    "scrolled": true
   },
   "outputs": [
    {
     "data": {
      "text/plain": [
       "Index(['srch_id', 'site_id', 'visitor_location_country_id', 'prop_country_id',\n",
       "       'prop_id', 'prop_starrating', 'prop_review_score', 'prop_brand_bool',\n",
       "       'prop_location_score1', 'prop_location_score2',\n",
       "       'prop_log_historical_price', 'price_usd', 'promotion_flag',\n",
       "       'srch_destination_id', 'srch_length_of_stay', 'srch_booking_window',\n",
       "       'srch_adults_count', 'srch_children_count', 'srch_room_count',\n",
       "       'srch_saturday_night_bool', 'orig_destination_distance', 'month',\n",
       "       'prop_starrating_location_interaction', 'price_historical_interaction',\n",
       "       'total_time_duration', 'highly_rated_prop', 'total_people'],\n",
       "      dtype='object')"
      ]
     },
     "execution_count": 29,
     "metadata": {},
     "output_type": "execute_result"
    }
   ],
   "source": [
    "test_df.columns"
   ]
  },
  {
   "cell_type": "code",
   "execution_count": null,
   "metadata": {},
   "outputs": [
    {
     "name": "stderr",
     "output_type": "stream",
     "text": [
      "100%|██████████| 199549/199549 [13:00<00:00, 255.64it/s]\n"
     ]
    },
    {
     "name": "stdout",
     "output_type": "stream",
     "text": [
      "Total Time for validation prediction:827.1502556800842\n"
     ]
    }
   ],
   "source": [
    "start = time.time()\n",
    "recommendations = recommend_properties(model, test_df)\n",
    "end = time.time()\n",
    "print(f'Total Time for validation prediction:{end - start}')\n",
    "submission = recommendations.drop(columns=['scores'])\n",
    "submission.to_csv(f'xgbranker_predictions.csv', index=False)"
   ]
  },
  {
   "cell_type": "code",
   "execution_count": null,
   "metadata": {},
   "outputs": [],
   "source": []
  }
 ],
 "metadata": {
  "kernelspec": {
   "display_name": "Python 3",
   "language": "python",
   "name": "python3"
  },
  "language_info": {
   "codemirror_mode": {
    "name": "ipython",
    "version": 3
   },
   "file_extension": ".py",
   "mimetype": "text/x-python",
   "name": "python",
   "nbconvert_exporter": "python",
   "pygments_lexer": "ipython3",
   "version": "3.8.10"
  }
 },
 "nbformat": 4,
 "nbformat_minor": 2
}
